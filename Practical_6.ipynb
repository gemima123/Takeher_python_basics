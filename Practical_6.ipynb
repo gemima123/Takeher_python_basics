{
 "cells": [
  {
   "cell_type": "markdown",
   "id": "bd6f6199",
   "metadata": {
    "id": "bd6f6199"
   },
   "source": [
    "# Practical_6: Numpy"
   ]
  },
  {
   "cell_type": "markdown",
   "id": "de325ed6",
   "metadata": {
    "id": "de325ed6"
   },
   "source": [
    "---\n",
    "\n",
    "### Exercise 1:\n",
    "Create a NumPy array of integers from 1 to 10.\n"
   ]
  },
  {
   "cell_type": "code",
   "execution_count": 1,
   "id": "9b904697",
   "metadata": {
    "id": "9b904697"
   },
   "outputs": [
    {
     "name": "stdout",
     "output_type": "stream",
     "text": [
      "[ 1  2  3  4  5  6  7  8  9 10]\n"
     ]
    }
   ],
   "source": [
    "# Exercise 1\n",
    "import numpy as np\n",
    "\n",
    "arr = np.arange(1, 11)\n",
    "print(arr)\n"
   ]
  },
  {
   "cell_type": "markdown",
   "id": "745710c7",
   "metadata": {
    "id": "745710c7"
   },
   "source": [
    "\n",
    "---\n",
    "\n",
    "### Exercise 2:\n",
    "Create a 3x3 NumPy array filled with zeros.\n"
   ]
  },
  {
   "cell_type": "code",
   "execution_count": 3,
   "id": "875235f1",
   "metadata": {
    "id": "875235f1"
   },
   "outputs": [
    {
     "name": "stdout",
     "output_type": "stream",
     "text": [
      "[[0. 0. 0.]\n",
      " [0. 0. 0.]\n",
      " [0. 0. 0.]]\n"
     ]
    }
   ],
   "source": [
    "# Exercise 2\n",
    "import numpy as np\n",
    "\n",
    "zeros_array = np.zeros((3, 3))\n",
    "print(zeros_array)\n"
   ]
  },
  {
   "cell_type": "markdown",
   "id": "a542ea80",
   "metadata": {
    "id": "a542ea80"
   },
   "source": [
    "\n",
    "---\n",
    "\n",
    "### Exercise 3:\n",
    "Create a NumPy array of 10 evenly spaced numbers between 0 and 5.\n"
   ]
  },
  {
   "cell_type": "code",
   "execution_count": 4,
   "id": "97c6ba4a",
   "metadata": {
    "id": "97c6ba4a"
   },
   "outputs": [
    {
     "name": "stdout",
     "output_type": "stream",
     "text": [
      "[0.         0.55555556 1.11111111 1.66666667 2.22222222 2.77777778\n",
      " 3.33333333 3.88888889 4.44444444 5.        ]\n"
     ]
    }
   ],
   "source": [
    "# Exercise 3\n",
    "import numpy as np\n",
    "\n",
    "evenly_spaced = np.linspace(0, 5, 10)\n",
    "print(evenly_spaced)\n"
   ]
  },
  {
   "cell_type": "markdown",
   "id": "e92d80cc",
   "metadata": {
    "id": "e92d80cc"
   },
   "source": [
    "\n",
    "---\n",
    "\n",
    "### Exercise 4:\n",
    "Create a 5x5 identity matrix using NumPy.\n"
   ]
  },
  {
   "cell_type": "code",
   "execution_count": 5,
   "id": "c5213bd2",
   "metadata": {
    "id": "c5213bd2"
   },
   "outputs": [
    {
     "name": "stdout",
     "output_type": "stream",
     "text": [
      "[[1. 0. 0. 0. 0.]\n",
      " [0. 1. 0. 0. 0.]\n",
      " [0. 0. 1. 0. 0.]\n",
      " [0. 0. 0. 1. 0.]\n",
      " [0. 0. 0. 0. 1.]]\n"
     ]
    }
   ],
   "source": [
    "# Exercise 4\n",
    "import numpy as np\n",
    "\n",
    "identity_matrix = np.eye(5)\n",
    "print(identity_matrix)\n"
   ]
  },
  {
   "cell_type": "markdown",
   "id": "a16f88e7",
   "metadata": {
    "id": "a16f88e7"
   },
   "source": [
    "\n",
    "---\n",
    "\n",
    "### Exercise 5:\n",
    "Create a 4x4 matrix with random values between 0 and 1.\n"
   ]
  },
  {
   "cell_type": "code",
   "execution_count": 6,
   "id": "2b16922b",
   "metadata": {
    "id": "2b16922b"
   },
   "outputs": [
    {
     "name": "stdout",
     "output_type": "stream",
     "text": [
      "[[0.67828444 0.84556267 0.98655409 0.53593025]\n",
      " [0.74241852 0.72621534 0.02931426 0.28153531]\n",
      " [0.26393709 0.79098768 0.24814418 0.07941852]\n",
      " [0.82284306 0.16775979 0.68815158 0.85081648]]\n"
     ]
    }
   ],
   "source": [
    "# Exercise 5\n",
    "import numpy as np\n",
    "\n",
    "random_matrix = np.random.rand(4, 4)\n",
    "print(random_matrix)\n"
   ]
  },
  {
   "cell_type": "markdown",
   "id": "cc9af8fd",
   "metadata": {
    "id": "cc9af8fd"
   },
   "source": [
    "\n",
    "---\n",
    "\n",
    "### Exercise 6:\n",
    "Find the shape of a NumPy array.\n"
   ]
  },
  {
   "cell_type": "code",
   "execution_count": 7,
   "id": "359864d2",
   "metadata": {
    "id": "359864d2"
   },
   "outputs": [
    {
     "name": "stdout",
     "output_type": "stream",
     "text": [
      "(2, 3)\n"
     ]
    }
   ],
   "source": [
    "# Exercise 6\n",
    "import numpy as np\n",
    "\n",
    "arr = np.array([[1, 2, 3], [4, 5, 6]])\n",
    "print(arr.shape)\n"
   ]
  },
  {
   "cell_type": "markdown",
   "id": "ada0aff6",
   "metadata": {
    "id": "ada0aff6"
   },
   "source": [
    "\n",
    "---\n",
    "\n",
    "### Exercise 7:\n",
    "Reshape a 1D NumPy array of 16 elements into a 4x4 matrix.\n"
   ]
  },
  {
   "cell_type": "code",
   "execution_count": 8,
   "id": "43fcb4b3",
   "metadata": {
    "id": "43fcb4b3"
   },
   "outputs": [
    {
     "name": "stdout",
     "output_type": "stream",
     "text": [
      "[[ 0  1  2  3]\n",
      " [ 4  5  6  7]\n",
      " [ 8  9 10 11]\n",
      " [12 13 14 15]]\n"
     ]
    }
   ],
   "source": [
    "# Exercise 7\n",
    "import numpy as np\n",
    "\n",
    "arr = np.arange(16)  # Creates a 1D array with values from 0 to 15\n",
    "reshaped_matrix = arr.reshape(4, 4)\n",
    "print(reshaped_matrix)\n"
   ]
  },
  {
   "cell_type": "markdown",
   "id": "d384142a",
   "metadata": {
    "id": "d384142a"
   },
   "source": [
    "\n",
    "---\n",
    "\n",
    "### Exercise 8:\n",
    "Find the data type of the elements in a NumPy array.\n"
   ]
  },
  {
   "cell_type": "code",
   "execution_count": 11,
   "id": "bf4dca5a",
   "metadata": {
    "id": "bf4dca5a"
   },
   "outputs": [
    {
     "name": "stdout",
     "output_type": "stream",
     "text": [
      "float64\n"
     ]
    }
   ],
   "source": [
    "# Exercise 8\n",
    "import numpy as np\n",
    "\n",
    "arr = np.array([0.1, 0.2, 3])\n",
    "print(arr.dtype)\n"
   ]
  },
  {
   "cell_type": "markdown",
   "id": "c295ca54",
   "metadata": {
    "id": "c295ca54"
   },
   "source": [
    "\n",
    "---\n",
    "\n",
    "### Exercise 9:\n",
    "Create a NumPy array of integers from 1 to 100 and find all even numbers in the array.\n"
   ]
  },
  {
   "cell_type": "code",
   "execution_count": 10,
   "id": "28a61c5e",
   "metadata": {
    "id": "28a61c5e"
   },
   "outputs": [
    {
     "name": "stdout",
     "output_type": "stream",
     "text": [
      "[  2   4   6   8  10  12  14  16  18  20  22  24  26  28  30  32  34  36\n",
      "  38  40  42  44  46  48  50  52  54  56  58  60  62  64  66  68  70  72\n",
      "  74  76  78  80  82  84  86  88  90  92  94  96  98 100]\n"
     ]
    }
   ],
   "source": [
    "# Exercise 9\n",
    "import numpy as np\n",
    "\n",
    "# Create an array from 1 to 100\n",
    "arr = np.arange(1, 101)\n",
    "\n",
    "# Find even numbers using a boolean mask\n",
    "even_numbers = arr[arr % 2 == 0]\n",
    "\n",
    "print(even_numbers)\n"
   ]
  },
  {
   "cell_type": "markdown",
   "id": "72103956",
   "metadata": {
    "id": "72103956"
   },
   "source": [
    "\n",
    "---\n",
    "\n",
    "### Exercise 10:\n",
    "Generate a 6x6 matrix of random integers between 10 and 50.\n"
   ]
  },
  {
   "cell_type": "code",
   "execution_count": 12,
   "id": "ce04300e",
   "metadata": {
    "id": "ce04300e"
   },
   "outputs": [
    {
     "name": "stdout",
     "output_type": "stream",
     "text": [
      "[[47 15 17 25 49 30]\n",
      " [20 40 13 13 26 47]\n",
      " [31 43 13 30 34 21]\n",
      " [26 23 39 14 23 16]\n",
      " [22 44 18 31 21 42]\n",
      " [27 26 11 22 15 48]]\n"
     ]
    }
   ],
   "source": [
    "# Exercise 10\n",
    "import numpy as np\n",
    "\n",
    "random_int_matri = np.random.randint(10, 51, size=(6, 6))\n",
    "print(random_int_matri)\n"
   ]
  },
  {
   "cell_type": "markdown",
   "id": "3dd1a085",
   "metadata": {
    "id": "3dd1a085"
   },
   "source": [
    "\n",
    "---\n",
    "\n",
    "### Exercise 11:\n",
    "Slice a 2D NumPy array to extract a submatrix.\n"
   ]
  },
  {
   "cell_type": "code",
   "execution_count": 13,
   "id": "b8fc90ba",
   "metadata": {
    "id": "b8fc90ba"
   },
   "outputs": [
    {
     "name": "stdout",
     "output_type": "stream",
     "text": [
      "[[2 3]\n",
      " [5 6]]\n"
     ]
    }
   ],
   "source": [
    "# Exercise 11\n",
    "import numpy as np\n",
    "matrix = np.array([\n",
    "    [1, 2, 3],\n",
    "    [4, 5, 6],\n",
    "    [7, 8, 9]\n",
    "])\n",
    "submatrix = matrix[0:2, 1:3]\n",
    "print(submatrix)\n"
   ]
  },
  {
   "cell_type": "markdown",
   "id": "73a4344c",
   "metadata": {
    "id": "73a4344c"
   },
   "source": [
    "\n",
    "---\n",
    "\n",
    "### Exercise 12:\n",
    "Calculate the sum of all elements in a NumPy array.\n"
   ]
  },
  {
   "cell_type": "code",
   "execution_count": 14,
   "id": "3c417ff3",
   "metadata": {
    "id": "3c417ff3"
   },
   "outputs": [
    {
     "name": "stdout",
     "output_type": "stream",
     "text": [
      "21\n"
     ]
    }
   ],
   "source": [
    "# Exercise 12\n",
    "import numpy as np\n",
    "\n",
    "arr = np.array([[1, 2, 3], [4, 5, 6]])\n",
    "total_sum = arr.sum()\n",
    "\n",
    "print(total_sum)\n"
   ]
  },
  {
   "cell_type": "markdown",
   "id": "c2346362",
   "metadata": {
    "id": "c2346362"
   },
   "source": [
    "\n",
    "---\n",
    "\n",
    "### Exercise 13:\n",
    "Calculate the mean, median, and standard deviation of a NumPy array.\n"
   ]
  },
  {
   "cell_type": "code",
   "execution_count": 15,
   "id": "95e57182",
   "metadata": {
    "id": "95e57182"
   },
   "outputs": [
    {
     "name": "stdout",
     "output_type": "stream",
     "text": [
      "Mean: 5.0\n",
      "Median: 5.0\n",
      "Standard Deviation: 2.581988897471611\n"
     ]
    }
   ],
   "source": [
    "# Exercise 13\n",
    "import numpy as np\n",
    "\n",
    "arr = np.array([1, 2, 3, 4, 5, 6, 7, 8, 9])\n",
    "\n",
    "mean = np.mean(arr)\n",
    "median = np.median(arr)\n",
    "std_dev = np.std(arr)\n",
    "\n",
    "print(\"Mean:\", mean)\n",
    "print(\"Median:\", median)\n",
    "print(\"Standard Deviation:\", std_dev)\n"
   ]
  },
  {
   "cell_type": "markdown",
   "id": "67a4fdbd",
   "metadata": {
    "id": "67a4fdbd"
   },
   "source": [
    "\n",
    "---\n",
    "\n",
    "### Exercise 14:\n",
    "Find the maximum and minimum values in a NumPy array.\n"
   ]
  },
  {
   "cell_type": "code",
   "execution_count": 16,
   "id": "7959c765",
   "metadata": {
    "id": "7959c765"
   },
   "outputs": [
    {
     "name": "stdout",
     "output_type": "stream",
     "text": [
      "Maximum: 9\n",
      "Minimum: 1\n"
     ]
    }
   ],
   "source": [
    "# Exercise 14\n",
    "import numpy as np\n",
    "\n",
    "arr = np.array([3, 7, 1, 9, 4])\n",
    "\n",
    "max_value = arr.max()\n",
    "min_value = arr.min()\n",
    "\n",
    "print(\"Maximum:\", max_value)\n",
    "print(\"Minimum:\", min_value)\n"
   ]
  },
  {
   "cell_type": "markdown",
   "id": "8a705cd1",
   "metadata": {
    "id": "8a705cd1"
   },
   "source": [
    "\n",
    "---\n",
    "\n",
    "### Exercise 15:\n",
    "Create a NumPy array of 20 random integers and find the index of the maximum value.\n"
   ]
  },
  {
   "cell_type": "code",
   "execution_count": 17,
   "id": "c6748d73",
   "metadata": {
    "id": "c6748d73"
   },
   "outputs": [
    {
     "name": "stdout",
     "output_type": "stream",
     "text": [
      "Array: [ 57  57  73  45  63  40  98  90  55  70  28  98  69  83  17   2  78  76\n",
      "  94 100]\n",
      "Index of maximum value: 19\n",
      "Maximum value: 100\n"
     ]
    }
   ],
   "source": [
    "# Exercise 15\n",
    "import numpy as np\n",
    "arr = np.random.randint(1, 101, size=20)\n",
    "max_index = np.argmax(arr)\n",
    "\n",
    "print(\"Array:\", arr)\n",
    "print(\"Index of maximum value:\", max_index)\n",
    "print(\"Maximum value:\", arr[max_index])\n"
   ]
  },
  {
   "cell_type": "markdown",
   "id": "467ca6ac",
   "metadata": {
    "id": "467ca6ac"
   },
   "source": [
    "\n",
    "---\n",
    "\n",
    "### Exercise 16:\n",
    "Create a NumPy array and reverse its elements.\n"
   ]
  },
  {
   "cell_type": "code",
   "execution_count": 18,
   "id": "0a178eb6",
   "metadata": {
    "id": "0a178eb6"
   },
   "outputs": [
    {
     "name": "stdout",
     "output_type": "stream",
     "text": [
      "Original array: [10 20 30 40 50]\n",
      "Reversed array: [50 40 30 20 10]\n"
     ]
    }
   ],
   "source": [
    "# Exercise 16\n",
    "import numpy as np\n",
    "\n",
    "arr = np.array([10, 20, 30, 40, 50])\n",
    "reversed_arr = arr[::-1]\n",
    "\n",
    "print(\"Original array:\", arr)\n",
    "print(\"Reversed array:\", reversed_arr)\n"
   ]
  },
  {
   "cell_type": "markdown",
   "id": "b7d8ec92",
   "metadata": {
    "id": "b7d8ec92"
   },
   "source": [
    "\n",
    "---\n",
    "\n",
    "### Exercise 17:\n",
    "Create a 3x3 matrix and multiply it element-wise by another 3x3 matrix.\n"
   ]
  },
  {
   "cell_type": "code",
   "execution_count": 19,
   "id": "847ddc05",
   "metadata": {
    "id": "847ddc05"
   },
   "outputs": [
    {
     "name": "stdout",
     "output_type": "stream",
     "text": [
      "Matrix A:\n",
      " [[1 2 3]\n",
      " [4 5 6]\n",
      " [7 8 9]]\n",
      "Matrix B:\n",
      " [[9 8 7]\n",
      " [6 5 4]\n",
      " [3 2 1]]\n",
      "Element-wise multiplication:\n",
      " [[ 9 16 21]\n",
      " [24 25 24]\n",
      " [21 16  9]]\n"
     ]
    }
   ],
   "source": [
    "# Exercise 17\n",
    "import numpy as np\n",
    "A = np.array([[1, 2, 3],\n",
    "              [4, 5, 6],\n",
    "              [7, 8, 9]])\n",
    "\n",
    "B = np.array([[9, 8, 7],\n",
    "              [6, 5, 4],\n",
    "              [3, 2, 1]])\n",
    "result = A * B \n",
    "\n",
    "print(\"Matrix A:\\n\", A)\n",
    "print(\"Matrix B:\\n\", B)\n",
    "print(\"Element-wise multiplication:\\n\", result)\n"
   ]
  },
  {
   "cell_type": "markdown",
   "id": "58512446",
   "metadata": {
    "id": "58512446"
   },
   "source": [
    "\n",
    "---\n",
    "\n",
    "### Exercise 18:\n",
    "Create a diagonal matrix from a given 1D array.\n"
   ]
  },
  {
   "cell_type": "code",
   "execution_count": 20,
   "id": "bd7e9321",
   "metadata": {
    "id": "bd7e9321"
   },
   "outputs": [
    {
     "name": "stdout",
     "output_type": "stream",
     "text": [
      "1D array: [1 2 3 4]\n",
      "Diagonal matrix:\n",
      " [[1 0 0 0]\n",
      " [0 2 0 0]\n",
      " [0 0 3 0]\n",
      " [0 0 0 4]]\n"
     ]
    }
   ],
   "source": [
    "# Exercise 18\n",
    "import numpy as np\n",
    "\n",
    "arr = np.array([1, 2, 3, 4])\n",
    "diag_matrix = np.diag(arr)\n",
    "\n",
    "print(\"1D array:\", arr)\n",
    "print(\"Diagonal matrix:\\n\", diag_matrix)\n"
   ]
  },
  {
   "cell_type": "markdown",
   "id": "10be19e0",
   "metadata": {
    "id": "10be19e0"
   },
   "source": [
    "\n",
    "---\n",
    "\n",
    "### Exercise 19:\n",
    "Perform matrix multiplication on two 2D NumPy arrays.\n"
   ]
  },
  {
   "cell_type": "code",
   "execution_count": 21,
   "id": "c287973c",
   "metadata": {
    "id": "c287973c"
   },
   "outputs": [
    {
     "name": "stdout",
     "output_type": "stream",
     "text": [
      "Matrix A:\n",
      " [[1 2]\n",
      " [3 4]]\n",
      "Matrix B:\n",
      " [[5 6]\n",
      " [7 8]]\n",
      "Matrix multiplication result:\n",
      " [[19 22]\n",
      " [43 50]]\n"
     ]
    }
   ],
   "source": [
    "# Exercise 19\n",
    "import numpy as np\n",
    "A = np.array([[1, 2],\n",
    "              [3, 4]])\n",
    "\n",
    "B = np.array([[5, 6],\n",
    "              [7, 8]])\n",
    "result = A @ B  \n",
    "\n",
    "print(\"Matrix A:\\n\", A)\n",
    "print(\"Matrix B:\\n\", B)\n",
    "print(\"Matrix multiplication result:\\n\", result)\n"
   ]
  },
  {
   "cell_type": "markdown",
   "id": "932aa100",
   "metadata": {
    "id": "932aa100"
   },
   "source": [
    "\n",
    "---\n",
    "\n",
    "### Exercise 20:\n",
    "Flatten a 2D NumPy array into a 1D array.\n"
   ]
  },
  {
   "cell_type": "code",
   "execution_count": 22,
   "id": "0b2a7505",
   "metadata": {
    "id": "0b2a7505"
   },
   "outputs": [
    {
     "name": "stdout",
     "output_type": "stream",
     "text": [
      "Original 2D array:\n",
      " [[1 2 3]\n",
      " [4 5 6]]\n",
      "Flattened 1D array: [1 2 3 4 5 6]\n"
     ]
    }
   ],
   "source": [
    "# Exercise 20\n",
    "import numpy as np\n",
    "\n",
    "arr_2d = np.array([[1, 2, 3],\n",
    "                   [4, 5, 6]])\n",
    "arr_flat = arr_2d.flatten()  \n",
    "\n",
    "print(\"Original 2D array:\\n\", arr_2d)\n",
    "print(\"Flattened 1D array:\", arr_flat)\n"
   ]
  },
  {
   "cell_type": "markdown",
   "id": "43e4204e",
   "metadata": {
    "id": "43e4204e"
   },
   "source": [
    "\n",
    "---\n",
    "\n",
    "### Exercise 21:\n",
    "Stack two NumPy arrays vertically.\n"
   ]
  },
  {
   "cell_type": "code",
   "execution_count": 23,
   "id": "2fab6ed6",
   "metadata": {
    "id": "2fab6ed6"
   },
   "outputs": [
    {
     "name": "stdout",
     "output_type": "stream",
     "text": [
      "Array A:\n",
      " [[1 2]\n",
      " [3 4]]\n",
      "Array B:\n",
      " [[5 6]\n",
      " [7 8]]\n",
      "Vertically stacked array:\n",
      " [[1 2]\n",
      " [3 4]\n",
      " [5 6]\n",
      " [7 8]]\n"
     ]
    }
   ],
   "source": [
    "# Exercise 21\n",
    "import numpy as np\n",
    "a = np.array([[1, 2],\n",
    "              [3, 4]])\n",
    "\n",
    "b = np.array([[5, 6],\n",
    "              [7, 8]])\n",
    "stacked = np.vstack((a, b))\n",
    "\n",
    "print(\"Array A:\\n\", a)\n",
    "print(\"Array B:\\n\", b)\n",
    "print(\"Vertically stacked array:\\n\", stacked)\n"
   ]
  },
  {
   "cell_type": "markdown",
   "id": "54a62aed",
   "metadata": {
    "id": "54a62aed"
   },
   "source": [
    "\n",
    "---\n",
    "\n",
    "### Exercise 22:\n",
    "Stack two NumPy arrays horizontally.\n"
   ]
  },
  {
   "cell_type": "code",
   "execution_count": 24,
   "id": "38c62fcb",
   "metadata": {
    "id": "38c62fcb"
   },
   "outputs": [
    {
     "name": "stdout",
     "output_type": "stream",
     "text": [
      "Array A:\n",
      " [[1 2]\n",
      " [3 4]]\n",
      "Array B:\n",
      " [[5 6]\n",
      " [7 8]]\n",
      "Horizontally stacked array:\n",
      " [[1 2 5 6]\n",
      " [3 4 7 8]]\n"
     ]
    }
   ],
   "source": [
    "# Exercise 22\n",
    "import numpy as np\n",
    "a = np.array([[1, 2],\n",
    "              [3, 4]])\n",
    "\n",
    "b = np.array([[5, 6],\n",
    "              [7, 8]])\n",
    "stacked = np.hstack((a, b))\n",
    "\n",
    "print(\"Array A:\\n\", a)\n",
    "print(\"Array B:\\n\", b)\n",
    "print(\"Horizontally stacked array:\\n\", stacked)\n"
   ]
  },
  {
   "cell_type": "markdown",
   "id": "348ee442",
   "metadata": {
    "id": "348ee442"
   },
   "source": [
    "\n",
    "---\n",
    "\n",
    "### Exercise 23:\n",
    "Split a NumPy array into multiple sub-arrays.\n"
   ]
  },
  {
   "cell_type": "code",
   "execution_count": 25,
   "id": "bb591997",
   "metadata": {
    "id": "bb591997"
   },
   "outputs": [
    {
     "name": "stdout",
     "output_type": "stream",
     "text": [
      "[array([0, 1, 2]), array([3, 4, 5]), array([6, 7, 8])]\n"
     ]
    }
   ],
   "source": [
    "# Exercise 23\n",
    "import numpy as np\n",
    "\n",
    "arr = np.arange(9) \n",
    "\n",
    "sub_arrays = np.split(arr, 3)\n",
    "print(sub_arrays)\n"
   ]
  },
  {
   "cell_type": "markdown",
   "id": "b1f38f5f",
   "metadata": {
    "id": "b1f38f5f"
   },
   "source": [
    "\n",
    "---\n",
    "\n",
    "### Exercise 24:\n",
    "Generate a random NumPy array and round each element to two decimal places.\n"
   ]
  },
  {
   "cell_type": "code",
   "execution_count": 26,
   "id": "9627a34c",
   "metadata": {
    "id": "9627a34c"
   },
   "outputs": [
    {
     "name": "stdout",
     "output_type": "stream",
     "text": [
      "Original array:\n",
      " [[0.18148025 0.84298284 0.69426558]\n",
      " [0.95528415 0.04165011 0.55617138]\n",
      " [0.07623511 0.61163783 0.68086056]]\n",
      "Rounded array:\n",
      " [[0.18 0.84 0.69]\n",
      " [0.96 0.04 0.56]\n",
      " [0.08 0.61 0.68]]\n"
     ]
    }
   ],
   "source": [
    "# Exercise 24\n",
    "import numpy as n\n",
    "arr = np.random.rand(3, 3)\n",
    "rounded_arr = np.round(arr, 2)\n",
    "\n",
    "print(\"Original array:\\n\", arr)\n",
    "print(\"Rounded array:\\n\", rounded_arr)\n"
   ]
  },
  {
   "cell_type": "markdown",
   "id": "33eff49a",
   "metadata": {
    "id": "33eff49a"
   },
   "source": [
    "\n",
    "---\n",
    "\n",
    "### Exercise 25:\n",
    "Find the unique elements of a NumPy array.\n"
   ]
  },
  {
   "cell_type": "code",
   "execution_count": 27,
   "id": "820d6014",
   "metadata": {
    "id": "820d6014"
   },
   "outputs": [
    {
     "name": "stdout",
     "output_type": "stream",
     "text": [
      "Original array: [1 2 2 3 4 4 5]\n",
      "Unique elements: [1 2 3 4 5]\n"
     ]
    }
   ],
   "source": [
    "# Exercise 25\n",
    "import numpy as np\n",
    "\n",
    "arr = np.array([1, 2, 2, 3, 4, 4, 5])\n",
    "\n",
    "unique_elements = np.unique(arr)\n",
    "\n",
    "print(\"Original array:\", arr)\n",
    "print(\"Unique elements:\", unique_elements)\n"
   ]
  },
  {
   "cell_type": "markdown",
   "id": "a82dfd26",
   "metadata": {
    "id": "a82dfd26"
   },
   "source": [
    "\n",
    "---\n",
    "\n",
    "### Exercise 26:\n",
    "Replace all elements in a NumPy array that are less than a specific value with that value.\n"
   ]
  },
  {
   "cell_type": "code",
   "execution_count": 28,
   "id": "9317d8ff",
   "metadata": {
    "id": "9317d8ff"
   },
   "outputs": [
    {
     "name": "stdout",
     "output_type": "stream",
     "text": [
      "[5 5 6 5 8 5]\n"
     ]
    }
   ],
   "source": [
    "# Exercise 26\n",
    "import numpy as np\n",
    "\n",
    "arr = np.array([2, 4, 6, 1, 8, 3])\n",
    "arr[arr < 5] = 5\n",
    "print(arr)\n"
   ]
  },
  {
   "cell_type": "markdown",
   "id": "0b211e1c",
   "metadata": {
    "id": "0b211e1c"
   },
   "source": [
    "\n",
    "---\n",
    "\n",
    "### Exercise 27:\n",
    "Find the cumulative sum of the elements in a NumPy array.\n"
   ]
  },
  {
   "cell_type": "code",
   "execution_count": 29,
   "id": "d03b7264",
   "metadata": {
    "id": "d03b7264"
   },
   "outputs": [
    {
     "name": "stdout",
     "output_type": "stream",
     "text": [
      "Original array: [1 2 3 4 5]\n",
      "Cumulative sum: [ 1  3  6 10 15]\n"
     ]
    }
   ],
   "source": [
    "# Exercise 27\n",
    "import numpy as np\n",
    "\n",
    "arr = np.array([1, 2, 3, 4, 5])\n",
    "cumulative_sum = np.cumsum(arr)\n",
    "\n",
    "print(\"Original array:\", arr)\n",
    "print(\"Cumulative sum:\", cumulative_sum)\n"
   ]
  },
  {
   "cell_type": "markdown",
   "id": "837642b7",
   "metadata": {
    "id": "837642b7"
   },
   "source": [
    "\n",
    "---\n",
    "\n",
    "### Exercise 28:\n",
    "Create a NumPy array and find the number of non-zero elements in it.\n"
   ]
  },
  {
   "cell_type": "code",
   "execution_count": 30,
   "id": "fa2565c6",
   "metadata": {
    "id": "fa2565c6"
   },
   "outputs": [
    {
     "name": "stdout",
     "output_type": "stream",
     "text": [
      "Array: [0 1 2 0 3 0 4]\n",
      "Number of non-zero elements: 4\n"
     ]
    }
   ],
   "source": [
    "# Exercise 28\n",
    "import numpy as np\n",
    "\n",
    "arr = np.array([0, 1, 2, 0, 3, 0, 4])\n",
    "\n",
    "non_zero_count = np.count_nonzero(arr)\n",
    "print(\"Array:\", arr)\n",
    "print(\"Number of non-zero elements:\", non_zero_count)\n"
   ]
  },
  {
   "cell_type": "markdown",
   "id": "7d1f3704",
   "metadata": {
    "id": "7d1f3704"
   },
   "source": [
    "\n",
    "---\n",
    "\n",
    "### Exercise 29:\n",
    "Create a NumPy array of random integers and sort it in ascending order.\n"
   ]
  },
  {
   "cell_type": "code",
   "execution_count": 31,
   "id": "dfa23a6e",
   "metadata": {
    "id": "dfa23a6e"
   },
   "outputs": [
    {
     "name": "stdout",
     "output_type": "stream",
     "text": [
      "Original array: [66 39 79 80 42 87 33 67 58 61]\n",
      "Sorted array: [33 39 42 58 61 66 67 79 80 87]\n"
     ]
    }
   ],
   "source": [
    "# Exercise 29\n",
    "import numpy as np\n",
    "arr = np.random.randint(1, 101, size=10)\n",
    "sorted_arr = np.sort(arr)\n",
    "\n",
    "print(\"Original array:\", arr)\n",
    "print(\"Sorted array:\", sorted_arr)\n"
   ]
  },
  {
   "cell_type": "markdown",
   "id": "295b7ea8",
   "metadata": {
    "id": "295b7ea8"
   },
   "source": [
    "\n",
    "---\n",
    "\n",
    "### Exercise 30:\n",
    "Find the row-wise and column-wise sum of a 3x3 matrix.\n"
   ]
  },
  {
   "cell_type": "code",
   "execution_count": 32,
   "id": "963df701",
   "metadata": {
    "id": "963df701"
   },
   "outputs": [
    {
     "name": "stdout",
     "output_type": "stream",
     "text": [
      "Matrix:\n",
      " [[1 2 3]\n",
      " [4 5 6]\n",
      " [7 8 9]]\n",
      "Row-wise sums: [ 6 15 24]\n",
      "Column-wise sums: [12 15 18]\n"
     ]
    }
   ],
   "source": [
    "# Exercise 30\n",
    "import numpy as np\n",
    "\n",
    "matrix = np.array([[1, 2, 3],\n",
    "                   [4, 5, 6],\n",
    "                   [7, 8, 9]])\n",
    "row_sums = matrix.sum(axis=1)\n",
    "col_sums = matrix.sum(axis=0)\n",
    "\n",
    "print(\"Matrix:\\n\", matrix)\n",
    "print(\"Row-wise sums:\", row_sums)\n",
    "print(\"Column-wise sums:\", col_sums)\n"
   ]
  },
  {
   "cell_type": "markdown",
   "id": "158756fa",
   "metadata": {
    "id": "158756fa"
   },
   "source": [
    "\n",
    "---\n",
    "\n",
    "### Exercise 31:\n",
    "Generate a 2D NumPy array with random values and normalize it (scale the values between 0 and 1).\n"
   ]
  },
  {
   "cell_type": "code",
   "execution_count": 33,
   "id": "32ba8b29",
   "metadata": {
    "id": "32ba8b29"
   },
   "outputs": [
    {
     "name": "stdout",
     "output_type": "stream",
     "text": [
      "Original array:\n",
      " [[78.57341807 31.11422029  9.93246555 25.48945996]\n",
      " [18.00901205 32.50139508 41.23586765  4.45451967]\n",
      " [27.05196813 34.50701681 36.92690111 72.79771016]\n",
      " [24.08026803 43.9339597  92.38432365 57.87360763]]\n",
      "\n",
      "Normalized array:\n",
      " [[0.8429326  0.303193   0.06229908 0.23922424]\n",
      " [0.15415129 0.31896893 0.41830354 0.        ]\n",
      " [0.25699419 0.34177828 0.36929892 0.77724716]\n",
      " [0.22319791 0.44898815 1.         0.6075197 ]]\n"
     ]
    }
   ],
   "source": [
    "# Exercise 31\n",
    "import numpy as np\n",
    "\n",
    "arr = np.random.rand(4, 4) * 100  \n",
    "arr_min = arr.min()\n",
    "arr_max = arr.max()\n",
    "normalized_arr = (arr - arr_min) / (arr_max - arr_min)\n",
    "\n",
    "print(\"Original array:\\n\", arr)\n",
    "print(\"\\nNormalized array:\\n\", normalized_arr)\n"
   ]
  },
  {
   "cell_type": "markdown",
   "id": "d3eeceaa",
   "metadata": {
    "id": "d3eeceaa"
   },
   "source": [
    "\n",
    "---\n",
    "\n",
    "### Exercise 32:\n",
    "Create two NumPy arrays and find the dot product.\n"
   ]
  },
  {
   "cell_type": "code",
   "execution_count": 34,
   "id": "5722e16b",
   "metadata": {
    "id": "5722e16b"
   },
   "outputs": [
    {
     "name": "stdout",
     "output_type": "stream",
     "text": [
      "Array a: [1 2 3]\n",
      "Array b: [4 5 6]\n",
      "Dot product: 32\n"
     ]
    }
   ],
   "source": [
    "# Exercise 32\n",
    "import numpy as np\n",
    "a = np.array([1, 2, 3])\n",
    "b = np.array([4, 5, 6])\n",
    "\n",
    "dot_product = np.dot(a, b)  # or a @ b\n",
    "\n",
    "print(\"Array a:\", a)\n",
    "print(\"Array b:\", b)\n",
    "print(\"Dot product:\", dot_product)\n"
   ]
  },
  {
   "cell_type": "markdown",
   "id": "5b0c848f",
   "metadata": {
    "id": "5b0c848f"
   },
   "source": [
    "\n",
    "---\n",
    "\n",
    "### Exercise 33:\n",
    "Find the trace of a square NumPy matrix.\n"
   ]
  },
  {
   "cell_type": "code",
   "execution_count": 35,
   "id": "6d6e90c2",
   "metadata": {
    "id": "6d6e90c2"
   },
   "outputs": [
    {
     "name": "stdout",
     "output_type": "stream",
     "text": [
      "Matrix:\n",
      " [[1 2 3]\n",
      " [4 5 6]\n",
      " [7 8 9]]\n",
      "Trace: 15\n"
     ]
    }
   ],
   "source": [
    "# Exercise 33\n",
    "import numpy as np\n",
    "\n",
    "matrix = np.array([[1, 2, 3],\n",
    "                   [4, 5, 6],\n",
    "                   [7, 8, 9]])\n",
    "\n",
    "trace_value = np.trace(matrix)\n",
    "\n",
    "print(\"Matrix:\\n\", matrix)\n",
    "print(\"Trace:\", trace_value)\n"
   ]
  },
  {
   "cell_type": "markdown",
   "id": "74f1f77e",
   "metadata": {
    "id": "74f1f77e"
   },
   "source": [
    "\n",
    "---\n",
    "\n",
    "### Exercise 34:\n",
    "Create a 2D array and swap two rows.\n"
   ]
  },
  {
   "cell_type": "code",
   "execution_count": 36,
   "id": "24621129",
   "metadata": {
    "id": "24621129"
   },
   "outputs": [
    {
     "name": "stdout",
     "output_type": "stream",
     "text": [
      "Original array:\n",
      " [[1 2 3]\n",
      " [4 5 6]\n",
      " [7 8 9]]\n",
      "\n",
      "Array after swapping rows 0 and 2:\n",
      " [[7 8 9]\n",
      " [4 5 6]\n",
      " [1 2 3]]\n"
     ]
    }
   ],
   "source": [
    "# Exercise 34\n",
    "import numpy as np\n",
    "\n",
    "arr = np.array([[1, 2, 3],\n",
    "                [4, 5, 6],\n",
    "                [7, 8, 9]])\n",
    "\n",
    "print(\"Original array:\\n\", arr)\n",
    "\n",
    "# Swap row 0 and row 2\n",
    "arr[[0, 2]] = arr[[2, 0]]\n",
    "\n",
    "print(\"\\nArray after swapping rows 0 and 2:\\n\", arr)\n"
   ]
  },
  {
   "cell_type": "markdown",
   "id": "7875d348",
   "metadata": {
    "id": "7875d348"
   },
   "source": [
    "\n",
    "---\n",
    "\n",
    "### Exercise 35:\n",
    "Create a 1D NumPy array and convert it into a column vector.\n"
   ]
  },
  {
   "cell_type": "code",
   "execution_count": 37,
   "id": "0039acda",
   "metadata": {
    "id": "0039acda"
   },
   "outputs": [
    {
     "name": "stdout",
     "output_type": "stream",
     "text": [
      "Original 1D array: [1 2 3 4 5]\n",
      "Column vector:\n",
      " [[1]\n",
      " [2]\n",
      " [3]\n",
      " [4]\n",
      " [5]]\n"
     ]
    }
   ],
   "source": [
    "# Exercise 35\n",
    "import numpy as np\n",
    "\n",
    "arr = np.array([1, 2, 3, 4, 5])\n",
    "\n",
    "# Convert to column vector (shape: (5, 1))\n",
    "column_vector = arr.reshape(-1, 1)\n",
    "\n",
    "print(\"Original 1D array:\", arr)\n",
    "print(\"Column vector:\\n\", column_vector)\n"
   ]
  },
  {
   "cell_type": "markdown",
   "id": "234e605c",
   "metadata": {
    "id": "234e605c"
   },
   "source": [
    "\n",
    "---\n",
    "\n",
    "### Exercise 36:\n",
    "Find the determinant of a 3x3 matrix.\n"
   ]
  },
  {
   "cell_type": "code",
   "execution_count": 41,
   "id": "9798d9c7",
   "metadata": {
    "id": "9798d9c7"
   },
   "outputs": [
    {
     "name": "stdout",
     "output_type": "stream",
     "text": [
      "Matrix:\n",
      " [[1 2 3]\n",
      " [2 7 3]\n",
      " [3 2 1]]\n",
      "Determinant: -36.0\n"
     ]
    }
   ],
   "source": [
    "# Exercise 36\n",
    "import numpy as np\n",
    "\n",
    "matrix = np.array([[1, 2, 3],\n",
    "                   [2, 7, 3],\n",
    "                   [3, 2, 1]])\n",
    "\n",
    "determinant = np.linalg.det(matrix)\n",
    "\n",
    "print(\"Matrix:\\n\", matrix)\n",
    "print(\"Determinant:\", determinant)\n"
   ]
  },
  {
   "cell_type": "markdown",
   "id": "6656af00",
   "metadata": {
    "id": "6656af00"
   },
   "source": [
    "\n",
    "---\n",
    "\n",
    "### Exercise 37:\n",
    "Find the eigenvalues and eigenvectors of a 2x2 matrix.\n"
   ]
  },
  {
   "cell_type": "code",
   "execution_count": 43,
   "id": "89d64421",
   "metadata": {
    "id": "89d64421"
   },
   "outputs": [
    {
     "name": "stdout",
     "output_type": "stream",
     "text": [
      "Matrix:\n",
      " [[3 2]\n",
      " [1 2]]\n",
      "Eigenvalues: [4. 1.]\n",
      "Eigenvectors:\n",
      " [[ 0.89442719 -0.70710678]\n",
      " [ 0.4472136   0.70710678]]\n"
     ]
    }
   ],
   "source": [
    "# Exercise 37\n",
    "import numpy as np\n",
    "\n",
    "matrix = np.array([[3, 2],\n",
    "                   [1, 2]])\n",
    "\n",
    "eigenvalues, eigenvectors = np.linalg.eig(matrix)\n",
    "\n",
    "print(\"Matrix:\\n\", matrix)\n",
    "print(\"Eigenvalues:\", eigenvalues)\n",
    "print(\"Eigenvectors:\\n\", eigenvectors)\n"
   ]
  },
  {
   "cell_type": "markdown",
   "id": "7dc92bbb",
   "metadata": {
    "id": "7dc92bbb"
   },
   "source": [
    "\n",
    "---\n",
    "\n",
    "### Exercise 38:\n",
    "Solve a system of linear equations using NumPy.\n"
   ]
  },
  {
   "cell_type": "code",
   "execution_count": 46,
   "id": "9aad2d7e",
   "metadata": {
    "id": "9aad2d7e"
   },
   "outputs": [
    {
     "name": "stdout",
     "output_type": "stream",
     "text": [
      "Solution: [-0.5  1. ]\n"
     ]
    }
   ],
   "source": [
    "# Exercise 38\n",
    "import numpy as np\n",
    "A = np.array([[2, 3],\n",
    "              [2, 4]])\n",
    "b = np.array([2, 3])\n",
    "x = np.linalg.solve(A, b)\n",
    "\n",
    "print(\"Solution:\", x)\n"
   ]
  },
  {
   "cell_type": "markdown",
   "id": "4f146ae7",
   "metadata": {
    "id": "4f146ae7"
   },
   "source": [
    "\n",
    "---\n",
    "\n",
    "### Exercise 39:\n",
    "Add Gaussian noise to a NumPy array.\n"
   ]
  },
  {
   "cell_type": "code",
   "execution_count": 49,
   "id": "1162c82d",
   "metadata": {
    "id": "1162c82d"
   },
   "outputs": [
    {
     "name": "stdout",
     "output_type": "stream",
     "text": [
      "Original array: [6. 2. 3. 4. 5.]\n",
      "Noise: [  6.25526509   3.46835508  10.75809715 -11.86234683   3.97338474]\n",
      "Array with Gaussian noise: [12.25526509  5.46835508 13.75809715 -7.86234683  8.97338474]\n"
     ]
    }
   ],
   "source": [
    "# Exercise 39\n",
    "import numpy as np\n",
    "arr = np.array([6, 2, 3, 4, 5], dtype=float)\n",
    "noise = np.random.normal(loc=0, scale=5, size=arr.shape)\n",
    "noisy_arr = arr + noise\n",
    "\n",
    "print(\"Original array:\", arr)\n",
    "print(\"Noise:\", noise)\n",
    "print(\"Array with Gaussian noise:\", noisy_arr)\n"
   ]
  },
  {
   "cell_type": "markdown",
   "id": "24f6d12f",
   "metadata": {
    "id": "24f6d12f"
   },
   "source": [
    "\n",
    "---\n",
    "\n",
    "### Exercise 40:\n",
    "Create a 4x4 matrix and extract the diagonal elements.\n"
   ]
  },
  {
   "cell_type": "code",
   "execution_count": 50,
   "id": "228d823c",
   "metadata": {
    "id": "228d823c"
   },
   "outputs": [
    {
     "name": "stdout",
     "output_type": "stream",
     "text": [
      "Matrix:\n",
      " [[ 1  2  3  4]\n",
      " [ 5  6  7  8]\n",
      " [ 9 10 11 12]\n",
      " [13 14 15 16]]\n",
      "Diagonal elements: [ 1  6 11 16]\n"
     ]
    }
   ],
   "source": [
    "# Exercise 40\n",
    "import numpy as np\n",
    "matrix = np.array([[1, 2, 3, 4],\n",
    "                   [5, 6, 7, 8],\n",
    "                   [9, 10, 11, 12],\n",
    "                   [13, 14, 15, 16]])\n",
    "diagonal_elements = np.diagonal(matrix)\n",
    "\n",
    "print(\"Matrix:\\n\", matrix)\n",
    "print(\"Diagonal elements:\", diagonal_elements)\n"
   ]
  },
  {
   "cell_type": "markdown",
   "id": "6fe4e0e1",
   "metadata": {
    "id": "6fe4e0e1"
   },
   "source": [
    "\n",
    "---\n",
    "\n",
    "### Exercise 41:\n",
    "Generate a NumPy array of 100 random values and clip the values to a range between 10 and 50.\n"
   ]
  },
  {
   "cell_type": "code",
   "execution_count": 55,
   "id": "250c818c",
   "metadata": {
    "id": "250c818c"
   },
   "outputs": [
    {
     "name": "stdout",
     "output_type": "stream",
     "text": [
      "Original array:\n",
      " [28.90886821 16.15484871 43.62422992 18.04640614 55.77354861 58.95469528\n",
      " 77.57759929 25.54125785 26.56069099 41.61881417 81.60786963 84.54304918\n",
      " 20.06593917 67.7904433  68.8930564  55.22061911 49.57617209 10.84075824\n",
      " 38.55004186 59.15192437 78.2876058  34.72778867 81.02944573 60.20343845\n",
      " 18.68438839 58.01090837 27.31973729 84.74768949 91.35627677 26.88753183\n",
      " 42.22348818 16.21592167 82.88697165 74.20906591 42.66911951 90.2601286\n",
      " 73.218105   80.46494662 29.76418792 34.69739164 74.733913   35.96694583\n",
      " 78.03293852  4.5672134  76.75102827 10.73259444 12.98158343  0.40693774\n",
      "  1.0271734  21.70552691 16.52832206 36.51190878 78.6935947  84.91676145\n",
      " 16.07870439 44.43852706 69.62536432 72.67378278 20.61674588  9.82279092\n",
      " 80.38776992 17.35260725 72.76895945  0.67698833 62.7145142  80.22158177\n",
      " 96.36830664 71.48135769 34.67723971 82.98507991 46.38009432 68.82943981\n",
      " 98.96259301 44.20879986 36.70155572 54.48473304 55.43741174 72.17490628\n",
      "  9.76016035 55.76940818 56.73852332 52.14653156  6.87055912 36.94820441\n",
      " 93.22101383 92.80064745 20.04470266 81.61276613 97.83058041 79.65230679\n",
      " 81.94712361 97.86624979 27.17751765 89.06120983 21.6135795  25.62041278\n",
      " 27.40758605 47.75630495 60.63466832 63.32747083]\n",
      "\n",
      "Clipped array:\n",
      " [28.90886821 16.15484871 43.62422992 18.04640614 50.         50.\n",
      " 50.         25.54125785 26.56069099 41.61881417 50.         50.\n",
      " 20.06593917 50.         50.         50.         49.57617209 10.84075824\n",
      " 38.55004186 50.         50.         34.72778867 50.         50.\n",
      " 18.68438839 50.         27.31973729 50.         50.         26.88753183\n",
      " 42.22348818 16.21592167 50.         50.         42.66911951 50.\n",
      " 50.         50.         29.76418792 34.69739164 50.         35.96694583\n",
      " 50.         10.         50.         10.73259444 12.98158343 10.\n",
      " 10.         21.70552691 16.52832206 36.51190878 50.         50.\n",
      " 16.07870439 44.43852706 50.         50.         20.61674588 10.\n",
      " 50.         17.35260725 50.         10.         50.         50.\n",
      " 50.         50.         34.67723971 50.         46.38009432 50.\n",
      " 50.         44.20879986 36.70155572 50.         50.         50.\n",
      " 10.         50.         50.         50.         10.         36.94820441\n",
      " 50.         50.         20.04470266 50.         50.         50.\n",
      " 50.         50.         27.17751765 50.         21.6135795  25.62041278\n",
      " 27.40758605 47.75630495 50.         50.        ]\n"
     ]
    }
   ],
   "source": [
    "# Exercise 41\n",
    "import numpy as np\n",
    "arr = np.random.rand(100) * 100\n",
    "clipped_arr = np.clip(arr, 10, 50)\n",
    "\n",
    "print(\"Original array:\\n\", arr)\n",
    "print(\"\\nClipped array:\\n\", clipped_arr)\n"
   ]
  },
  {
   "cell_type": "markdown",
   "id": "0aa4963a",
   "metadata": {
    "id": "0aa4963a"
   },
   "source": [
    "\n",
    "---\n",
    "\n",
    "### Exercise 42:\n",
    "Create a 2D NumPy array and replace all negative values with zero.\n"
   ]
  },
  {
   "cell_type": "code",
   "execution_count": 56,
   "id": "c33cf5e2",
   "metadata": {
    "id": "c33cf5e2"
   },
   "outputs": [
    {
     "name": "stdout",
     "output_type": "stream",
     "text": [
      "Original array:\n",
      " [[ 1 -2  3]\n",
      " [-4  5 -6]\n",
      " [ 7 -8  9]]\n",
      "\n",
      "Array after replacing negatives with zero:\n",
      " [[1 0 3]\n",
      " [0 5 0]\n",
      " [7 0 9]]\n"
     ]
    }
   ],
   "source": [
    "# Exercise 42\n",
    "import numpy as np\n",
    "arr = np.array([[ 1, -2,  3],\n",
    "                [-4,  5, -6],\n",
    "                [ 7, -8,  9]])\n",
    "\n",
    "print(\"Original array:\\n\", arr)\n",
    "arr[arr < 0] = 0\n",
    "\n",
    "print(\"\\nArray after replacing negatives with zero:\\n\", arr)\n"
   ]
  },
  {
   "cell_type": "markdown",
   "id": "9902ee70",
   "metadata": {
    "id": "9902ee70"
   },
   "source": [
    "\n",
    "---\n",
    "\n",
    "### Exercise 43:\n",
    "Find the inner and outer products of two NumPy arrays.\n"
   ]
  },
  {
   "cell_type": "code",
   "execution_count": 57,
   "id": "36f488c8",
   "metadata": {
    "id": "36f488c8"
   },
   "outputs": [
    {
     "name": "stdout",
     "output_type": "stream",
     "text": [
      "Inner product: 32\n",
      "\n",
      "Outer product:\n",
      " [[ 4  5  6]\n",
      " [ 8 10 12]\n",
      " [12 15 18]]\n"
     ]
    }
   ],
   "source": [
    "# Exercise 43\n",
    "import numpy as np\n",
    "\n",
    "a = np.array([1, 2, 3])\n",
    "b = np.array([4, 5, 6])\n",
    "\n",
    "inner_product = np.inner(a, b)\n",
    "outer_product = np.outer(a, b)\n",
    "\n",
    "print(\"Inner product:\", inner_product)\n",
    "print(\"\\nOuter product:\\n\", outer_product)\n"
   ]
  },
  {
   "cell_type": "markdown",
   "id": "7dce9fa3",
   "metadata": {
    "id": "7dce9fa3"
   },
   "source": [
    "\n",
    "---\n",
    "\n",
    "### Exercise 44:\n",
    "Calculate the pairwise distances between points in a NumPy array.\n"
   ]
  },
  {
   "cell_type": "code",
   "execution_count": 59,
   "id": "94067655",
   "metadata": {
    "id": "94067655"
   },
   "outputs": [
    {
     "name": "stdout",
     "output_type": "stream",
     "text": [
      "Pairwise distances:\n",
      " [[0.         5.         8.48528137 1.41421356]\n",
      " [5.         0.         3.60555128 3.60555128]\n",
      " [8.48528137 3.60555128 0.         7.07106781]\n",
      " [1.41421356 3.60555128 7.07106781 0.        ]]\n"
     ]
    }
   ],
   "source": [
    "# Exercise 44\n",
    "import numpy as np\n",
    "from scipy.spatial.distance import cdist\n",
    "points = np.array([[1, 2],\n",
    "                   [4, 6],\n",
    "                   [7, 8],\n",
    "                   [2, 3]])\n",
    "distances = cdist(points, points, metric='euclidean')\n",
    "\n",
    "print(\"Pairwise distances:\\n\", distances)\n"
   ]
  },
  {
   "cell_type": "markdown",
   "id": "d4b272d3",
   "metadata": {
    "id": "d4b272d3"
   },
   "source": [
    "\n",
    "---\n",
    "\n",
    "### Exercise 45:\n",
    "Create a structured NumPy array with fields for `name`, `age`, and `height`.\n"
   ]
  },
  {
   "cell_type": "code",
   "execution_count": 60,
   "id": "9b18e4f0",
   "metadata": {
    "id": "9b18e4f0"
   },
   "outputs": [
    {
     "name": "stdout",
     "output_type": "stream",
     "text": [
      "[('Alice', 25, 5.5) ('Bob', 30, 6. ) ('Charlie', 22, 5.8)]\n",
      "\n",
      "Names: ['Alice' 'Bob' 'Charlie']\n",
      "Ages: [25 30 22]\n",
      "Heights: [5.5 6.  5.8]\n"
     ]
    }
   ],
   "source": [
    "# Exercise 45\n",
    "import numpy as np\n",
    "dtype = [('name', 'U10'), ('age', 'i4'), ('height', 'f4')]\n",
    "data = np.array([('Alice', 25, 5.5),\n",
    "                 ('Bob', 30, 6.0),\n",
    "                 ('Charlie', 22, 5.8)], dtype=dtype)\n",
    "\n",
    "print(data)\n",
    "print(\"\\nNames:\", data['name'])\n",
    "print(\"Ages:\", data['age'])\n",
    "print(\"Heights:\", data['height'])\n"
   ]
  },
  {
   "cell_type": "markdown",
   "id": "577f3e80",
   "metadata": {
    "id": "577f3e80"
   },
   "source": [
    "\n",
    "---\n",
    "\n",
    "### Exercise 46:\n",
    "Create a 5x5 matrix of random integers and count the occurrences of each unique value.\n"
   ]
  },
  {
   "cell_type": "code",
   "execution_count": 61,
   "id": "639b01fd",
   "metadata": {
    "id": "639b01fd"
   },
   "outputs": [
    {
     "name": "stdout",
     "output_type": "stream",
     "text": [
      "Matrix:\n",
      " [[2 6 0 5 6]\n",
      " [5 7 1 8 0]\n",
      " [0 0 4 3 0]\n",
      " [0 1 3 9 1]\n",
      " [6 3 4 3 9]]\n",
      "\n",
      "Unique values: [0 1 2 3 4 5 6 7 8 9]\n",
      "Counts: [6 3 1 4 2 2 3 1 1 2]\n"
     ]
    }
   ],
   "source": [
    "# Exercise 46\n",
    "import numpy as np\n",
    "matrix = np.random.randint(0, 10, size=(5, 5))\n",
    "\n",
    "print(\"Matrix:\\n\", matrix)\n",
    "unique_values, counts = np.unique(matrix, return_counts=True)\n",
    "\n",
    "print(\"\\nUnique values:\", unique_values)\n",
    "print(\"Counts:\", counts)\n"
   ]
  },
  {
   "cell_type": "markdown",
   "id": "e716555f",
   "metadata": {
    "id": "e716555f"
   },
   "source": [
    "\n",
    "---\n",
    "\n",
    "### Exercise 47:\n",
    "Generate a random 3x3 NumPy array and subtract the mean of each row from the corresponding row.\n"
   ]
  },
  {
   "cell_type": "code",
   "execution_count": 62,
   "id": "03747d27",
   "metadata": {
    "id": "03747d27"
   },
   "outputs": [
    {
     "name": "stdout",
     "output_type": "stream",
     "text": [
      "Original array:\n",
      " [[0.03539488 0.9520414  0.87891669]\n",
      " [0.82200308 0.78381381 0.59978876]\n",
      " [0.33190312 0.90422748 0.74272235]]\n",
      "\n",
      "Row means:\n",
      " [[0.62211766]\n",
      " [0.73520189]\n",
      " [0.65961765]]\n",
      "\n",
      "Centered array:\n",
      " [[-0.58672278  0.32992374  0.25679904]\n",
      " [ 0.0868012   0.04861193 -0.13541312]\n",
      " [-0.32771453  0.24460983  0.0831047 ]]\n"
     ]
    }
   ],
   "source": [
    "# Exercise 47\n",
    "import numpy as np\n",
    "arr = np.random.rand(3, 3)\n",
    "\n",
    "print(\"Original array:\\n\", arr)\n",
    "row_means = arr.mean(axis=1, keepdims=True)\n",
    "centered_arr = arr - row_means\n",
    "\n",
    "print(\"\\nRow means:\\n\", row_means)\n",
    "print(\"\\nCentered array:\\n\", centered_arr)\n"
   ]
  },
  {
   "cell_type": "markdown",
   "id": "89148fb1",
   "metadata": {
    "id": "89148fb1"
   },
   "source": [
    "\n",
    "---\n",
    "\n",
    "### Exercise 48:\n",
    "Create a NumPy array of random integers and check if any of the values are greater than 50.\n"
   ]
  },
  {
   "cell_type": "code",
   "execution_count": 63,
   "id": "d329ca63",
   "metadata": {
    "id": "d329ca63"
   },
   "outputs": [
    {
     "name": "stdout",
     "output_type": "stream",
     "text": [
      "Array: [30 49 37 43 46 20 78 23 26  4]\n",
      "Any value greater than 50? True\n"
     ]
    }
   ],
   "source": [
    "# Exercise 48\n",
    "import numpy as np\n",
    "arr = np.random.randint(0, 100, size=10)\n",
    "\n",
    "print(\"Array:\", arr)\n",
    "has_greater_than_50 = np.any(arr > 50)\n",
    "\n",
    "print(\"Any value greater than 50?\", has_greater_than_50)\n"
   ]
  },
  {
   "cell_type": "markdown",
   "id": "806622f5",
   "metadata": {
    "id": "806622f5"
   },
   "source": [
    "\n",
    "---\n",
    "\n",
    "### Exercise 49:\n",
    "Calculate the moving average of a 1D NumPy array.\n"
   ]
  },
  {
   "cell_type": "code",
   "execution_count": 64,
   "id": "866232ff",
   "metadata": {
    "id": "866232ff"
   },
   "outputs": [
    {
     "name": "stdout",
     "output_type": "stream",
     "text": [
      "Original array: [10 20 30 40 50 60]\n",
      "Moving average: [20. 30. 40. 50.]\n"
     ]
    }
   ],
   "source": [
    "# Exercise 49\n",
    "import numpy as np\n",
    "\n",
    "arr = np.array([10, 20, 30, 40, 50, 60])\n",
    "window_size = 3\n",
    "moving_avg = np.convolve(arr, np.ones(window_size)/window_size, mode='valid')\n",
    "\n",
    "print(\"Original array:\", arr)\n",
    "print(\"Moving average:\", moving_avg)\n"
   ]
  },
  {
   "cell_type": "markdown",
   "id": "9313446b",
   "metadata": {
    "id": "9313446b"
   },
   "source": [
    "\n",
    "---\n",
    "\n",
    "### Exercise 50:\n",
    "Find the Pearson correlation coefficient between two NumPy arrays.\n"
   ]
  },
  {
   "cell_type": "code",
   "execution_count": 65,
   "id": "09c184ab",
   "metadata": {
    "id": "09c184ab"
   },
   "outputs": [
    {
     "name": "stdout",
     "output_type": "stream",
     "text": [
      "Correlation matrix:\n",
      " [[1.         0.99659941]\n",
      " [0.99659941 1.        ]]\n",
      "\n",
      "Pearson correlation coefficient: 0.9965994064698636\n"
     ]
    }
   ],
   "source": [
    "# Exercise 50\n",
    "import numpy as np\n",
    "x = np.array([10, 20, 30, 40, 50])\n",
    "y = np.array([12, 22, 29, 41, 52])\n",
    "corr_matrix = np.corrcoef(x, y)\n",
    "pearson_corr = corr_matrix[0, 1]\n",
    "\n",
    "print(\"Correlation matrix:\\n\", corr_matrix)\n",
    "print(\"\\nPearson correlation coefficient:\", pearson_corr)\n"
   ]
  },
  {
   "cell_type": "markdown",
   "id": "8ee11395",
   "metadata": {
    "id": "8ee11395"
   },
   "source": [
    "\n",
    "---\n",
    "\n",
    "### Exercise 51:\n",
    "Convert a NumPy array of radians to degrees.\n"
   ]
  },
  {
   "cell_type": "code",
   "execution_count": 66,
   "id": "34ac5b8c",
   "metadata": {
    "id": "34ac5b8c"
   },
   "outputs": [
    {
     "name": "stdout",
     "output_type": "stream",
     "text": [
      "Radians: [0.         0.52359878 0.78539816 1.57079633 3.14159265]\n",
      "Degrees: [  0.  30.  45.  90. 180.]\n"
     ]
    }
   ],
   "source": [
    "# Exercise 51\n",
    "import numpy as np\n",
    "radians = np.array([0, np.pi/6, np.pi/4, np.pi/2, np.pi])\n",
    "degrees = np.degrees(radians)\n",
    "print(\"Radians:\", radians)\n",
    "print(\"Degrees:\", degrees)\n"
   ]
  },
  {
   "cell_type": "markdown",
   "id": "f4fd9563",
   "metadata": {
    "id": "f4fd9563"
   },
   "source": [
    "\n",
    "---\n",
    "\n",
    "### Exercise 52:\n",
    "Create a random NumPy array and compute its variance and standard deviation.\n"
   ]
  },
  {
   "cell_type": "code",
   "execution_count": 67,
   "id": "0559791a",
   "metadata": {
    "id": "0559791a"
   },
   "outputs": [
    {
     "name": "stdout",
     "output_type": "stream",
     "text": [
      "Array: [42.98839101 40.11486652 13.73978995 49.76044108 57.51376557  7.61556657\n",
      " 61.94628855 58.49659637 63.72887854 79.84762871]\n",
      "Variance: 455.01091038679095\n",
      "Standard Deviation: 21.330984749579446\n"
     ]
    }
   ],
   "source": [
    "# Exercise 52\n",
    "import numpy as np\n",
    "arr = np.random.rand(10) * 100\n",
    "variance = np.var(arr)\n",
    "\n",
    "std_dev = np.std(arr)\n",
    "\n",
    "print(\"Array:\", arr)\n",
    "print(\"Variance:\", variance)\n",
    "print(\"Standard Deviation:\", std_dev)\n"
   ]
  },
  {
   "cell_type": "markdown",
   "id": "b5bed93d",
   "metadata": {
    "id": "b5bed93d"
   },
   "source": [
    "\n",
    "---\n",
    "\n",
    "### Exercise 53:\n",
    "Create a 2D NumPy array and find the indices of the maximum values along each axis.\n"
   ]
  },
  {
   "cell_type": "code",
   "execution_count": 68,
   "id": "37168529",
   "metadata": {
    "id": "37168529"
   },
   "outputs": [
    {
     "name": "stdout",
     "output_type": "stream",
     "text": [
      "Array:\n",
      " [[10 50 30]\n",
      " [60 20 90]\n",
      " [40 70 80]]\n",
      "\n",
      "Max indices along axis 0 (columns): [1 2 1]\n",
      "Max indices along axis 1 (rows): [1 2 2]\n"
     ]
    }
   ],
   "source": [
    "# Exercise 53\n",
    "import numpy as np\n",
    "arr = np.array([[10, 50, 30],\n",
    "                [60, 20, 90],\n",
    "                [40, 70, 80]])\n",
    "\n",
    "print(\"Array:\\n\", arr)\n",
    "max_indices_axis0 = np.argmax(arr, axis=0)\n",
    "max_indices_axis1 = np.argmax(arr, axis=1)\n",
    "\n",
    "print(\"\\nMax indices along axis 0 (columns):\", max_indices_axis0)\n",
    "print(\"Max indices along axis 1 (rows):\", max_indices_axis1)\n"
   ]
  },
  {
   "cell_type": "markdown",
   "id": "fd672293",
   "metadata": {
    "id": "fd672293"
   },
   "source": [
    "\n",
    "---\n",
    "\n",
    "### Exercise 54:\n",
    "Compute the inverse of a 2x2 NumPy matrix.\n"
   ]
  },
  {
   "cell_type": "code",
   "execution_count": 69,
   "id": "d9eebfee",
   "metadata": {
    "id": "d9eebfee"
   },
   "outputs": [
    {
     "name": "stdout",
     "output_type": "stream",
     "text": [
      "Original matrix:\n",
      " [[4 7]\n",
      " [2 6]]\n",
      "\n",
      "Inverse matrix:\n",
      " [[ 0.6 -0.7]\n",
      " [-0.2  0.4]]\n"
     ]
    }
   ],
   "source": [
    "# Exercise 54\n",
    "import numpy as np\n",
    "matrix = np.array([[4, 7],\n",
    "                   [2, 6]])\n",
    "inverse_matrix = np.linalg.inv(matrix)\n",
    "\n",
    "print(\"Original matrix:\\n\", matrix)\n",
    "print(\"\\nInverse matrix:\\n\", inverse_matrix)\n"
   ]
  },
  {
   "cell_type": "markdown",
   "id": "d635d87b",
   "metadata": {
    "id": "d635d87b"
   },
   "source": [
    "\n",
    "---\n",
    "\n",
    "### Exercise 55:\n",
    "Create a NumPy array of 10 random values and standardize it (mean 0, variance 1).\n"
   ]
  },
  {
   "cell_type": "code",
   "execution_count": 70,
   "id": "dc8ffa7d",
   "metadata": {
    "id": "dc8ffa7d"
   },
   "outputs": [
    {
     "name": "stdout",
     "output_type": "stream",
     "text": [
      "Original array: [60.72259949 84.09223685 45.10299961 53.67599116 18.30798279 87.37162318\n",
      " 78.83664056 76.90970289 25.41943672 51.27210052]\n",
      "Standardized array: [ 0.11178611  1.13566754 -0.57254707 -0.19694318 -1.74650282  1.27934553\n",
      "  0.9054069   0.82098302 -1.43493249 -0.30226355]\n",
      "Mean of standardized: 3.9412917374193055e-16\n",
      "Variance of standardized: 1.0\n"
     ]
    }
   ],
   "source": [
    "# Exercise 55\n",
    "import numpy as np\n",
    "arr = np.random.rand(10) * 100  \n",
    "mean = np.mean(arr)\n",
    "std = np.std(arr)\n",
    "standardized = (arr - mean) / std\n",
    "\n",
    "print(\"Original array:\", arr)\n",
    "print(\"Standardized array:\", standardized)\n",
    "print(\"Mean of standardized:\", np.mean(standardized))\n",
    "print(\"Variance of standardized:\", np.var(standardized))\n"
   ]
  },
  {
   "cell_type": "markdown",
   "id": "6db1e281",
   "metadata": {
    "id": "6db1e281"
   },
   "source": [
    "\n",
    "---\n",
    "\n",
    "### Exercise 56:\n",
    "Perform element-wise addition and subtraction on two NumPy arrays.\n"
   ]
  },
  {
   "cell_type": "code",
   "execution_count": null,
   "id": "e8d4d852",
   "metadata": {
    "id": "e8d4d852"
   },
   "outputs": [],
   "source": [
    "# Exercise 56\n",
    "import numpy as np\n",
    "a = np.array([10, 20, 30])\n",
    "b = np.array([1, 2, 3])\n",
    "addition = a + b\n",
    "subtraction = a - b\n",
    "print(\"Array a:\", a)\n",
    "print(\"Array b:\", b)\n",
    "print(\"\\nAddition:\", addition)\n",
    "print(\"Subtraction:\", subtraction)\n"
   ]
  },
  {
   "cell_type": "markdown",
   "id": "843ba956",
   "metadata": {
    "id": "843ba956"
   },
   "source": [
    "\n",
    "---\n",
    "\n",
    "### Exercise 57:\n",
    "Create a NumPy array of random values and find the maximum element's index.\n"
   ]
  },
  {
   "cell_type": "code",
   "execution_count": 72,
   "id": "e4cbc318",
   "metadata": {
    "id": "e4cbc318"
   },
   "outputs": [
    {
     "name": "stdout",
     "output_type": "stream",
     "text": [
      "Array: [0.1804107  0.98027741 0.3857143  0.99879335 0.71388732]\n",
      "Index of max element: 3\n",
      "Max value: 0.9987933547269677\n"
     ]
    }
   ],
   "source": [
    "# Exercise 57\n",
    "import numpy as np\n",
    "arr = np.random.rand(5) \n",
    "max_index = np.argmax(arr)\n",
    "\n",
    "print(\"Array:\", arr)\n",
    "print(\"Index of max element:\", max_index)\n",
    "print(\"Max value:\", arr[max_index])\n"
   ]
  },
  {
   "cell_type": "markdown",
   "id": "e8356250",
   "metadata": {
    "id": "e8356250"
   },
   "source": [
    "\n",
    "---\n",
    "\n",
    "### Exercise 58:\n",
    "Create a 3x3 NumPy array and rotate it by 90 degrees.\n"
   ]
  },
  {
   "cell_type": "code",
   "execution_count": 73,
   "id": "f80c6616",
   "metadata": {
    "id": "f80c6616"
   },
   "outputs": [
    {
     "name": "stdout",
     "output_type": "stream",
     "text": [
      "Original array:\n",
      " [[1 2 3]\n",
      " [4 5 6]\n",
      " [7 8 9]]\n",
      "\n",
      "Rotated by 90 degrees:\n",
      " [[3 6 9]\n",
      " [2 5 8]\n",
      " [1 4 7]]\n"
     ]
    }
   ],
   "source": [
    "# Exercise 58\n",
    "import numpy as np\n",
    "arr = np.array([[1, 2, 3],\n",
    "                [4, 5, 6],\n",
    "                [7, 8, 9]])\n",
    "rotated_arr = np.rot90(arr)\n",
    "\n",
    "print(\"Original array:\\n\", arr)\n",
    "print(\"\\nRotated by 90 degrees:\\n\", rotated_arr)\n"
   ]
  },
  {
   "cell_type": "markdown",
   "id": "5bdbf96d",
   "metadata": {
    "id": "5bdbf96d"
   },
   "source": [
    "\n",
    "---\n",
    "\n",
    "### Exercise 59:\n",
    "Compute the Frobenius norm of a matrix.\n"
   ]
  },
  {
   "cell_type": "code",
   "execution_count": 74,
   "id": "bb81b41a",
   "metadata": {
    "id": "bb81b41a"
   },
   "outputs": [
    {
     "name": "stdout",
     "output_type": "stream",
     "text": [
      "Matrix:\n",
      " [[1 2 3]\n",
      " [4 5 6]]\n",
      "\n",
      "Frobenius norm: 9.539392014169456\n"
     ]
    }
   ],
   "source": [
    "# Exercise 59\n",
    "import numpy as np\n",
    "matrix = np.array([[1, 2, 3],\n",
    "                   [4, 5, 6]])\n",
    "\n",
    "fro_norm = np.linalg.norm(matrix, ord='fro')\n",
    "\n",
    "print(\"Matrix:\\n\", matrix)\n",
    "print(\"\\nFrobenius norm:\", fro_norm)\n"
   ]
  },
  {
   "cell_type": "markdown",
   "id": "9388b0db",
   "metadata": {
    "id": "9388b0db"
   },
   "source": [
    "\n",
    "---\n",
    "\n",
    "### Exercise 60:\n",
    "Create a 3D NumPy array and slice out a subarray.\n"
   ]
  },
  {
   "cell_type": "code",
   "execution_count": 75,
   "id": "f051d3a2",
   "metadata": {
    "id": "f051d3a2"
   },
   "outputs": [
    {
     "name": "stdout",
     "output_type": "stream",
     "text": [
      "Original array shape: (3, 4, 5)\n",
      "[[[ 0  1  2  3  4]\n",
      "  [ 5  6  7  8  9]\n",
      "  [10 11 12 13 14]\n",
      "  [15 16 17 18 19]]\n",
      "\n",
      " [[20 21 22 23 24]\n",
      "  [25 26 27 28 29]\n",
      "  [30 31 32 33 34]\n",
      "  [35 36 37 38 39]]\n",
      "\n",
      " [[40 41 42 43 44]\n",
      "  [45 46 47 48 49]\n",
      "  [50 51 52 53 54]\n",
      "  [55 56 57 58 59]]]\n",
      "\n",
      "Sliced subarray shape: (2, 2, 3)\n",
      "[[[ 7  8  9]\n",
      "  [12 13 14]]\n",
      "\n",
      " [[27 28 29]\n",
      "  [32 33 34]]]\n"
     ]
    }
   ],
   "source": [
    "# Exercise 60\n",
    "import numpy as np\n",
    "arr = np.arange(3*4*5).reshape(3, 4, 5)\n",
    "\n",
    "print(\"Original array shape:\", arr.shape)\n",
    "print(arr)\n",
    "subarray = arr[0:2, 1:3, 2:5]\n",
    "\n",
    "print(\"\\nSliced subarray shape:\", subarray.shape)\n",
    "print(subarray)\n"
   ]
  },
  {
   "cell_type": "markdown",
   "id": "9cb79001",
   "metadata": {
    "id": "9cb79001"
   },
   "source": [
    "\n",
    "---"
   ]
  }
 ],
 "metadata": {
  "colab": {
   "provenance": []
  },
  "kernelspec": {
   "display_name": "Python [conda env:base] *",
   "language": "python",
   "name": "conda-base-py"
  },
  "language_info": {
   "codemirror_mode": {
    "name": "ipython",
    "version": 3
   },
   "file_extension": ".py",
   "mimetype": "text/x-python",
   "name": "python",
   "nbconvert_exporter": "python",
   "pygments_lexer": "ipython3",
   "version": "3.12.7"
  }
 },
 "nbformat": 4,
 "nbformat_minor": 5
}
