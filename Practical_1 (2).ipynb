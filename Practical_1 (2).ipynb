{
  "cells": [
    {
      "cell_type": "markdown",
      "id": "426486dd",
      "metadata": {
        "id": "426486dd"
      },
      "source": [
        "# Practical_1: Variables and Assignments"
      ]
    },
    {
      "cell_type": "code",
      "source": [],
      "metadata": {
        "id": "Y7T98nvJ8rYU"
      },
      "id": "Y7T98nvJ8rYU",
      "execution_count": null,
      "outputs": []
    },
    {
      "cell_type": "markdown",
      "id": "9fb19f0d",
      "metadata": {
        "id": "9fb19f0d"
      },
      "source": [
        "----\n",
        "\n",
        "### Exercise 1:\n",
        "Declare a variable `x` and assign it the value `10`.\n",
        "\n",
        "```python\n",
        "# Exercise 1\n",
        "```\n",
        "\n",
        "---\n",
        "\n",
        "### Exercise 2:\n",
        "Assign the value `True` to a variable called `is_valid`.\n",
        "\n",
        "```python\n",
        "# Exercise 2\n",
        "```\n",
        "\n",
        "---\n",
        "\n",
        "### Exercise 3:\n",
        "Create a string variable `name` with the value \"Python Programming\".\n",
        "\n",
        "```python\n",
        "# Exercise 3\n",
        "```\n",
        "\n",
        "---\n",
        "\n",
        "### Exercise 4:\n",
        "Assign the result of `5 + 3` to a variable `sum_result`.\n",
        "\n",
        "```python\n",
        "# Exercise 4\n",
        "```\n",
        "\n",
        "---\n",
        "\n",
        "### Exercise 5:\n",
        "Assign multiple variables in one line: `a = 5`, `b = 10`, `c = 15`.\n",
        "\n",
        "```python\n",
        "# Exercise 5\n",
        "```\n",
        "\n",
        "---\n",
        "\n",
        "### Exercise 6:\n",
        "Assign the value of one variable `x` to another variable `y`.\n",
        "\n",
        "```python\n",
        "# Exercise 6\n",
        "```\n",
        "\n",
        "---\n",
        "\n",
        "### Exercise 7:\n",
        "Assign a floating-point number `9.8` to a variable `gravity`.\n",
        "\n",
        "```python\n",
        "# Exercise 7\n",
        "```\n",
        "\n",
        "---\n",
        "\n",
        "### Exercise 8:\n",
        "Create a variable `country` and assign it the string value of your favorite country.\n",
        "\n",
        "```python\n",
        "# Exercise 8\n",
        "```\n",
        "\n",
        "---\n",
        "\n",
        "### Exercise 9:\n",
        "Change the value of variable `age` from `25` to `26` in two separate steps.\n",
        "\n",
        "```python\n",
        "# Exercise 9\n",
        "```\n",
        "\n",
        "---\n",
        "\n",
        "### Exercise 10:\n",
        "Use one variable to store the result of subtracting two numbers `20 - 7`.\n",
        "\n",
        "```python\n",
        "# Exercise 10\n",
        "```\n",
        "\n",
        "---\n",
        "\n",
        "### Exercise 11:\n",
        "Assign an integer value and a floating-point value to two different variables.\n",
        "\n",
        "```python\n",
        "# Exercise 11\n",
        "```\n",
        "\n",
        "---\n",
        "\n",
        "### Exercise 12:\n",
        "Assign a boolean value `False` to a variable `is_completed`.\n",
        "\n",
        "```python\n",
        "# Exercise 12\n",
        "```\n",
        "\n",
        "---\n",
        "\n",
        "### Exercise 13:\n",
        "Swap the values of two variables `x` and `y`.\n",
        "\n",
        "```python\n",
        "# Exercise 13\n",
        "```x = 10\n",
        "y = 3.14\n",
        "x = 10\n",
        "y = 3.14\n",
        "print(\"x =\", x)\n",
        "print(\"y =\", y)\n",
        "\n",
        "\n",
        "---\n",
        "\n",
        "### Exercise 14:\n",
        "Assign a complex number `3 + 4j` to a variable `complex_num`.\n",
        "\n",
        "```python\n",
        "# Exercise 14\n",
        "complex_num=3+4j\n",
        "\n",
        "```\n",
        "\n",
        "---\n",
        "\n",
        "### Exercise 15:\n",
        "Reassign a variable from an integer to a string.\n",
        "\n",
        "```python\n",
        "# Exercise\n",
        "x=14\n",
        "x=\"fourteen\"\n",
        "print(x)```\n",
        "\n",
        "---\n",
        "\n",
        "### Exercise 16:\n",
        "Create two variables `first_name` and `last_name`, and assign them your first and last names.\n",
        "\n",
        "```python\n",
        "# Exercise 16\n",
        "```first_name=gemima grace\n",
        "last_name=wishavura\n",
        "\n",
        "---\n",
        "\n",
        "### Exercise 17:\n",
        "Create a variable `temperature` and assign it the value of `35.5`.\n",
        "\n",
        "```python\n",
        "# Exercise 17\n",
        "```temperature=35.5\n",
        "\n",
        "---\n",
        "\n",
        "### Exercise 18:\n",
        "Assign the result of the multiplication of two numbers `8 * 6` to a variable `product`.\n",
        "\n",
        "```python\n",
        "# Exercise 18\n",
        "```\n",
        "product=8*6\n",
        "---\n",
        "\n",
        "### Exercise 19:\n",
        "Assign a sentence of your choice to a variable `sentence`.\n",
        "\n",
        "```python\n",
        "# Exercise 19\n",
        "```\n",
        "sentence=\"how are you?\"\n",
        "---\n",
        "\n",
        "### Exercise 20:\n",
        "Use an assignment to convert a string `'50'` into an integer variable `int_value`.\n",
        "\n",
        "```python\n",
        "# Exercise 20\n",
        "```int_value = int('50')\n",
        "print(int_value)\n",
        "\n",
        "---\n",
        "\n",
        "### Exercise 21:\n",
        "Assign the result of dividing `144` by `12` to a variable `quotient`.\n",
        "\n",
        "```python\n",
        "# Exercise 21\n",
        "```\n",
        "\n",
        "---\n",
        "quotient=12\n",
        "### Exercise 22:\n",
        "Assign the remainder of `47 divided by 5` to a variable `remainder`.\n",
        "\n",
        "```python\n",
        "# Exercise 22\n",
        "```remainder = 47 % 5\n",
        "\n",
        "\n",
        "---\n",
        "\n",
        "### Exercise 23:\n",
        "Create a variable `is_student` and assign it the value `True`.\n",
        "\n",
        "```python\n",
        "# Exercise 23\n",
        "```\n",
        "is_student=True\n",
        "---\n",
        "\n",
        "### Exercise 24:\n",
        "Use a variable to store the result of a modulo operation: `45 % 4`.\n",
        "\n",
        "```python\n",
        "# Exercise 24\n",
        "```\n",
        "result=45%4\n",
        "---\n",
        "\n",
        "### Exercise 25:\n",
        "Create a variable `pi` and assign it the value `3.14159`.\n",
        "\n",
        "```python\n",
        "# Exercise 25\n",
        "```\n",
        "\n",
        "---\n",
        "\n",
        "### Exercise 26:\n",
        "Create two variables `length` and `width`, assign them values, and calculate the area of a rectangle.\n",
        "\n",
        "```python\n",
        "# Exercise 26\n",
        "```\n",
        "\n",
        "---\n",
        "\n",
        "### Exercise 27:\n",
        "Assign a negative number to a variable `negative_value`.\n",
        "\n",
        "```python\n",
        "# Exercise 27\n",
        "```\n",
        "\n",
        "---\n",
        "\n",
        "### Exercise 28:\n",
        "Assign a string containing a special character (e.g., \"Hello, World!\") to a variable `greeting`.\n",
        "\n",
        "```python\n",
        "# Exercise 28\n",
        "```\n",
        "\n",
        "---\n",
        "\n",
        "### Exercise 29:\n",
        "Create a variable `population` and assign it a large integer value (in billions).\n",
        "\n",
        "```python\n",
        "# Exercise 29\n",
        "```\n",
        "\n",
        "---\n",
        "\n",
        "### Exercise 30:\n",
        "Use a variable to store the result of raising `2` to the power of `8`.\n",
        "\n",
        "```python\n",
        "# Exercise 30\n",
        "```\n",
        "\n",
        "---\n",
        "\n",
        "### Exercise 31:\n",
        "Assign a list of your favorite fruits to a variable `fruits`.\n",
        "\n",
        "```python\n",
        "# Exercise 31\n",
        "```\n",
        "\n",
        "---\n",
        "\n",
        "### Exercise 32:\n",
        "Assign a tuple of three numbers to a variable `coordinates`.\n",
        "\n",
        "```python\n",
        "# Exercise 32\n",
        "```\n",
        "\n",
        "---\n",
        "\n",
        "### Exercise 33:\n",
        "Assign a dictionary with keys `name` and `age` to a variable `person`.\n",
        "\n",
        "```python\n",
        "# Exercise 33\n",
        "```\n",
        "\n",
        "---\n",
        "\n",
        "### Exercise 34:\n",
        "Use variables to store the sum of two floating-point numbers.\n",
        "\n",
        "```python\n",
        "# Exercise 34\n",
        "```\n",
        "\n",
        "---\n",
        "\n",
        "### Exercise 35:\n",
        "Create a variable `is_sunny` and assign it the result of a comparison `10 > 5`.\n",
        "\n",
        "```python\n",
        "# Exercise 35\n",
        "```\n",
        "\n",
        "---\n",
        "\n",
        "### Exercise 36:\n",
        "Assign a string and an integer to two different variables, then print both on one line.\n",
        "\n",
        "```python\n",
        "# Exercise 36\n",
        "```\n",
        "\n",
        "---\n",
        "\n",
        "### Exercise 37:\n",
        "Reassign a variable that originally held a number to a boolean value.\n",
        "\n",
        "```python\n",
        "# Exercise 37\n",
        "```\n",
        "\n",
        "---\n",
        "\n",
        "### Exercise 38:\n",
        "Create a variable `is_weekend` and assign it the result of `False`.\n",
        "\n",
        "```python\n",
        "# Exercise 38\n",
        "```\n",
        "\n",
        "---\n",
        "\n",
        "### Exercise 39:\n",
        "Assign a multi-line string to a variable `description`.\n",
        "\n",
        "```python\n",
        "# Exercise 39\n",
        "```\n",
        "\n",
        "---\n",
        "\n",
        "### Exercise 40:\n",
        "Use variables to store the result of the absolute value of `-25`.\n",
        "\n",
        "```python\n",
        "# Exercise 40\n",
        "```\n",
        "\n",
        "---\n",
        "\n",
        "### Exercise 41:\n",
        "Assign the result of a floor division `100 // 6` to a variable `floor_div_result`.\n",
        "\n",
        "```python\n",
        "# Exercise 41\n",
        "```\n",
        "\n",
        "---\n",
        "\n",
        "### Exercise 42:\n",
        "Assign the result of adding a floating-point number to an integer to a variable `mixed_sum`.\n",
        "\n",
        "```python\n",
        "# Exercise 42\n",
        "```\n",
        "\n",
        "---\n",
        "\n",
        "### Exercise 43:\n",
        "Use variables to store a combination of string concatenation.\n",
        "\n",
        "```python\n",
        "# Exercise 43\n",
        "```\n",
        "\n",
        "---\n",
        "\n",
        "### Exercise 44:\n",
        "Assign an empty list to a variable `empty_list`.\n",
        "\n",
        "```python\n",
        "# Exercise 44\n",
        "```\n",
        "\n",
        "---\n",
        "\n",
        "### Exercise 45:\n",
        "Assign a boolean value based on the comparison of two variables `a = 10` and `b = 15`.\n",
        "\n",
        "```python\n",
        "# Exercise 45\n",
        "```\n",
        "\n",
        "---\n",
        "\n",
        "### Exercise 46:\n",
        "Assign a long sentence to a variable and count its characters using `len()`.\n",
        "\n",
        "```python\n",
        "# Exercise 46\n",
        "```\n",
        "\n",
        "---\n",
        "\n",
        "### Exercise 47:\n",
        "Assign a fractional result `7 / 3` to a variable `division_result`.\n",
        "\n",
        "```python\n",
        "# Exercise 47\n",
        "```\n",
        "\n",
        "---\n",
        "\n",
        "### Exercise 48:\n",
        "Create a variable `speed` and assign it the value of 100 kilometers per hour.\n",
        "\n",
        "```python\n",
        "# Exercise 48\n",
        "```\n",
        "\n",
        "---\n",
        "\n",
        "### Exercise 49:\n",
        "Assign a multi-variable equation like `y = 3x + 5` where `x = 4` to a variable `y`.\n",
        "\n",
        "```python\n",
        "# Exercise 49\n",
        "```\n",
        "\n",
        "---\n",
        "\n",
        "### Exercise 50:\n",
        "Use variables to calculate and store the average of three numbers.\n",
        "\n",
        "```python\n",
        "# Exercise 50\n",
        "```\n",
        "\n",
        "****"
      ]
    },
    {
      "cell_type": "code",
      "source": [],
      "metadata": {
        "id": "kr3cCvzIAlnL"
      },
      "id": "kr3cCvzIAlnL",
      "execution_count": null,
      "outputs": []
    },
    {
      "cell_type": "markdown",
      "source": [
        "Exercise 1"
      ],
      "metadata": {
        "id": "iL2ScGDX9uPf"
      },
      "id": "iL2ScGDX9uPf"
    },
    {
      "cell_type": "code",
      "source": [
        "x=10\n"
      ],
      "metadata": {
        "id": "8k23onE17hF7"
      },
      "id": "8k23onE17hF7",
      "execution_count": null,
      "outputs": []
    },
    {
      "cell_type": "markdown",
      "source": [
        "Exercise 2"
      ],
      "metadata": {
        "id": "ZPGVjjaS-qAT"
      },
      "id": "ZPGVjjaS-qAT"
    },
    {
      "cell_type": "code",
      "source": [
        "Is_valid=True"
      ],
      "metadata": {
        "id": "2Nbl09bN7bwB"
      },
      "id": "2Nbl09bN7bwB",
      "execution_count": null,
      "outputs": []
    },
    {
      "cell_type": "markdown",
      "source": [
        "exercise 3"
      ],
      "metadata": {
        "id": "U9No8PbV_Ru4"
      },
      "id": "U9No8PbV_Ru4"
    },
    {
      "cell_type": "code",
      "source": [
        "name=\"python programming\""
      ],
      "metadata": {
        "id": "nO1QB4my_a8Y"
      },
      "id": "nO1QB4my_a8Y",
      "execution_count": null,
      "outputs": []
    },
    {
      "cell_type": "markdown",
      "source": [
        "Exercise 4"
      ],
      "metadata": {
        "id": "sPKieeysDetB"
      },
      "id": "sPKieeysDetB"
    },
    {
      "cell_type": "code",
      "source": [
        "sum_result=5+3"
      ],
      "metadata": {
        "id": "bIHrkCNJDhXt"
      },
      "id": "bIHrkCNJDhXt",
      "execution_count": null,
      "outputs": []
    },
    {
      "cell_type": "markdown",
      "source": [
        "Exercise 5"
      ],
      "metadata": {
        "id": "uRDW3B5METBL"
      },
      "id": "uRDW3B5METBL"
    },
    {
      "cell_type": "code",
      "source": [
        "a,b,c=5,10,15"
      ],
      "metadata": {
        "id": "aYQy-TLzEYwI"
      },
      "id": "aYQy-TLzEYwI",
      "execution_count": null,
      "outputs": []
    },
    {
      "cell_type": "markdown",
      "source": [
        "Exercise 6"
      ],
      "metadata": {
        "id": "VIcrc_4hEksC"
      },
      "id": "VIcrc_4hEksC"
    },
    {
      "cell_type": "code",
      "source": [
        "x=10\n",
        "y=x"
      ],
      "metadata": {
        "id": "vHlLFnbMEob2"
      },
      "id": "vHlLFnbMEob2",
      "execution_count": null,
      "outputs": []
    },
    {
      "cell_type": "markdown",
      "source": [
        "Exercise 7"
      ],
      "metadata": {
        "id": "TwyLLcGAadbm"
      },
      "id": "TwyLLcGAadbm"
    },
    {
      "cell_type": "code",
      "source": [
        "gravity=9.8"
      ],
      "metadata": {
        "id": "RyzQNFCcag_I"
      },
      "id": "RyzQNFCcag_I",
      "execution_count": null,
      "outputs": []
    },
    {
      "cell_type": "markdown",
      "source": [
        "Exercise 8"
      ],
      "metadata": {
        "id": "-QHhQuKva2d9"
      },
      "id": "-QHhQuKva2d9"
    },
    {
      "cell_type": "code",
      "source": [
        "country=\"Rwanda\""
      ],
      "metadata": {
        "id": "Sw7iEtqobDS_"
      },
      "id": "Sw7iEtqobDS_",
      "execution_count": null,
      "outputs": []
    },
    {
      "cell_type": "markdown",
      "source": [
        "Exercise 9"
      ],
      "metadata": {
        "id": "Ri2J2UXBblna"
      },
      "id": "Ri2J2UXBblna"
    },
    {
      "cell_type": "code",
      "source": [
        "age=25\n",
        "age=26\n",
        "print(age)"
      ],
      "metadata": {
        "colab": {
          "base_uri": "https://localhost:8080/"
        },
        "id": "Sy940xKYboCs",
        "outputId": "a7c56251-e33b-4a55-ebc9-f86071e30120"
      },
      "id": "Sy940xKYboCs",
      "execution_count": null,
      "outputs": [
        {
          "output_type": "stream",
          "name": "stdout",
          "text": [
            "26\n"
          ]
        }
      ]
    },
    {
      "cell_type": "markdown",
      "source": [
        "Exercise 10"
      ],
      "metadata": {
        "id": "w241JrgIcD60"
      },
      "id": "w241JrgIcD60"
    },
    {
      "cell_type": "code",
      "source": [
        "difference=20-7\n",
        "print(difference)"
      ],
      "metadata": {
        "colab": {
          "base_uri": "https://localhost:8080/"
        },
        "id": "GLAy-7G2cG6Q",
        "outputId": "61cc44c9-d6d7-4a1e-b9d4-fa4d36326381"
      },
      "id": "GLAy-7G2cG6Q",
      "execution_count": null,
      "outputs": [
        {
          "output_type": "stream",
          "name": "stdout",
          "text": [
            "13\n"
          ]
        }
      ]
    },
    {
      "cell_type": "code",
      "source": [
        "from google.colab import drive\n",
        "drive.mount('/content/drive')\n",
        "!git config --global user.name \"gemima123\"\n",
        "!git config --global user.email \"gemimagrace003@gmail.com\"\n"
      ],
      "metadata": {
        "colab": {
          "base_uri": "https://localhost:8080/"
        },
        "id": "JwQUb_oiivPF",
        "outputId": "34846cd4-3d9b-4c8c-9b66-697e0768d247"
      },
      "id": "JwQUb_oiivPF",
      "execution_count": null,
      "outputs": [
        {
          "output_type": "stream",
          "name": "stdout",
          "text": [
            "Drive already mounted at /content/drive; to attempt to forcibly remount, call drive.mount(\"/content/drive\", force_remount=True).\n"
          ]
        }
      ]
    },
    {
      "cell_type": "code",
      "source": [
        "!git clone https://github.com/gemima123/Takeher_python_basics.git\n"
      ],
      "metadata": {
        "colab": {
          "base_uri": "https://localhost:8080/"
        },
        "id": "JEP8or5GoP26",
        "outputId": "abf9197a-e320-46c9-ca87-88dac23bdd67"
      },
      "id": "JEP8or5GoP26",
      "execution_count": null,
      "outputs": [
        {
          "output_type": "stream",
          "name": "stdout",
          "text": [
            "Cloning into 'Takeher_python_basics'...\n",
            "remote: Enumerating objects: 6, done.\u001b[K\n",
            "remote: Counting objects: 100% (6/6), done.\u001b[K\n",
            "remote: Compressing objects: 100% (5/5), done.\u001b[K\n",
            "remote: Total 6 (delta 0), reused 3 (delta 0), pack-reused 0 (from 0)\u001b[K\n",
            "Receiving objects: 100% (6/6), done.\n"
          ]
        }
      ]
    },
    {
      "cell_type": "code",
      "source": [
        "%cd /content/drive/MyDrive"
      ],
      "metadata": {
        "colab": {
          "base_uri": "https://localhost:8080/"
        },
        "id": "KClyBkQwprQl",
        "outputId": "74134ead-15e0-4e6a-fc96-42f0e1e5c1be"
      },
      "id": "KClyBkQwprQl",
      "execution_count": null,
      "outputs": [
        {
          "output_type": "stream",
          "name": "stdout",
          "text": [
            "/content/drive/MyDrive\n"
          ]
        }
      ]
    },
    {
      "cell_type": "code",
      "source": [
        "!git clone https://github.com/gemima123/Takeher_python_basics.git"
      ],
      "metadata": {
        "colab": {
          "base_uri": "https://localhost:8080/"
        },
        "id": "dTcIgFlWpvPL",
        "outputId": "12e8a828-8137-4678-db22-062a4ec07271"
      },
      "id": "dTcIgFlWpvPL",
      "execution_count": null,
      "outputs": [
        {
          "output_type": "stream",
          "name": "stdout",
          "text": [
            "Cloning into 'Takeher_python_basics'...\n",
            "remote: Enumerating objects: 6, done.\u001b[K\n",
            "remote: Counting objects: 100% (6/6), done.\u001b[K\n",
            "remote: Compressing objects: 100% (5/5), done.\u001b[K\n",
            "remote: Total 6 (delta 0), reused 3 (delta 0), pack-reused 0 (from 0)\u001b[K\n",
            "Receiving objects: 100% (6/6), done.\n"
          ]
        }
      ]
    },
    {
      "cell_type": "code",
      "source": [
        "!ls /content/\n"
      ],
      "metadata": {
        "colab": {
          "base_uri": "https://localhost:8080/"
        },
        "id": "06K6h1OUrYbn",
        "outputId": "43812973-8c2c-4f98-a6d0-7f0020d4c380"
      },
      "id": "06K6h1OUrYbn",
      "execution_count": null,
      "outputs": [
        {
          "output_type": "stream",
          "name": "stdout",
          "text": [
            "drive  sample_data  Takeher_python_basics\n"
          ]
        }
      ]
    },
    {
      "cell_type": "code",
      "source": [
        "!rm -rf /content/drive/MyDrive/Takeher_python_basics\n"
      ],
      "metadata": {
        "id": "rUC1nmuFsaVt"
      },
      "id": "rUC1nmuFsaVt",
      "execution_count": null,
      "outputs": []
    },
    {
      "cell_type": "code",
      "source": [
        "!mv /content/Takeher_python_basics /content/drive/MyDrive/\n"
      ],
      "metadata": {
        "id": "UqXE0EC8sdfP"
      },
      "id": "UqXE0EC8sdfP",
      "execution_count": null,
      "outputs": []
    },
    {
      "cell_type": "code",
      "source": [
        "%cd /content/drive/MyDrive\n"
      ],
      "metadata": {
        "colab": {
          "base_uri": "https://localhost:8080/"
        },
        "id": "qMsYV5xpsuSC",
        "outputId": "7564b9c1-9506-4bff-939a-fb99c0c155bc"
      },
      "id": "qMsYV5xpsuSC",
      "execution_count": null,
      "outputs": [
        {
          "output_type": "stream",
          "name": "stdout",
          "text": [
            "/content/drive/MyDrive\n"
          ]
        }
      ]
    },
    {
      "cell_type": "code",
      "source": [
        "%cd /content/drive/MyDrive/Takeher_python_basics\n"
      ],
      "metadata": {
        "id": "G4gRWl0ztidZ",
        "outputId": "ca48a73d-5d47-48b7-b89b-61fd188c7039",
        "colab": {
          "base_uri": "https://localhost:8080/"
        }
      },
      "id": "G4gRWl0ztidZ",
      "execution_count": null,
      "outputs": [
        {
          "output_type": "stream",
          "name": "stdout",
          "text": [
            "/content/drive/MyDrive/Takeher_python_basics\n"
          ]
        }
      ]
    },
    {
      "cell_type": "code",
      "source": [
        "!git add ."
      ],
      "metadata": {
        "id": "wNZqUgKZvmFp"
      },
      "id": "wNZqUgKZvmFp",
      "execution_count": null,
      "outputs": []
    },
    {
      "cell_type": "code",
      "source": [
        "!git commit -m \"first 10 exercises\""
      ],
      "metadata": {
        "colab": {
          "base_uri": "https://localhost:8080/"
        },
        "id": "tYx3nP8Iv0Xc",
        "outputId": "7c1b339f-e73b-43cb-dc46-9bbe63d61872"
      },
      "id": "tYx3nP8Iv0Xc",
      "execution_count": null,
      "outputs": [
        {
          "output_type": "stream",
          "name": "stdout",
          "text": [
            "On branch main\n",
            "Your branch is up to date with 'origin/main'.\n",
            "\n",
            "nothing to commit, working tree clean\n"
          ]
        }
      ]
    },
    {
      "cell_type": "markdown",
      "source": [
        "Exercise 1"
      ],
      "metadata": {
        "id": "EoVOBT3TwoFV"
      },
      "id": "EoVOBT3TwoFV"
    },
    {
      "cell_type": "code",
      "source": [
        "x=10"
      ],
      "metadata": {
        "id": "quUhuXnqwqxD"
      },
      "id": "quUhuXnqwqxD",
      "execution_count": null,
      "outputs": []
    },
    {
      "cell_type": "markdown",
      "source": [
        "Exercise 2"
      ],
      "metadata": {
        "id": "Aa7PbU9Fwxxu"
      },
      "id": "Aa7PbU9Fwxxu"
    },
    {
      "cell_type": "code",
      "source": [
        "Is_valid=True"
      ],
      "metadata": {
        "id": "77MKnGCRw0lX"
      },
      "id": "77MKnGCRw0lX",
      "execution_count": null,
      "outputs": []
    },
    {
      "cell_type": "markdown",
      "source": [
        "Exercise 3"
      ],
      "metadata": {
        "id": "3LqtydZRw8xb"
      },
      "id": "3LqtydZRw8xb"
    },
    {
      "cell_type": "code",
      "source": [
        "name=\"python programming\""
      ],
      "metadata": {
        "id": "7x_VcPhDw-8Q"
      },
      "id": "7x_VcPhDw-8Q",
      "execution_count": null,
      "outputs": []
    },
    {
      "cell_type": "markdown",
      "source": [
        "Exercise 4"
      ],
      "metadata": {
        "id": "PxbV-oSlxJri"
      },
      "id": "PxbV-oSlxJri"
    },
    {
      "cell_type": "code",
      "source": [
        "sum_result=5+3"
      ],
      "metadata": {
        "id": "86jhyufMxMeJ"
      },
      "id": "86jhyufMxMeJ",
      "execution_count": null,
      "outputs": []
    },
    {
      "cell_type": "markdown",
      "source": [
        "Exercise 5"
      ],
      "metadata": {
        "id": "NwfvQl85xYEC"
      },
      "id": "NwfvQl85xYEC"
    },
    {
      "cell_type": "code",
      "source": [
        "a,b,c=5,10,15"
      ],
      "metadata": {
        "id": "3oE8XAx_xagK"
      },
      "id": "3oE8XAx_xagK",
      "execution_count": null,
      "outputs": []
    },
    {
      "cell_type": "markdown",
      "source": [
        "Exercise 6"
      ],
      "metadata": {
        "id": "f_S1CWF3xnBl"
      },
      "id": "f_S1CWF3xnBl"
    },
    {
      "cell_type": "code",
      "source": [
        "x=10\n",
        "y=x"
      ],
      "metadata": {
        "id": "dplgmh9uxq47"
      },
      "id": "dplgmh9uxq47",
      "execution_count": null,
      "outputs": []
    },
    {
      "cell_type": "markdown",
      "source": [
        "Exercise 7"
      ],
      "metadata": {
        "id": "VNrwdKZRx1dz"
      },
      "id": "VNrwdKZRx1dz"
    },
    {
      "cell_type": "code",
      "source": [
        "age=25\n",
        "age=26\n",
        "print(age)"
      ],
      "metadata": {
        "colab": {
          "base_uri": "https://localhost:8080/"
        },
        "id": "MbYoSByLx4td",
        "outputId": "cdc5f6bc-3d71-44a3-842d-582c91816734"
      },
      "id": "MbYoSByLx4td",
      "execution_count": null,
      "outputs": [
        {
          "output_type": "stream",
          "name": "stdout",
          "text": [
            "26\n"
          ]
        }
      ]
    },
    {
      "cell_type": "markdown",
      "source": [
        "Exercise 8"
      ],
      "metadata": {
        "id": "rMyGdjuRyBH8"
      },
      "id": "rMyGdjuRyBH8"
    },
    {
      "cell_type": "code",
      "source": [
        "country=\"Rwanda\""
      ],
      "metadata": {
        "id": "5Vya_0gCyDC8"
      },
      "id": "5Vya_0gCyDC8",
      "execution_count": null,
      "outputs": []
    },
    {
      "cell_type": "markdown",
      "source": [
        "Exercise 9"
      ],
      "metadata": {
        "id": "15SZmh-jyOSP"
      },
      "id": "15SZmh-jyOSP"
    },
    {
      "cell_type": "code",
      "source": [
        "age=25\n",
        "age=26\n",
        "print(age)"
      ],
      "metadata": {
        "id": "Sq_myR_qyRQA"
      },
      "id": "Sq_myR_qyRQA",
      "execution_count": null,
      "outputs": []
    },
    {
      "cell_type": "code",
      "source": [],
      "metadata": {
        "id": "xl_MKFhpydBc"
      },
      "id": "xl_MKFhpydBc",
      "execution_count": null,
      "outputs": []
    },
    {
      "cell_type": "markdown",
      "source": [
        "Exercise 10"
      ],
      "metadata": {
        "id": "NqXxk7H_ybU1"
      },
      "id": "NqXxk7H_ybU1"
    },
    {
      "cell_type": "code",
      "source": [
        "difference=20-7\n",
        "print(difference)"
      ],
      "metadata": {
        "id": "WElZMJeLymm6"
      },
      "id": "WElZMJeLymm6",
      "execution_count": null,
      "outputs": []
    },
    {
      "cell_type": "code",
      "source": [
        "!git add ."
      ],
      "metadata": {
        "id": "MWIvewS_y-8l"
      },
      "id": "MWIvewS_y-8l",
      "execution_count": null,
      "outputs": []
    },
    {
      "cell_type": "code",
      "source": [
        "!git commit -m \" first 10 exercises\""
      ],
      "metadata": {
        "colab": {
          "base_uri": "https://localhost:8080/"
        },
        "id": "FbGETFP3zDcD",
        "outputId": "8eda99d5-db2e-4541-f2f3-bf6784fef00d"
      },
      "id": "FbGETFP3zDcD",
      "execution_count": null,
      "outputs": [
        {
          "output_type": "stream",
          "name": "stdout",
          "text": [
            "On branch main\n",
            "Your branch is up to date with 'origin/main'.\n",
            "\n",
            "nothing to commit, working tree clean\n"
          ]
        }
      ]
    },
    {
      "cell_type": "code",
      "source": [
        "!git ls-files\n"
      ],
      "metadata": {
        "colab": {
          "base_uri": "https://localhost:8080/"
        },
        "id": "Z_JDEaFc0DO5",
        "outputId": "b4846d20-f078-4799-ab9f-884a3fbfddcf"
      },
      "id": "Z_JDEaFc0DO5",
      "execution_count": null,
      "outputs": [
        {
          "output_type": "stream",
          "name": "stdout",
          "text": [
            "Practical_1.ipynb\n",
            "README.md\n"
          ]
        }
      ]
    },
    {
      "cell_type": "code",
      "source": [
        "!ls"
      ],
      "metadata": {
        "colab": {
          "base_uri": "https://localhost:8080/"
        },
        "id": "D9AwWjcb0QEg",
        "outputId": "90e606ee-f30d-462d-bc7f-fdbe003203db"
      },
      "id": "D9AwWjcb0QEg",
      "execution_count": null,
      "outputs": [
        {
          "output_type": "stream",
          "name": "stdout",
          "text": [
            "Practical_1.ipynb  README.md\n"
          ]
        }
      ]
    },
    {
      "cell_type": "code",
      "source": [
        "! git add .\n",
        "!git commit -m\"first exercises\""
      ],
      "metadata": {
        "colab": {
          "base_uri": "https://localhost:8080/"
        },
        "id": "nbnRHaiq0ihZ",
        "outputId": "4974f597-31a2-4409-bd2d-e72652943b09"
      },
      "id": "nbnRHaiq0ihZ",
      "execution_count": null,
      "outputs": [
        {
          "output_type": "stream",
          "name": "stdout",
          "text": [
            "On branch main\n",
            "Your branch is up to date with 'origin/main'.\n",
            "\n",
            "nothing to commit, working tree clean\n"
          ]
        }
      ]
    },
    {
      "cell_type": "code",
      "source": [
        "pwd"
      ],
      "metadata": {
        "id": "iACYm9Sg15wC",
        "outputId": "f3172b5b-0843-4bf9-eaaa-b9a7cd93e1d3",
        "colab": {
          "base_uri": "https://localhost:8080/"
        }
      },
      "id": "iACYm9Sg15wC",
      "execution_count": null,
      "outputs": [
        {
          "output_type": "execute_result",
          "data": {
            "text/plain": [
              "'/content/drive/MyDrive/Takeher_python_basics'"
            ],
            "application/vnd.google.colaboratory.intrinsic+json": {
              "type": "string"
            }
          },
          "metadata": {},
          "execution_count": 51
        }
      ]
    },
    {
      "cell_type": "code",
      "source": [
        "!git add Practical_1.ipynb"
      ],
      "metadata": {
        "id": "OjGdSKkR2slq"
      },
      "id": "OjGdSKkR2slq",
      "execution_count": null,
      "outputs": []
    },
    {
      "cell_type": "code",
      "source": [
        "!git commit -m \"Update Practical_1 notebook\""
      ],
      "metadata": {
        "colab": {
          "base_uri": "https://localhost:8080/"
        },
        "id": "pg4SGp892v8C",
        "outputId": "541cdfa4-dbbd-434a-ff7b-04077fffbb4f"
      },
      "id": "pg4SGp892v8C",
      "execution_count": null,
      "outputs": [
        {
          "output_type": "stream",
          "name": "stdout",
          "text": [
            "On branch main\n",
            "Your branch is up to date with 'origin/main'.\n",
            "\n",
            "nothing to commit, working tree clean\n"
          ]
        }
      ]
    },
    {
      "cell_type": "code",
      "source": [
        "!git status"
      ],
      "metadata": {
        "colab": {
          "base_uri": "https://localhost:8080/"
        },
        "id": "jrJMwnUo3EIe",
        "outputId": "0be01cc6-56ac-400e-ee93-5d7e0f8e5b79"
      },
      "id": "jrJMwnUo3EIe",
      "execution_count": null,
      "outputs": [
        {
          "output_type": "stream",
          "name": "stdout",
          "text": [
            "On branch main\n",
            "Your branch is up to date with 'origin/main'.\n",
            "\n",
            "nothing to commit, working tree clean\n"
          ]
        }
      ]
    },
    {
      "cell_type": "code",
      "source": [
        "!git push"
      ],
      "metadata": {
        "colab": {
          "base_uri": "https://localhost:8080/"
        },
        "id": "RHCe56eN3GsS",
        "outputId": "1e69a445-6f7b-4e1d-c640-0c58bd978403"
      },
      "id": "RHCe56eN3GsS",
      "execution_count": null,
      "outputs": [
        {
          "output_type": "stream",
          "name": "stdout",
          "text": [
            "fatal: could not read Username for 'https://github.com': No such device or address\n"
          ]
        }
      ]
    },
    {
      "cell_type": "code",
      "source": [
        "!git config --global user.email \"gemimagrace003@gmail.co \"\n",
        "!git config --global user.name \"gemima123\"\n"
      ],
      "metadata": {
        "id": "8lZZgXrP3kp4"
      },
      "id": "8lZZgXrP3kp4",
      "execution_count": null,
      "outputs": []
    },
    {
      "cell_type": "code",
      "source": [
        "!git push"
      ],
      "metadata": {
        "colab": {
          "base_uri": "https://localhost:8080/"
        },
        "id": "kB4BncD_3vmn",
        "outputId": "4284a310-975e-44e3-921f-9f84c97b989e"
      },
      "id": "kB4BncD_3vmn",
      "execution_count": null,
      "outputs": [
        {
          "output_type": "stream",
          "name": "stdout",
          "text": [
            "fatal: could not read Username for 'https://github.com': No such device or address\n"
          ]
        }
      ]
    },
    {
      "cell_type": "code",
      "source": [
        "!git config --global user.email \"gemimagrace003@gmail.com\"\n",
        "!git config --global user.name \"gemima123\"\n"
      ],
      "metadata": {
        "id": "p49dvlq535wG"
      },
      "id": "p49dvlq535wG",
      "execution_count": null,
      "outputs": []
    },
    {
      "cell_type": "code",
      "source": [
        "!git push"
      ],
      "metadata": {
        "colab": {
          "base_uri": "https://localhost:8080/"
        },
        "id": "gSbdLZ0e4Ex_",
        "outputId": "76a4efbd-e98e-4f3e-82f6-0a0c1ac1fcfd"
      },
      "id": "gSbdLZ0e4Ex_",
      "execution_count": null,
      "outputs": [
        {
          "output_type": "stream",
          "name": "stdout",
          "text": [
            "fatal: could not read Username for 'https://github.com': No such device or address\n"
          ]
        }
      ]
    },
    {
      "cell_type": "code",
      "source": [
        "!git config --global user.email \"gemimagrace003@gmail.com\"\n",
        "!git config --global user.name \"gemima123\""
      ],
      "metadata": {
        "id": "-SfQ8B4F53Dz"
      },
      "id": "-SfQ8B4F53Dz",
      "execution_count": null,
      "outputs": []
    },
    {
      "cell_type": "code",
      "source": [
        "! git push"
      ],
      "metadata": {
        "colab": {
          "base_uri": "https://localhost:8080/"
        },
        "id": "JhaVnF1556xt",
        "outputId": "7ec6f755-9c44-46ab-c1c7-de7029f8a1a9"
      },
      "id": "JhaVnF1556xt",
      "execution_count": null,
      "outputs": [
        {
          "output_type": "stream",
          "name": "stdout",
          "text": [
            "fatal: could not read Username for 'https://github.com': No such device or address\n"
          ]
        }
      ]
    },
    {
      "cell_type": "markdown",
      "source": [
        "Exercise 11"
      ],
      "metadata": {
        "id": "UGtiMMch6jfC"
      },
      "id": "UGtiMMch6jfC"
    },
    {
      "cell_type": "code",
      "source": [
        "x = 10\n",
        "y = 3.14"
      ],
      "metadata": {
        "id": "r3VMpt5M6mXv"
      },
      "id": "r3VMpt5M6mXv",
      "execution_count": null,
      "outputs": []
    },
    {
      "cell_type": "markdown",
      "source": [
        "Exercisw 12"
      ],
      "metadata": {
        "id": "iH8f2dwH65MY"
      },
      "id": "iH8f2dwH65MY"
    },
    {
      "cell_type": "code",
      "source": [
        "IS_complete=False"
      ],
      "metadata": {
        "id": "xUvmDjPE67Jv"
      },
      "id": "xUvmDjPE67Jv",
      "execution_count": null,
      "outputs": []
    },
    {
      "cell_type": "markdown",
      "source": [
        "Exercise 26"
      ],
      "metadata": {
        "id": "5h0UGjinEU_U"
      },
      "id": "5h0UGjinEU_U"
    },
    {
      "cell_type": "code",
      "source": [
        "length=2\n",
        "width=3\n",
        "area=length*width\n",
        "print(area)\n"
      ],
      "metadata": {
        "colab": {
          "base_uri": "https://localhost:8080/"
        },
        "id": "xaiAB5IiEXAp",
        "outputId": "d1544036-0fa6-494a-d1aa-7452b51608e2"
      },
      "id": "xaiAB5IiEXAp",
      "execution_count": null,
      "outputs": [
        {
          "output_type": "stream",
          "name": "stdout",
          "text": [
            "6\n"
          ]
        }
      ]
    },
    {
      "cell_type": "markdown",
      "source": [
        "Exercise 27"
      ],
      "metadata": {
        "id": "mEiIeTACEmGx"
      },
      "id": "mEiIeTACEmGx"
    },
    {
      "cell_type": "code",
      "source": [
        "negative_value=-3"
      ],
      "metadata": {
        "id": "6HJl9d18E0Rj"
      },
      "id": "6HJl9d18E0Rj",
      "execution_count": null,
      "outputs": []
    },
    {
      "cell_type": "markdown",
      "source": [
        "Exercise 28"
      ],
      "metadata": {
        "id": "vZXrSHC7E4ou"
      },
      "id": "vZXrSHC7E4ou"
    },
    {
      "cell_type": "code",
      "source": [
        "greeting=\"Hello world\""
      ],
      "metadata": {
        "id": "QC_OUKzxE7Gt"
      },
      "id": "QC_OUKzxE7Gt",
      "execution_count": null,
      "outputs": []
    },
    {
      "cell_type": "markdown",
      "source": [
        "Exercise 29"
      ],
      "metadata": {
        "id": "nLFfLloxFLZV"
      },
      "id": "nLFfLloxFLZV"
    },
    {
      "cell_type": "code",
      "source": [
        "population=1000000000"
      ],
      "metadata": {
        "id": "-e45KIkzFNqr"
      },
      "id": "-e45KIkzFNqr",
      "execution_count": null,
      "outputs": []
    },
    {
      "cell_type": "markdown",
      "source": [
        "Exercise 30"
      ],
      "metadata": {
        "id": "kKUwJ4cxFbmA"
      },
      "id": "kKUwJ4cxFbmA"
    },
    {
      "cell_type": "code",
      "source": [
        "result=64"
      ],
      "metadata": {
        "id": "Rh1kdLsMFeQl"
      },
      "id": "Rh1kdLsMFeQl",
      "execution_count": null,
      "outputs": []
    },
    {
      "cell_type": "markdown",
      "source": [
        "Exercise"
      ],
      "metadata": {
        "id": "-9IJR5SmFqbR"
      },
      "id": "-9IJR5SmFqbR"
    },
    {
      "cell_type": "code",
      "source": [
        "fruits=[\"apple\",\"banana\",\"orange\"]"
      ],
      "metadata": {
        "id": "QhxVkJOVFscy"
      },
      "id": "QhxVkJOVFscy",
      "execution_count": null,
      "outputs": []
    },
    {
      "cell_type": "markdown",
      "source": [
        "Exercise 32"
      ],
      "metadata": {
        "id": "sJUt2uaqF35w"
      },
      "id": "sJUt2uaqF35w"
    },
    {
      "cell_type": "code",
      "source": [
        "coordinates=(10,20,30)"
      ],
      "metadata": {
        "id": "-L_gxZf0F7Z0"
      },
      "id": "-L_gxZf0F7Z0",
      "execution_count": null,
      "outputs": []
    },
    {
      "cell_type": "markdown",
      "source": [
        "Exercise 33"
      ],
      "metadata": {
        "id": "IhabJiW7GMQC"
      },
      "id": "IhabJiW7GMQC"
    },
    {
      "cell_type": "code",
      "source": [
        "person={\"isaac\":\"33\",\"john\":\"34\", \"claire\":\"23\"}\n",
        "print(person)"
      ],
      "metadata": {
        "colab": {
          "base_uri": "https://localhost:8080/"
        },
        "id": "WwNGbDREGOiR",
        "outputId": "85a3cbca-4ac5-4cd1-e6d4-405fd10d4f3e"
      },
      "id": "WwNGbDREGOiR",
      "execution_count": null,
      "outputs": [
        {
          "output_type": "stream",
          "name": "stdout",
          "text": [
            "{'isaac': '33', 'john': '34', 'claire': '23'}\n"
          ]
        }
      ]
    },
    {
      "cell_type": "markdown",
      "source": [
        "Exercise 34"
      ],
      "metadata": {
        "id": "V3s3vZjYG8S-"
      },
      "id": "V3s3vZjYG8S-"
    },
    {
      "cell_type": "code",
      "source": [
        "a = 5.5\n",
        "b = 3.2\n",
        "sum_result = a + b"
      ],
      "metadata": {
        "id": "4IZl9qrdG-90"
      },
      "id": "4IZl9qrdG-90",
      "execution_count": null,
      "outputs": []
    },
    {
      "cell_type": "markdown",
      "source": [
        "Exercise 35"
      ],
      "metadata": {
        "id": "bjXpAxIjHUfI"
      },
      "id": "bjXpAxIjHUfI"
    },
    {
      "cell_type": "code",
      "source": [
        "Is_sunny=10>5"
      ],
      "metadata": {
        "id": "U8LyhY8gHXbm"
      },
      "id": "U8LyhY8gHXbm",
      "execution_count": null,
      "outputs": []
    },
    {
      "cell_type": "markdown",
      "source": [
        "Exercise 36"
      ],
      "metadata": {
        "id": "kTouWTlDHo76"
      },
      "id": "kTouWTlDHo76"
    },
    {
      "cell_type": "code",
      "source": [
        "x=15\n",
        "y=\"claire\"\n",
        "print(x,y)"
      ],
      "metadata": {
        "colab": {
          "base_uri": "https://localhost:8080/"
        },
        "id": "T7m5saBuHrw0",
        "outputId": "024b3ee3-f79f-47f3-e44c-774165f3e707"
      },
      "id": "T7m5saBuHrw0",
      "execution_count": null,
      "outputs": [
        {
          "output_type": "stream",
          "name": "stdout",
          "text": [
            "15 claire\n"
          ]
        }
      ]
    },
    {
      "cell_type": "markdown",
      "source": [
        "Eercise 37"
      ],
      "metadata": {
        "id": "bCq01iJ7IBv_"
      },
      "id": "bCq01iJ7IBv_"
    },
    {
      "cell_type": "code",
      "source": [
        "x=20\n",
        "x=True\n",
        "print(x)"
      ],
      "metadata": {
        "colab": {
          "base_uri": "https://localhost:8080/"
        },
        "id": "26OcHsZlIE9e",
        "outputId": "f1ffed9f-b41e-40a4-93eb-1fdee594328f"
      },
      "id": "26OcHsZlIE9e",
      "execution_count": null,
      "outputs": [
        {
          "output_type": "stream",
          "name": "stdout",
          "text": [
            "True\n"
          ]
        }
      ]
    },
    {
      "cell_type": "markdown",
      "source": [
        "Exercise 38"
      ],
      "metadata": {
        "id": "rW1W9uvNIiro"
      },
      "id": "rW1W9uvNIiro"
    },
    {
      "cell_type": "code",
      "source": [
        "Is_weekend=False"
      ],
      "metadata": {
        "id": "SG4PlJDCIlrp"
      },
      "id": "SG4PlJDCIlrp",
      "execution_count": null,
      "outputs": []
    },
    {
      "cell_type": "markdown",
      "source": [
        "Exercise 39"
      ],
      "metadata": {
        "id": "PIiYRBNXIwpO"
      },
      "id": "PIiYRBNXIwpO"
    },
    {
      "cell_type": "code",
      "source": [
        "y=\" hi how are you\\nwhere do you come from\""
      ],
      "metadata": {
        "id": "Uh4Gtk2PIzr1"
      },
      "id": "Uh4Gtk2PIzr1",
      "execution_count": null,
      "outputs": []
    },
    {
      "cell_type": "markdown",
      "source": [
        "Exercise 40"
      ],
      "metadata": {
        "id": "cFQXC2aWJYzc"
      },
      "id": "cFQXC2aWJYzc"
    },
    {
      "cell_type": "code",
      "source": [
        "number = -25\n",
        "absolute_value = abs(number)"
      ],
      "metadata": {
        "id": "VwHPX1vpJbKi"
      },
      "id": "VwHPX1vpJbKi",
      "execution_count": null,
      "outputs": []
    },
    {
      "cell_type": "markdown",
      "source": [
        "Exercise 41"
      ],
      "metadata": {
        "id": "jcg9I842J51E"
      },
      "id": "jcg9I842J51E"
    },
    {
      "cell_type": "code",
      "source": [
        "floor_div_result=100/6"
      ],
      "metadata": {
        "id": "jud6SZfpJ72o"
      },
      "id": "jud6SZfpJ72o",
      "execution_count": null,
      "outputs": []
    },
    {
      "cell_type": "markdown",
      "source": [
        "Exercise 42"
      ],
      "metadata": {
        "id": "TKkHzy1CKXpr"
      },
      "id": "TKkHzy1CKXpr"
    },
    {
      "cell_type": "code",
      "source": [
        "mixeed_sum=10.5+5"
      ],
      "metadata": {
        "id": "LJ2IsKsFKaCJ"
      },
      "id": "LJ2IsKsFKaCJ",
      "execution_count": null,
      "outputs": []
    },
    {
      "cell_type": "markdown",
      "source": [
        "Exercise 43"
      ],
      "metadata": {
        "id": "obhVPP-0KvP7"
      },
      "id": "obhVPP-0KvP7"
    },
    {
      "cell_type": "code",
      "source": [
        "first_name = \"Jane\"\n",
        "last_name = \"Doe\"\n",
        "full_name = first_name + \" \" + last_name"
      ],
      "metadata": {
        "id": "-hvKzysBKzHl"
      },
      "id": "-hvKzysBKzHl",
      "execution_count": null,
      "outputs": []
    },
    {
      "cell_type": "markdown",
      "source": [
        "Exercise 44"
      ],
      "metadata": {
        "id": "YyVg9hGzLFed"
      },
      "id": "YyVg9hGzLFed"
    },
    {
      "cell_type": "code",
      "source": [
        "Empty_list=[]"
      ],
      "metadata": {
        "id": "UrREpME3LIgj"
      },
      "id": "UrREpME3LIgj",
      "execution_count": null,
      "outputs": []
    },
    {
      "cell_type": "markdown",
      "source": [
        "Exercise 45"
      ],
      "metadata": {
        "id": "OZkRtEDlLXS8"
      },
      "id": "OZkRtEDlLXS8"
    },
    {
      "cell_type": "code",
      "source": [
        "number = -25\n",
        "absolute_result = abs(number)"
      ],
      "metadata": {
        "id": "VHdygonGLZNm"
      },
      "id": "VHdygonGLZNm",
      "execution_count": null,
      "outputs": []
    },
    {
      "cell_type": "markdown",
      "source": [
        "Exercise 46"
      ],
      "metadata": {
        "id": "7DnsJomTLtZH"
      },
      "id": "7DnsJomTLtZH"
    },
    {
      "cell_type": "code",
      "source": [
        "sentence=len(\"this is a long sentence i could find\")\n",
        "print(sentence)"
      ],
      "metadata": {
        "colab": {
          "base_uri": "https://localhost:8080/"
        },
        "id": "VwpTaluPLvTp",
        "outputId": "371b67c4-e660-4573-dd4e-edfb11bf01c0"
      },
      "id": "VwpTaluPLvTp",
      "execution_count": null,
      "outputs": [
        {
          "output_type": "stream",
          "name": "stdout",
          "text": [
            "36\n"
          ]
        }
      ]
    },
    {
      "cell_type": "markdown",
      "source": [
        "Exercise 47"
      ],
      "metadata": {
        "id": "5QarkxeLMPN-"
      },
      "id": "5QarkxeLMPN-"
    },
    {
      "cell_type": "code",
      "source": [
        "divisin_result=2.3"
      ],
      "metadata": {
        "id": "AkDroy4KMRlm"
      },
      "id": "AkDroy4KMRlm",
      "execution_count": null,
      "outputs": []
    },
    {
      "cell_type": "markdown",
      "source": [
        "Exercise 48"
      ],
      "metadata": {
        "id": "CW1AENn7MsZv"
      },
      "id": "CW1AENn7MsZv"
    },
    {
      "cell_type": "code",
      "source": [
        "x=4\n",
        "y=3*x+5"
      ],
      "metadata": {
        "id": "G9nYGTaDMzNx"
      },
      "id": "G9nYGTaDMzNx",
      "execution_count": null,
      "outputs": []
    },
    {
      "cell_type": "markdown",
      "source": [
        "Exercise 49"
      ],
      "metadata": {
        "id": "kqiaFjD6N3Xf"
      },
      "id": "kqiaFjD6N3Xf"
    },
    {
      "cell_type": "code",
      "source": [
        "speed='100 km/hr'"
      ],
      "metadata": {
        "id": "edlCp6IzN6Xq"
      },
      "id": "edlCp6IzN6Xq",
      "execution_count": null,
      "outputs": []
    },
    {
      "cell_type": "markdown",
      "source": [
        "Exercise 50"
      ],
      "metadata": {
        "id": "ZnjltPNPOeYC"
      },
      "id": "ZnjltPNPOeYC"
    },
    {
      "cell_type": "code",
      "source": [
        "x=50\n",
        "y=40\n",
        "z=30\n",
        "average=x+y+x/3\n",
        "print(average)"
      ],
      "metadata": {
        "colab": {
          "base_uri": "https://localhost:8080/"
        },
        "id": "xCnUzHVdOhRj",
        "outputId": "92a5393c-e9e9-466b-b9f6-b1c37c442645"
      },
      "id": "xCnUzHVdOhRj",
      "execution_count": null,
      "outputs": [
        {
          "output_type": "stream",
          "name": "stdout",
          "text": [
            "106.66666666666667\n"
          ]
        }
      ]
    },
    {
      "cell_type": "code",
      "source": [
        "from google.colab import drive\n",
        "drive.mount('/content/drive')\n"
      ],
      "metadata": {
        "colab": {
          "base_uri": "https://localhost:8080/"
        },
        "id": "zi3kD-sRa1T7",
        "outputId": "ad936281-393f-4364-be9c-d5265abcbc1a"
      },
      "id": "zi3kD-sRa1T7",
      "execution_count": null,
      "outputs": [
        {
          "output_type": "stream",
          "name": "stdout",
          "text": [
            "Drive already mounted at /content/drive; to attempt to forcibly remount, call drive.mount(\"/content/drive\", force_remount=True).\n"
          ]
        }
      ]
    },
    {
      "cell_type": "code",
      "source": [
        "!mv Practical_1.ipynb Takeher_python_basics/\n"
      ],
      "metadata": {
        "colab": {
          "base_uri": "https://localhost:8080/"
        },
        "id": "wdVl0WJDcdue",
        "outputId": "c2197c44-450b-4f09-d87f-d9ff1a3b8c4e"
      },
      "id": "wdVl0WJDcdue",
      "execution_count": null,
      "outputs": [
        {
          "output_type": "stream",
          "name": "stdout",
          "text": [
            "mv: cannot stat 'Practical_1.ipynb': No such file or directory\n"
          ]
        }
      ]
    },
    {
      "cell_type": "code",
      "source": [
        "pwd"
      ],
      "metadata": {
        "colab": {
          "base_uri": "https://localhost:8080/",
          "height": 35
        },
        "id": "uxMc12z6dFQf",
        "outputId": "406592d3-25e4-43a1-8bd7-556a20e868df"
      },
      "id": "uxMc12z6dFQf",
      "execution_count": null,
      "outputs": [
        {
          "output_type": "execute_result",
          "data": {
            "text/plain": [
              "'/content/drive/MyDrive'"
            ],
            "application/vnd.google.colaboratory.intrinsic+json": {
              "type": "string"
            }
          },
          "metadata": {},
          "execution_count": 121
        }
      ]
    }
  ],
  "metadata": {
    "kernelspec": {
      "display_name": "Python 3 (ipykernel)",
      "language": "python",
      "name": "python3"
    },
    "language_info": {
      "codemirror_mode": {
        "name": "ipython",
        "version": 3
      },
      "file_extension": ".py",
      "mimetype": "text/x-python",
      "name": "python",
      "nbconvert_exporter": "python",
      "pygments_lexer": "ipython3",
      "version": "3.12.4"
    },
    "colab": {
      "provenance": []
    }
  },
  "nbformat": 4,
  "nbformat_minor": 5
}