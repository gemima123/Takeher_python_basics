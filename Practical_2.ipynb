{
  "cells": [
    {
      "cell_type": "markdown",
      "id": "d68c1dee",
      "metadata": {
        "id": "d68c1dee"
      },
      "source": [
        "# Practical_2: String and files"
      ]
    },
    {
      "cell_type": "markdown",
      "id": "bea983a3",
      "metadata": {
        "id": "bea983a3"
      },
      "source": [
        "---\n",
        "\n",
        "### Exercise 1:\n",
        "Create a string variable `text` and assign it the value `\"Python is amazing!\"`.\n",
        "\n",
        "```python\n",
        "# Exercise 1\n",
        "```\n",
        "\n",
        "---\n",
        "\n",
        "### Exercise 2:\n",
        "Find the length of the string `\"Hello, World!\"` and store it in a variable `length`.\n",
        "\n",
        "```python\n",
        "# Exercise 2\n",
        "```\n",
        "\n",
        "---\n",
        "\n",
        "### Exercise 3:\n",
        "Convert the string `\"python programming\"` to uppercase and store it in a variable `upper_text`.\n",
        "\n",
        "```python\n",
        "# Exercise 3\n",
        "```\n",
        "\n",
        "---\n",
        "\n",
        "### Exercise 4:\n",
        "Extract the first 5 characters from the string `\"Artificial Intelligence\"`.\n",
        "\n",
        "```python\n",
        "# Exercise 4\n",
        "```\n",
        "\n",
        "---\n",
        "\n",
        "### Exercise 5:\n",
        "Concatenate the strings `\"Hello\"` and `\"World\"` with a space in between.\n",
        "\n",
        "```python\n",
        "# Exercise 5\n",
        "```\n",
        "\n",
        "---\n",
        "\n",
        "### Exercise 6:\n",
        "Replace the word `\"dog\"` with `\"cat\"` in the string `\"The quick brown dog jumps over the lazy dog.\"`.\n",
        "\n",
        "```python\n",
        "# Exercise 6\n",
        "```\n",
        "\n",
        "---\n",
        "\n",
        "### Exercise 7:\n",
        "Split the string `\"apple,banana,orange\"` by commas and store the result in a list `fruits_list`.\n",
        "\n",
        "```python\n",
        "# Exercise 7\n",
        "```\n",
        "\n",
        "---\n",
        "\n",
        "### Exercise 8:\n",
        "Use string formatting to create the sentence `\"My name is Alice and I am 25 years old.\"`, where the name and age are variables.\n",
        "\n",
        "```python\n",
        "# Exercise 8\n",
        "```\n",
        "\n",
        "---\n",
        "\n",
        "### Exercise 9:\n",
        "Check if the string `\"python\"` is present in the sentence `\"I love python programming\"`.\n",
        "\n",
        "```python\n",
        "# Exercise 9\n",
        "```\n",
        "\n",
        "---\n",
        "\n",
        "### Exercise 10:\n",
        "Count the number of occurrences of the letter `\"e\"` in the string `\"Elephant is an elegant animal\"`.\n",
        "\n",
        "```python\n",
        "# Exercise 10\n",
        "```\n",
        "\n",
        "---\n",
        "\n",
        "### Exercise 11:\n",
        "Remove any leading and trailing spaces from the string `\"   Data Science   \"`.\n",
        "\n",
        "```python\n",
        "# Exercise 11\n",
        "```\n",
        "\n",
        "---\n",
        "\n",
        "### Exercise 12:\n",
        "Convert the string `\"100\"` into an integer and store it in a variable `int_value`.\n",
        "\n",
        "```python\n",
        "# Exercise 12\n",
        "```\n",
        "\n",
        "---\n",
        "\n",
        "### Exercise 13:\n",
        "Extract the substring `\"pro\"` from the string `\"programming\"`.\n",
        "\n",
        "```python\n",
        "# Exercise 13\n",
        "```\n",
        "\n",
        "---\n",
        "\n",
        "### Exercise 14:\n",
        "Check if the string `\"data\"` starts with `\"da\"` and ends with `\"ta\"`.\n",
        "\n",
        "```python\n",
        "# Exercise 14\n",
        "```\n",
        "\n",
        "---\n",
        "\n",
        "### Exercise 15:\n",
        "Reverse the string `\"machine learning\"` and store the result in `reversed_text`.\n",
        "\n",
        "```python\n",
        "# Exercise 15\n",
        "```\n",
        "\n",
        "---\n",
        "\n",
        "### Exercise 16:\n",
        "Convert the first letter of each word in the string `\"machine learning is fun\"` to uppercase.\n",
        "\n",
        "```python\n",
        "# Exercise 16\n",
        "```\n",
        "\n",
        "---\n",
        "\n",
        "### Exercise 17:\n",
        "Create a multiline string representing a poem and store it in a variable `poem`.\n",
        "\n",
        "```python\n",
        "# Exercise 17\n",
        "```\n",
        "\n",
        "---\n",
        "\n",
        "### Exercise 18:\n",
        "Write a string to a file named `\"output.txt\"`.\n",
        "\n",
        "```python\n",
        "# Exercise 18\n",
        "```\n",
        "\n",
        "---\n",
        "\n",
        "### Exercise 19:\n",
        "Read the contents of a file named `\"data.txt\"` and print it line by line.\n",
        "\n",
        "```python\n",
        "# Exercise 19\n",
        "```\n",
        "\n",
        "---\n",
        "\n",
        "### Exercise 20:\n",
        "Check if a file `\"example.txt\"` exists before opening it.\n",
        "\n",
        "```python\n",
        "# Exercise 20\n",
        "```\n",
        "\n",
        "---\n",
        "\n",
        "### Exercise 21:\n",
        "Append a new line `\"This is a new line\"` to an existing file `\"notes.txt\"`.\n",
        "\n",
        "```python\n",
        "# Exercise 21\n",
        "```\n",
        "\n",
        "---\n",
        "\n",
        "### Exercise 22:\n",
        "Read the contents of a file `\"log.txt\"` and store each line in a list `log_lines`.\n",
        "\n",
        "```python\n",
        "# Exercise 22\n",
        "```\n",
        "\n",
        "---\n",
        "\n",
        "### Exercise 23:\n",
        "Create a new file `\"report.txt\"` and write the string `\"Data analysis report\"` to it.\n",
        "\n",
        "```python\n",
        "# Exercise 23\n",
        "```\n",
        "\n",
        "---\n",
        "\n",
        "### Exercise 24:\n",
        "Replace the word `\"error\"` with `\"issue\"` in a file `\"log.txt\"`.\n",
        "\n",
        "```python\n",
        "# Exercise 24\n",
        "```\n",
        "\n",
        "---\n",
        "\n",
        "### Exercise 25:\n",
        "Count the number of words in a text file `\"document.txt\"`.\n",
        "\n",
        "```python\n",
        "# Exercise 25\n",
        "```\n",
        "\n",
        "---\n",
        "\n",
        "### Exercise 26:\n",
        "Write a Python script that reads a file `\"essay.txt\"` and prints the total number of lines, words, and characters.\n",
        "\n",
        "```python\n",
        "# Exercise 26\n",
        "```\n",
        "\n",
        "---\n",
        "\n",
        "### Exercise 27:\n",
        "Copy the contents of one file `\"source.txt\"` to another file `\"destination.txt\"`.\n",
        "\n",
        "```python\n",
        "# Exercise 27\n",
        "```\n",
        "\n",
        "---\n",
        "\n",
        "### Exercise 28:\n",
        "Write a Python function that takes a filename as input and returns the number of lines in the file.\n",
        "\n",
        "```python\n",
        "# Exercise 28\n",
        "```\n",
        "\n",
        "---\n",
        "\n",
        "### Exercise 29:\n",
        "Extract all the words from a text file `\"article.txt\"` that contain more than 5 characters.\n",
        "\n",
        "```python\n",
        "# Exercise 29\n",
        "```\n",
        "\n",
        "---\n",
        "\n",
        "### Exercise 30:\n",
        "Convert the contents of a file `\"notes.txt\"` to uppercase and save the result in another file `\"uppercase_notes.txt\"`.\n",
        "\n",
        "```python\n",
        "# Exercise 30\n",
        "```\n",
        "\n",
        "---\n",
        "\n",
        "### Exercise 31:\n",
        "Write a Python script that reads a file and removes all empty lines.\n",
        "\n",
        "```python\n",
        "# Exercise 31\n",
        "```\n",
        "\n",
        "---\n",
        "\n",
        "### Exercise 32:\n",
        "Open a file `\"config.txt\"` in both read and write mode.\n",
        "\n",
        "```python\n",
        "# Exercise 32\n",
        "```\n",
        "\n",
        "---\n",
        "\n",
        "### Exercise 33:\n",
        "Write a Python function that reads a file and prints the longest line in the file.\n",
        "\n",
        "```python\n",
        "# Exercise 33\n",
        "```\n",
        "\n",
        "---\n",
        "\n",
        "### Exercise 34:\n",
        "Write a Python script to count the frequency of each letter in a text file `\"message.txt\"`.\n",
        "\n",
        "```python\n",
        "# Exercise 34\n",
        "```\n",
        "\n",
        "---\n",
        "\n",
        "### Exercise 35:\n",
        "Write a Python script that reads a file and prints the total number of characters, excluding spaces.\n",
        "\n",
        "```python\n",
        "# Exercise 35\n",
        "```\n",
        "\n",
        "---\n",
        "\n",
        "### Exercise 36:\n",
        "Create a Python script to check whether a file is empty or not.\n",
        "\n",
        "```python\n",
        "# Exercise 36\n",
        "```\n",
        "\n",
        "---\n",
        "\n",
        "### Exercise 37:\n",
        "Write a Python function that reads a file and removes all punctuation marks from the text.\n",
        "\n",
        "```python\n",
        "# Exercise 37\n",
        "```\n",
        "\n",
        "---\n",
        "\n",
        "### Exercise 38:\n",
        "Create a Python function that writes a list of strings to a file, each string on a new line.\n",
        "\n",
        "```python\n",
        "# Exercise 38\n",
        "```\n",
        "\n",
        "---\n",
        "\n",
        "### Exercise 39:\n",
        "Write a Python script to count the number of lines that start with a specific letter (e.g., \"A\") in a text file.\n",
        "\n",
        "```python\n",
        "# Exercise 39\n",
        "```\n",
        "\n",
        "---\n",
        "\n",
        "### Exercise 40:\n",
        "Write a Python function that takes a string as input and writes it to a file `\"output.txt\"` in reverse order.\n",
        "\n",
        "```python\n",
        "# Exercise 40\n",
        "```\n",
        "\n",
        "---\n",
        "\n",
        "### Exercise 41:\n",
        "Write a Python script that reads a file and prints all the lines that contain the word `\"Python\"`.\n",
        "\n",
        "```python\n",
        "# Exercise 41\n",
        "```\n",
        "\n",
        "---\n",
        "\n",
        "### Exercise 42:\n",
        "Write a Python script that opens a file and removes all numeric digits from the file's content.\n",
        "\n",
        "```python\n",
        "# Exercise 42\n",
        "```\n",
        "\n",
        "---\n",
        "\n",
        "### Exercise 43:\n",
        "Write a Python script to find the most frequent word in a text file `\"book.txt\"`.\n",
        "\n",
        "```python\n",
        "# Exercise 43\n",
        "```\n",
        "\n",
        "---\n",
        "\n",
        "### Exercise 44:\n",
        "Write a Python script that reads a file and prints all the lines that contain exactly 5 words.\n",
        "\n",
        "```python\n",
        "# Exercise 44\n",
        "```\n",
        "\n",
        "---\n",
        "\n",
        "### Exercise 45:\n",
        "Write a Python script to read a file and print the first and last line of the file.\n",
        "\n",
        "```python\n",
        "# Exercise 45\n",
        "```\n",
        "\n",
        "---\n",
        "\n",
        "### Exercise 46:\n",
        "Write a Python script that checks if a file `\"students.txt\"` is writable.\n",
        "\n",
        "```python\n",
        "# Exercise 46\n",
        "```\n",
        "\n",
        "---\n",
        "\n",
        "### Exercise 47:\n",
        "Create a Python function that opens a file and returns the number of unique words in the file.\n",
        "\n",
        "```python\n",
        "# Exercise 47\n",
        "```\n",
        "\n",
        "---\n",
        "\n",
        "### Exercise 48:\n",
        "Write a Python script that reads a file and prints all lines in reverse order.\n",
        "\n",
        "```python\n",
        "# Exercise 48\n",
        "```\n",
        "\n",
        "---\n",
        "\n",
        "### Exercise 49:\n",
        "Write a Python function that reads a file and returns the most common letter in the text.\n",
        "\n",
        "```python\n",
        "# Exercise 49\n",
        "```\n",
        "\n",
        "---\n",
        "\n",
        "### Exercise 50:\n",
        "Write a Python script that reads a file and replaces every occurrence of `\"Python\"` with `\"Java\"`.\n",
        "\n",
        "```python\n",
        "# Exercise 50\n",
        "```\n",
        "\n",
        "---\n",
        "\n"
      ]
    },
    {
      "cell_type": "markdown",
      "source": [
        "Exercise 1"
      ],
      "metadata": {
        "id": "YnAxMGy26kv_"
      },
      "id": "YnAxMGy26kv_"
    },
    {
      "cell_type": "code",
      "source": [
        "text=\"python is amazing\""
      ],
      "metadata": {
        "id": "PxdZbsw36oKn"
      },
      "id": "PxdZbsw36oKn",
      "execution_count": 1,
      "outputs": []
    },
    {
      "cell_type": "markdown",
      "source": [
        "EXercise 2"
      ],
      "metadata": {
        "id": "10dsU5dM6_bH"
      },
      "id": "10dsU5dM6_bH"
    },
    {
      "cell_type": "code",
      "source": [
        "length=len(\"Hello,world\")\n",
        "print(length)"
      ],
      "metadata": {
        "colab": {
          "base_uri": "https://localhost:8080/"
        },
        "id": "kFjtL6jm7DKq",
        "outputId": "4b861224-6f93-4491-bed7-2b316e957113"
      },
      "id": "kFjtL6jm7DKq",
      "execution_count": 2,
      "outputs": [
        {
          "output_type": "stream",
          "name": "stdout",
          "text": [
            "11\n"
          ]
        }
      ]
    },
    {
      "cell_type": "markdown",
      "source": [
        "Exercise 3"
      ],
      "metadata": {
        "id": "BNG6BZmb7iv3"
      },
      "id": "BNG6BZmb7iv3"
    },
    {
      "cell_type": "code",
      "source": [
        "upper_text=\"python programming\".upper()\n",
        "print(upper_text)"
      ],
      "metadata": {
        "colab": {
          "base_uri": "https://localhost:8080/"
        },
        "id": "GPHB7-N_7_Rp",
        "outputId": "182dfb9b-6647-4215-8af5-a10e88b53e77"
      },
      "id": "GPHB7-N_7_Rp",
      "execution_count": 3,
      "outputs": [
        {
          "output_type": "stream",
          "name": "stdout",
          "text": [
            "PYTHON PROGRAMMING\n"
          ]
        }
      ]
    },
    {
      "cell_type": "markdown",
      "source": [
        "Exercise 5"
      ],
      "metadata": {
        "id": "kTEcLRMk9qDe"
      },
      "id": "kTEcLRMk9qDe"
    },
    {
      "cell_type": "code",
      "source": [
        "text=\"Artificial intelligence\"\n",
        "first_five=text[:5]\n",
        "print(first_five)"
      ],
      "metadata": {
        "colab": {
          "base_uri": "https://localhost:8080/"
        },
        "id": "AXhsW7-F9sl-",
        "outputId": "1d160de8-6d35-45e3-8228-7dddf8fcc5a6"
      },
      "id": "AXhsW7-F9sl-",
      "execution_count": 4,
      "outputs": [
        {
          "output_type": "stream",
          "name": "stdout",
          "text": [
            "Artif\n"
          ]
        }
      ]
    },
    {
      "cell_type": "markdown",
      "source": [
        "Exercise 6"
      ],
      "metadata": {
        "id": "8FYkLXhJ-YNs"
      },
      "id": "8FYkLXhJ-YNs"
    },
    {
      "cell_type": "code",
      "source": [
        "sentence = \"The quick brown dog jumps over the lazy dog.\"\n",
        "new_sentence=sentence.replace(\"dog\",\"cat\")\n",
        "print(new_sentence)"
      ],
      "metadata": {
        "colab": {
          "base_uri": "https://localhost:8080/"
        },
        "id": "xAwMKgC_-aT3",
        "outputId": "f0930157-5ddc-4733-f9ce-483ad859960c"
      },
      "id": "xAwMKgC_-aT3",
      "execution_count": 6,
      "outputs": [
        {
          "output_type": "stream",
          "name": "stdout",
          "text": [
            "The quick brown cat jumps over the lazy cat.\n"
          ]
        }
      ]
    },
    {
      "cell_type": "markdown",
      "source": [
        "Exercise 7"
      ],
      "metadata": {
        "id": "TEIGlW7P--zg"
      },
      "id": "TEIGlW7P--zg"
    },
    {
      "cell_type": "code",
      "source": [
        "name=\"Alice\"\n",
        "age=25\n",
        "sentence=f\"My name is {name} and I am {age} years old.\"\n",
        "print(sentence)\n"
      ],
      "metadata": {
        "colab": {
          "base_uri": "https://localhost:8080/"
        },
        "id": "rdKVsnD6_A_A",
        "outputId": "349b9ccd-83be-4995-e42f-892c5a3cc46e"
      },
      "id": "rdKVsnD6_A_A",
      "execution_count": 7,
      "outputs": [
        {
          "output_type": "stream",
          "name": "stdout",
          "text": [
            "My name is Alice and I am 25 years old.\n"
          ]
        }
      ]
    },
    {
      "cell_type": "markdown",
      "source": [
        "Exercise 9"
      ],
      "metadata": {
        "id": "Tk8nSLTkBaxx"
      },
      "id": "Tk8nSLTkBaxx"
    },
    {
      "cell_type": "code",
      "source": [
        "sentence=\"I love python programming.\"\n",
        "Is_present=\"python\"in sentence\n",
        "print(Is_present)"
      ],
      "metadata": {
        "colab": {
          "base_uri": "https://localhost:8080/"
        },
        "id": "XHhud6mnBdcV",
        "outputId": "c7e268d8-bf49-4e9d-9a3b-567c3b786baf"
      },
      "id": "XHhud6mnBdcV",
      "execution_count": 8,
      "outputs": [
        {
          "output_type": "stream",
          "name": "stdout",
          "text": [
            "True\n"
          ]
        }
      ]
    },
    {
      "cell_type": "markdown",
      "source": [
        "Exercise 10"
      ],
      "metadata": {
        "id": "H61pdo1ACRb5"
      },
      "id": "H61pdo1ACRb5"
    },
    {
      "cell_type": "code",
      "source": [
        "string=\"elephent is an elegant animal\"\n",
        "count_e=string.count('e')\n",
        "print(count_e)"
      ],
      "metadata": {
        "colab": {
          "base_uri": "https://localhost:8080/"
        },
        "id": "FYF9XKKRCU0G",
        "outputId": "000660b4-2396-431f-a187-20dc6b840c8b"
      },
      "id": "FYF9XKKRCU0G",
      "execution_count": 10,
      "outputs": [
        {
          "output_type": "stream",
          "name": "stdout",
          "text": [
            "5\n"
          ]
        }
      ]
    },
    {
      "cell_type": "markdown",
      "source": [
        "Exercise 11"
      ],
      "metadata": {
        "id": "B1KeVjCGFOTt"
      },
      "id": "B1KeVjCGFOTt"
    },
    {
      "cell_type": "code",
      "source": [
        "text= \" Data Science \"\n",
        "clean_text=text.strip()\n",
        "print(clean_text)"
      ],
      "metadata": {
        "colab": {
          "base_uri": "https://localhost:8080/"
        },
        "id": "mw4yi42zFT64",
        "outputId": "76756075-4449-42c8-e320-4eae993516fa"
      },
      "id": "mw4yi42zFT64",
      "execution_count": 12,
      "outputs": [
        {
          "output_type": "stream",
          "name": "stdout",
          "text": [
            "Data Science\n"
          ]
        }
      ]
    },
    {
      "cell_type": "markdown",
      "source": [
        "Exercise 12"
      ],
      "metadata": {
        "id": "CdcfOO-DGe7k"
      },
      "id": "CdcfOO-DGe7k"
    },
    {
      "cell_type": "code",
      "source": [
        "greetings=\"Hello\"+ \" \"+\"World\"\n",
        "print(greetings)"
      ],
      "metadata": {
        "colab": {
          "base_uri": "https://localhost:8080/"
        },
        "id": "GFsFUME8GhEp",
        "outputId": "a73b7b85-f8b7-44b5-a85a-394d62b77387"
      },
      "id": "GFsFUME8GhEp",
      "execution_count": 16,
      "outputs": [
        {
          "output_type": "stream",
          "name": "stdout",
          "text": [
            "Hello World\n"
          ]
        }
      ]
    },
    {
      "cell_type": "markdown",
      "source": [
        "Exercise 13"
      ],
      "metadata": {
        "id": "THrI8NW4HVzj"
      },
      "id": "THrI8NW4HVzj"
    },
    {
      "cell_type": "code",
      "source": [
        "Int_value=int(\"100\")\n",
        "print(Int_value)\n"
      ],
      "metadata": {
        "colab": {
          "base_uri": "https://localhost:8080/"
        },
        "id": "r4ths1JUHZpN",
        "outputId": "dccc1a03-2d93-4972-d687-d896e343135d"
      },
      "id": "r4ths1JUHZpN",
      "execution_count": 17,
      "outputs": [
        {
          "output_type": "stream",
          "name": "stdout",
          "text": [
            "100\n"
          ]
        }
      ]
    },
    {
      "cell_type": "markdown",
      "source": [
        "Exercise 14"
      ],
      "metadata": {
        "id": "OSP0FXQPICDI"
      },
      "id": "OSP0FXQPICDI"
    },
    {
      "cell_type": "code",
      "source": [
        "text=\"programming\"\n",
        "substring=text[:3]\n",
        "print(substring)"
      ],
      "metadata": {
        "colab": {
          "base_uri": "https://localhost:8080/"
        },
        "id": "hPn9UBN7IE96",
        "outputId": "9a61fb91-7d95-4959-bfe7-4930cd43cdbe"
      },
      "id": "hPn9UBN7IE96",
      "execution_count": 18,
      "outputs": [
        {
          "output_type": "stream",
          "name": "stdout",
          "text": [
            "pro\n"
          ]
        }
      ]
    },
    {
      "cell_type": "markdown",
      "source": [
        "Exercise 15"
      ],
      "metadata": {
        "id": "ja63rSmIJMvD"
      },
      "id": "ja63rSmIJMvD"
    },
    {
      "cell_type": "code",
      "source": [
        "text=\"Data\"\n",
        "starts_with_da = text.startswith(\"da\")\n",
        "ends_with_ta = text.endswith(\"ta\")\n",
        "print(starts_with_da)\n",
        "print(ends_with_ta)\n"
      ],
      "metadata": {
        "colab": {
          "base_uri": "https://localhost:8080/"
        },
        "id": "06zu2x-HJQgT",
        "outputId": "e9dcde49-28d7-4e3f-f732-ecec5f18b8b3"
      },
      "id": "06zu2x-HJQgT",
      "execution_count": 24,
      "outputs": [
        {
          "output_type": "stream",
          "name": "stdout",
          "text": [
            "False\n",
            "True\n"
          ]
        }
      ]
    },
    {
      "cell_type": "markdown",
      "source": [
        "Exercise 16"
      ],
      "metadata": {
        "id": "D-kOsd2WLHz3"
      },
      "id": "D-kOsd2WLHz3"
    },
    {
      "cell_type": "code",
      "source": [
        "text=\"machine learning\"\n",
        "reversed_text=text[::-1]\n",
        "print(reversed_text)"
      ],
      "metadata": {
        "colab": {
          "base_uri": "https://localhost:8080/"
        },
        "id": "iXpGy7Y5LKjq",
        "outputId": "906d6ccb-b6be-44c8-f5a2-c7adc48feccc"
      },
      "id": "iXpGy7Y5LKjq",
      "execution_count": 25,
      "outputs": [
        {
          "output_type": "stream",
          "name": "stdout",
          "text": [
            "gninrael enihcam\n"
          ]
        }
      ]
    },
    {
      "cell_type": "markdown",
      "source": [
        "Exercise 17"
      ],
      "metadata": {
        "id": "4p6rtds9L1sW"
      },
      "id": "4p6rtds9L1sW"
    },
    {
      "cell_type": "code",
      "source": [
        "text=\"machine learning is fun\"\n",
        "capitalized_text = text.title()\n",
        "print(capitalized_text)"
      ],
      "metadata": {
        "colab": {
          "base_uri": "https://localhost:8080/"
        },
        "id": "sVrD_7V6L4Xl",
        "outputId": "9d792ddc-d9e5-424d-96e0-ef14fd067eb6"
      },
      "id": "sVrD_7V6L4Xl",
      "execution_count": 28,
      "outputs": [
        {
          "output_type": "stream",
          "name": "stdout",
          "text": [
            "Machine Learning Is Fun\n"
          ]
        }
      ]
    },
    {
      "cell_type": "markdown",
      "source": [
        "Exercise 18"
      ],
      "metadata": {
        "id": "uRCIqBkoNAWQ"
      },
      "id": "uRCIqBkoNAWQ"
    },
    {
      "cell_type": "code",
      "source": [
        "text=\"this is the content to write string to the file\"\n",
        "with open(\"output.txt\", \"w\") as file:\n",
        "    file.write(text)"
      ],
      "metadata": {
        "id": "W6gMTQe-NCoJ"
      },
      "id": "W6gMTQe-NCoJ",
      "execution_count": 29,
      "outputs": []
    },
    {
      "cell_type": "markdown",
      "source": [
        "Exercise 19"
      ],
      "metadata": {
        "id": "WLnTDJEpOLb7"
      },
      "id": "WLnTDJEpOLb7"
    },
    {
      "cell_type": "markdown",
      "source": [
        "with open(\"data.txt\", \"r\") as file:\n",
        "    for line in file:\n",
        "        print(line.strip())"
      ],
      "metadata": {
        "id": "k2Xk-qj67Ju1"
      },
      "id": "k2Xk-qj67Ju1"
    },
    {
      "cell_type": "markdown",
      "source": [
        "Exercise 20"
      ],
      "metadata": {
        "id": "K4uZIB-o5a9t"
      },
      "id": "K4uZIB-o5a9t"
    },
    {
      "cell_type": "code",
      "source": [
        "poem = \"\"\"Roses are red,\n",
        "Violets are blue,\n",
        "Python is sweet,\n",
        "And so are you.\"\"\"\n",
        "print(poem)"
      ],
      "metadata": {
        "id": "RDG59_fV5dm7",
        "outputId": "af42274f-b319-4e1e-eda6-8cd009b05e3e",
        "colab": {
          "base_uri": "https://localhost:8080/"
        }
      },
      "id": "RDG59_fV5dm7",
      "execution_count": 3,
      "outputs": [
        {
          "output_type": "stream",
          "name": "stdout",
          "text": [
            "Roses are red,\n",
            "Violets are blue,\n",
            "Python is sweet,\n",
            "And so are you.\n"
          ]
        }
      ]
    }
  ],
  "metadata": {
    "kernelspec": {
      "display_name": "Python 3 (ipykernel)",
      "language": "python",
      "name": "python3"
    },
    "language_info": {
      "codemirror_mode": {
        "name": "ipython",
        "version": 3
      },
      "file_extension": ".py",
      "mimetype": "text/x-python",
      "name": "python",
      "nbconvert_exporter": "python",
      "pygments_lexer": "ipython3",
      "version": "3.11.2"
    },
    "colab": {
      "provenance": []
    }
  },
  "nbformat": 4,
  "nbformat_minor": 5
}