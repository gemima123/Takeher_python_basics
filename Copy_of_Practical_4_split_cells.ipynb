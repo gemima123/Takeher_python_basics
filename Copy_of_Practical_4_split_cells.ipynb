{
  "cells": [
    {
      "cell_type": "markdown",
      "id": "9fd00cef",
      "metadata": {
        "id": "9fd00cef"
      },
      "source": [
        "# Practical_4: Flow control"
      ]
    },
    {
      "cell_type": "markdown",
      "id": "497af3a0",
      "metadata": {
        "id": "497af3a0"
      },
      "source": [
        "\n",
        "\n",
        "---\n",
        "\n",
        "### Exercise 1:\n",
        "Write a Python program that checks if a number is positive or negative.\n"
      ]
    },
    {
      "cell_type": "code",
      "execution_count": null,
      "id": "4525d7b1",
      "metadata": {
        "id": "4525d7b1",
        "outputId": "7da511ba-011b-4725-f0f9-63bb01d42793",
        "colab": {
          "base_uri": "https://localhost:8080/"
        }
      },
      "outputs": [
        {
          "output_type": "stream",
          "name": "stdout",
          "text": [
            "Positive\n"
          ]
        }
      ],
      "source": [
        "num=50\n",
        "if num>0:\n",
        "  print(\"Positive\")\n",
        "elif num<0:\n",
        "  print(\"Negative\")\n",
        "else:\n",
        "  print(\"Zero\")"
      ]
    },
    {
      "cell_type": "markdown",
      "id": "289c0fec",
      "metadata": {
        "id": "289c0fec"
      },
      "source": [
        "\n",
        "---\n",
        "\n",
        "### Exercise 2:\n",
        "Write a Python function that checks if a string starts with a vowel.\n"
      ]
    },
    {
      "cell_type": "code",
      "execution_count": null,
      "id": "3adbe475",
      "metadata": {
        "id": "3adbe475",
        "outputId": "f95d9808-e9ae-42d5-b4e7-091b35c4054e",
        "colab": {
          "base_uri": "https://localhost:8080/"
        }
      },
      "outputs": [
        {
          "output_type": "stream",
          "name": "stdout",
          "text": [
            "Starts with a vowel\n"
          ]
        }
      ],
      "source": [
        "my_string=\"Amen\"\n",
        "if my_string[0] in \"aeiouAEIOU\":\n",
        "  print(\"Starts with a vowel\")\n",
        "else:\n",
        "  print(\"Does not start with a vowel\")"
      ]
    },
    {
      "cell_type": "markdown",
      "id": "d64fdd3e",
      "metadata": {
        "id": "d64fdd3e"
      },
      "source": [
        "\n",
        "---\n",
        "\n",
        "### Exercise 3:\n",
        "Write a Python program that takes a list of integers and prints \"Even\" for each even number and \"Odd\" for each odd number.\n"
      ]
    },
    {
      "cell_type": "code",
      "execution_count": null,
      "id": "e6926b1c",
      "metadata": {
        "id": "e6926b1c",
        "outputId": "5bc33c0f-f8a0-431f-bc74-bae4b6d103a4",
        "colab": {
          "base_uri": "https://localhost:8080/"
        }
      },
      "outputs": [
        {
          "output_type": "stream",
          "name": "stdout",
          "text": [
            "Odd\n",
            "Even\n",
            "Odd\n",
            "Even\n",
            "Odd\n",
            "Even\n",
            "Odd\n",
            "Even\n",
            "Odd\n",
            "Even\n"
          ]
        }
      ],
      "source": [
        "list_of_integers=[1,2,3,4,5,6,7,8,9,10]\n",
        "for i in list_of_integers:\n",
        "  if i%2==0:\n",
        "    print(\"Even\")\n",
        "  else:\n",
        "    print(\"Odd\")"
      ]
    },
    {
      "cell_type": "markdown",
      "id": "b5ce7b99",
      "metadata": {
        "id": "b5ce7b99"
      },
      "source": [
        "\n",
        "---\n",
        "\n",
        "### Exercise 4:\n",
        "Write a Python program that checks if a given year is a leap year.\n"
      ]
    },
    {
      "cell_type": "code",
      "execution_count": null,
      "id": "eb3d99f0",
      "metadata": {
        "id": "eb3d99f0",
        "outputId": "3278d0ac-5656-46bb-c0a9-69854ec3975f",
        "colab": {
          "base_uri": "https://localhost:8080/"
        }
      },
      "outputs": [
        {
          "output_type": "stream",
          "name": "stdout",
          "text": [
            "Not a leap year\n"
          ]
        }
      ],
      "source": [
        "year=2025\n",
        "if year%4==0:\n",
        "  print(\"Leap year\")\n",
        "else:\n",
        "  print(\"Not a leap year\")"
      ]
    },
    {
      "cell_type": "markdown",
      "id": "c5496d7d",
      "metadata": {
        "id": "c5496d7d"
      },
      "source": [
        "\n",
        "---\n",
        "\n",
        "### Exercise 5:\n",
        "Write a Python function that checks if a number is divisible by both 3 and 5.\n"
      ]
    },
    {
      "cell_type": "code",
      "execution_count": null,
      "id": "46b1bd68",
      "metadata": {
        "id": "46b1bd68",
        "outputId": "b3aa7e07-21b3-45a1-d4da-487ee62777ac",
        "colab": {
          "base_uri": "https://localhost:8080/"
        }
      },
      "outputs": [
        {
          "output_type": "stream",
          "name": "stdout",
          "text": [
            "Divisible by both 3 and 5\n"
          ]
        }
      ],
      "source": [
        "number=60\n",
        "if number%3==0 and number%5==0:\n",
        "  print(\"Divisible by both 3 and 5\")\n",
        "else:\n",
        "  print(\"Not divisible by both 3 and 5\")"
      ]
    },
    {
      "cell_type": "markdown",
      "id": "b0348707",
      "metadata": {
        "id": "b0348707"
      },
      "source": [
        "\n",
        "---\n",
        "\n",
        "### Exercise 6:\n",
        "Write a Python program that prints \"Hot\" if the temperature is above 30, \"Warm\" if it is between 15 and 30, and \"Cold\" if it is below 15.\n"
      ]
    },
    {
      "cell_type": "code",
      "execution_count": null,
      "id": "dfde8564",
      "metadata": {
        "id": "dfde8564",
        "outputId": "8afc15e0-da27-4f14-cfad-6e8bf9a1ba73",
        "colab": {
          "base_uri": "https://localhost:8080/"
        }
      },
      "outputs": [
        {
          "output_type": "stream",
          "name": "stdout",
          "text": [
            "Warm\n"
          ]
        }
      ],
      "source": [
        "temperature=25\n",
        "if temperature>30:\n",
        "  print(\"Hot\")\n",
        "elif temperature>=15 and temperature<=30:\n",
        "  print(\"Warm\")\n",
        "else:\n",
        "  print(\"Cold\")"
      ]
    },
    {
      "cell_type": "markdown",
      "id": "ec1d713e",
      "metadata": {
        "id": "ec1d713e"
      },
      "source": [
        "\n",
        "---\n",
        "\n",
        "### Exercise 7:\n",
        "Write a Python program that checks if a string contains the letter 'a'.\n"
      ]
    },
    {
      "cell_type": "code",
      "execution_count": null,
      "id": "2eb30c57",
      "metadata": {
        "id": "2eb30c57",
        "outputId": "19111328-52b2-4f37-fc6a-ddd688559ece",
        "colab": {
          "base_uri": "https://localhost:8080/"
        }
      },
      "outputs": [
        {
          "output_type": "stream",
          "name": "stdout",
          "text": [
            "Does not contain a\n"
          ]
        }
      ],
      "source": [
        "my_string=\"Amen\"\n",
        "if \"a\" in my_string:\n",
        "  print(\"Contains a\")\n",
        "else:\n",
        "  print(\"Does not contain a\")"
      ]
    },
    {
      "cell_type": "markdown",
      "id": "8194f567",
      "metadata": {
        "id": "8194f567"
      },
      "source": [
        "\n",
        "---\n",
        "\n",
        "### Exercise 8:\n",
        "Write a Python function that checks if two numbers are equal, or which one is larger.\n"
      ]
    },
    {
      "cell_type": "code",
      "execution_count": null,
      "id": "ede9943f",
      "metadata": {
        "id": "ede9943f",
        "outputId": "e83399fb-da02-4ed4-bc03-308f5a4c23e6",
        "colab": {
          "base_uri": "https://localhost:8080/"
        }
      },
      "outputs": [
        {
          "output_type": "stream",
          "name": "stdout",
          "text": [
            "num2 is larger\n"
          ]
        }
      ],
      "source": [
        "num1=15\n",
        "num2=30\n",
        "if num1==num2:\n",
        "  print(\"Equal\")\n",
        "elif num1>num2:\n",
        "  print(\"num1 is larger\")\n",
        "else:\n",
        "  print(\"num2 is larger\")"
      ]
    },
    {
      "cell_type": "markdown",
      "id": "9e86c97f",
      "metadata": {
        "id": "9e86c97f"
      },
      "source": [
        "\n",
        "---\n",
        "\n",
        "### Exercise 9:\n",
        "Write a Python program that checks if a list is empty.\n"
      ]
    },
    {
      "cell_type": "code",
      "execution_count": null,
      "id": "13738c3f",
      "metadata": {
        "id": "13738c3f",
        "outputId": "32ad1256-e2ee-41e2-dc72-d59723d2cfd4",
        "colab": {
          "base_uri": "https://localhost:8080/"
        }
      },
      "outputs": [
        {
          "output_type": "stream",
          "name": "stdout",
          "text": [
            "Empty\n"
          ]
        }
      ],
      "source": [
        "my_list=[]\n",
        "if len(my_list)==0:\n",
        "  print(\"Empty\")\n",
        "else:\n",
        "  print(\"Not empty\")"
      ]
    },
    {
      "cell_type": "markdown",
      "id": "645a85cc",
      "metadata": {
        "id": "645a85cc"
      },
      "source": [
        "\n",
        "---\n",
        "\n",
        "### Exercise 10:\n",
        "Write a Python function that takes two strings and checks if they are anagrams.\n"
      ]
    },
    {
      "cell_type": "code",
      "execution_count": null,
      "id": "756b7d46",
      "metadata": {
        "id": "756b7d46"
      },
      "outputs": [],
      "source": [
        "def my_function(str1,str2):\n",
        "  str1=str1.lower()\n",
        "  str2=str2.lower()\n",
        "  if sorted(str1)==sorted(str2):\n",
        "    print(\"anagram\")\n",
        "  else:\n",
        "    print(\"not anagram\")"
      ]
    },
    {
      "cell_type": "markdown",
      "id": "59ebce61",
      "metadata": {
        "id": "59ebce61"
      },
      "source": [
        "\n",
        "---\n",
        "\n",
        "### Exercise 11:\n",
        "Write a Python program that checks if a number is prime.\n"
      ]
    },
    {
      "cell_type": "code",
      "execution_count": null,
      "id": "b077d9a1",
      "metadata": {
        "id": "b077d9a1",
        "colab": {
          "base_uri": "https://localhost:8080/"
        },
        "outputId": "12229888-206a-4719-b732-ec5b7b0c0ebc"
      },
      "outputs": [
        {
          "output_type": "stream",
          "name": "stdout",
          "text": [
            "prime\n"
          ]
        }
      ],
      "source": [
        "num=40\n",
        "if num>1 and num%num==0:\n",
        " print(\"prime\")\n",
        "else:\n",
        "  print(\"not prime\")"
      ]
    },
    {
      "cell_type": "markdown",
      "id": "531463b8",
      "metadata": {
        "id": "531463b8"
      },
      "source": [
        "\n",
        "---\n",
        "\n",
        "### Exercise 12:\n",
        "Write a Python program that checks if a list of numbers is sorted in ascending order.\n"
      ]
    },
    {
      "cell_type": "code",
      "execution_count": null,
      "id": "01fc5a9e",
      "metadata": {
        "id": "01fc5a9e",
        "colab": {
          "base_uri": "https://localhost:8080/"
        },
        "outputId": "c299ecdf-32dd-4809-cbfb-a01702a91330"
      },
      "outputs": [
        {
          "output_type": "stream",
          "name": "stdout",
          "text": [
            "not sorted\n"
          ]
        }
      ],
      "source": [
        "my_list=[2,7,2,3,4,10]\n",
        "if my_list==sorted(my_list):\n",
        "  print(\"sorted\")\n",
        "else:\n",
        "  print(\"not sorted\")"
      ]
    },
    {
      "cell_type": "markdown",
      "id": "b15a0cca",
      "metadata": {
        "id": "b15a0cca"
      },
      "source": [
        "\n",
        "---\n",
        "\n",
        "### Exercise 13:\n",
        "Write a Python function that takes a character and checks if it is a digit.\n"
      ]
    },
    {
      "cell_type": "code",
      "execution_count": null,
      "id": "2dc9a053",
      "metadata": {
        "id": "2dc9a053",
        "colab": {
          "base_uri": "https://localhost:8080/"
        },
        "outputId": "97d2eaa6-a03e-4b8b-cd35-4e23fa96b265"
      },
      "outputs": [
        {
          "output_type": "execute_result",
          "data": {
            "text/plain": [
              "True"
            ]
          },
          "metadata": {},
          "execution_count": 11
        }
      ],
      "source": [
        "char='s'\n",
        "char.isdigit()\n",
        "char='5'\n",
        "char.isdigit()\n"
      ]
    },
    {
      "cell_type": "markdown",
      "id": "60190b10",
      "metadata": {
        "id": "60190b10"
      },
      "source": [
        "\n",
        "---\n",
        "\n",
        "### Exercise 14:\n",
        "Write a Python function that checks if a string contains only uppercase letters.\n"
      ]
    },
    {
      "cell_type": "code",
      "execution_count": null,
      "id": "4ed8ebfa",
      "metadata": {
        "id": "4ed8ebfa"
      },
      "outputs": [],
      "source": [
        "def my_function(string):\n",
        "  string=\"my BOOK\"\n",
        "  if string.isupper():\n",
        "    print(\"contains only uppercase letters\")\n",
        "  else:\n",
        "    print(\"does not contain only uppercase letters\")"
      ]
    },
    {
      "cell_type": "markdown",
      "id": "7f7dd4fd",
      "metadata": {
        "id": "7f7dd4fd"
      },
      "source": [
        "\n",
        "---\n",
        "\n",
        "### Exercise 15:\n",
        "Write a Python program that checks if a number is a multiple of 10.\n"
      ]
    },
    {
      "cell_type": "code",
      "execution_count": null,
      "id": "e35d5709",
      "metadata": {
        "id": "e35d5709",
        "colab": {
          "base_uri": "https://localhost:8080/"
        },
        "outputId": "60438ae9-4743-4828-c81a-9cf214054db5"
      },
      "outputs": [
        {
          "output_type": "stream",
          "name": "stdout",
          "text": [
            "multiple of 10\n"
          ]
        }
      ],
      "source": [
        "num=10\n",
        "if num%10==0:\n",
        "  print(\"multiple of 10\")\n",
        "else:\n",
        "  print(\"not multiple of 10\")\n"
      ]
    },
    {
      "cell_type": "markdown",
      "id": "83e1c5d3",
      "metadata": {
        "id": "83e1c5d3"
      },
      "source": [
        "\n",
        "---\n",
        "\n",
        "### Exercise 16:\n",
        "Write a Python function that checks if a list contains any duplicates.\n"
      ]
    },
    {
      "cell_type": "code",
      "execution_count": null,
      "id": "24d52edd",
      "metadata": {
        "id": "24d52edd"
      },
      "outputs": [],
      "source": [
        "\n",
        "def my_function(my_list):\n",
        " if len(my_list) != len(set(my_list)):\n",
        "   print(\"contains duplicates\")\n",
        " else:\n",
        "  print(\"does not contain duplicates\")\n",
        "  my_list=[1,1,3,3,5]\n",
        "  my_function(my_list)\n"
      ]
    },
    {
      "cell_type": "markdown",
      "id": "d9533146",
      "metadata": {
        "id": "d9533146"
      },
      "source": [
        "\n",
        "---\n",
        "\n",
        "### Exercise 17:\n",
        "Write a Python program that prints \"Teenager\" if the age is between 13 and 19, otherwise it prints \"Not a teenager.\"\n"
      ]
    },
    {
      "cell_type": "code",
      "execution_count": null,
      "id": "bd9212dd",
      "metadata": {
        "id": "bd9212dd",
        "colab": {
          "base_uri": "https://localhost:8080/"
        },
        "outputId": "8b76c2eb-1a61-486d-b379-cf41a0e1c348"
      },
      "outputs": [
        {
          "output_type": "stream",
          "name": "stdout",
          "text": [
            "Not a teenager\n"
          ]
        }
      ],
      "source": [
        "age=25\n",
        "if age>=13 and age<=19:\n",
        "  print(\"Teenager\")\n",
        "else:\n",
        "  print(\"Not a teenager\")"
      ]
    },
    {
      "cell_type": "markdown",
      "id": "370f2ba1",
      "metadata": {
        "id": "370f2ba1"
      },
      "source": [
        "\n",
        "---\n",
        "\n",
        "### Exercise 18:\n",
        "Write a Python function that checks if a list contains an element greater than 100.\n"
      ]
    },
    {
      "cell_type": "code",
      "execution_count": null,
      "id": "23cde312",
      "metadata": {
        "id": "23cde312"
      },
      "outputs": [],
      "source": [
        "def my_function(i):\n",
        "  for i in my_list:\n",
        "    if i>100:\n",
        "      print(\"contains an element greater than 100\")\n",
        "      break\n",
        "  else:\n",
        "    print(\"does not contain an element greater than 100\")\n",
        "    my_list=[1,1,3,3,5]\n",
        "    my_function(i)"
      ]
    },
    {
      "cell_type": "markdown",
      "id": "322ae5e3",
      "metadata": {
        "id": "322ae5e3"
      },
      "source": [
        "\n",
        "---\n",
        "\n",
        "### Exercise 19:\n",
        "Write a Python program that checks if a number is even or odd.\n"
      ]
    },
    {
      "cell_type": "code",
      "execution_count": null,
      "id": "a91bd104",
      "metadata": {
        "id": "a91bd104",
        "colab": {
          "base_uri": "https://localhost:8080/"
        },
        "outputId": "a3c9c111-f8ac-49fc-d629-e62d521495a1"
      },
      "outputs": [
        {
          "output_type": "stream",
          "name": "stdout",
          "text": [
            "even\n"
          ]
        }
      ],
      "source": [
        "num=8\n",
        "if num%2==0:\n",
        "  print(\"even\")\n",
        "else:\n",
        "  print(\"odd\")"
      ]
    },
    {
      "cell_type": "markdown",
      "id": "98e0835d",
      "metadata": {
        "id": "98e0835d"
      },
      "source": [
        "\n",
        "---\n",
        "\n",
        "### Exercise 20:\n",
        "Write a Python function that checks if a string ends with a punctuation mark.\n"
      ]
    },
    {
      "cell_type": "code",
      "execution_count": null,
      "id": "31fd2458",
      "metadata": {
        "id": "31fd2458",
        "colab": {
          "base_uri": "https://localhost:8080/"
        },
        "outputId": "f6b34824-5a46-40e9-f2be-1e932b1db342"
      },
      "outputs": [
        {
          "output_type": "stream",
          "name": "stdout",
          "text": [
            "does not end with a punctuation mark\n"
          ]
        }
      ],
      "source": [
        "string=\"Hello,\"\n",
        "if string[-1] in \".!?\":\n",
        "  print(\"ends with a punctuation mark\")\n",
        "else:\n",
        "  print(\"does not end with a punctuation mark\")"
      ]
    },
    {
      "cell_type": "markdown",
      "id": "fb313702",
      "metadata": {
        "id": "fb313702"
      },
      "source": [
        "\n",
        "---\n",
        "\n",
        "### Exercise 21:\n",
        "Write a Python program that prints \"Yes\" if the number is between 1 and 100, otherwise it prints \"No.\"\n"
      ]
    },
    {
      "cell_type": "code",
      "execution_count": null,
      "id": "e362bd56",
      "metadata": {
        "id": "e362bd56",
        "colab": {
          "base_uri": "https://localhost:8080/"
        },
        "outputId": "7998cb2f-957c-4b5b-ab34-07d78573510c"
      },
      "outputs": [
        {
          "output_type": "stream",
          "name": "stdout",
          "text": [
            "No\n"
          ]
        }
      ],
      "source": [
        "num=400\n",
        "if num>=1 and num<=100:\n",
        "  print(\"Yes\")\n",
        "else:\n",
        "  print(\"No\")"
      ]
    },
    {
      "cell_type": "markdown",
      "id": "3afeef94",
      "metadata": {
        "id": "3afeef94"
      },
      "source": [
        "\n",
        "---\n",
        "\n",
        "### Exercise 22:\n",
        "Write a Python program that checks if two strings have the same length.\n"
      ]
    },
    {
      "cell_type": "code",
      "execution_count": null,
      "id": "73b75867",
      "metadata": {
        "id": "73b75867",
        "colab": {
          "base_uri": "https://localhost:8080/"
        },
        "outputId": "51e5c427-968a-415b-fcd1-e3c6c6c07ff3"
      },
      "outputs": [
        {
          "output_type": "stream",
          "name": "stdout",
          "text": [
            "not same length\n"
          ]
        }
      ],
      "source": [
        "str1=\"Amen\"\n",
        "str2=\"Alice\"\n",
        "if len(str1)==len(str2):\n",
        "  print(\"same length\")\n",
        "else:\n",
        "  print(\"not same length\")"
      ]
    },
    {
      "cell_type": "markdown",
      "id": "bdd8e2ae",
      "metadata": {
        "id": "bdd8e2ae"
      },
      "source": [
        "\n",
        "---\n",
        "\n",
        "### Exercise 23:\n",
        "Write a Python function that checks if a number is greater than its reverse.\n"
      ]
    },
    {
      "cell_type": "code",
      "source": [
        "num=25\n",
        "if num>int(str(num)[::-1]):\n",
        "  print(\"greater than its reverse\")\n",
        "else:\n",
        "  print(\"not greater than its reverse\")"
      ],
      "metadata": {
        "id": "JUHlU24C0DsF"
      },
      "id": "JUHlU24C0DsF",
      "execution_count": null,
      "outputs": []
    },
    {
      "cell_type": "markdown",
      "id": "fab070bc",
      "metadata": {
        "id": "fab070bc"
      },
      "source": [
        "\n",
        "---\n",
        "\n",
        "### Exercise 24:\n",
        "Write a Python program that checks if a password contains both letters and numbers.\n"
      ]
    },
    {
      "cell_type": "code",
      "execution_count": null,
      "id": "6e22f9b2",
      "metadata": {
        "id": "6e22f9b2",
        "colab": {
          "base_uri": "https://localhost:8080/"
        },
        "outputId": "99bd8daa-7e56-486a-d2d5-eb010f08b374"
      },
      "outputs": [
        {
          "output_type": "stream",
          "name": "stdout",
          "text": [
            "contains both letters and numbers\n"
          ]
        }
      ],
      "source": [
        "password='jemima123'\n",
        "if any(char.isdigit() for char in password) and any(char.isalpha() for char in password):\n",
        "  print(\"contains both letters and numbers\")\n",
        "else:\n",
        "  print(\"does not contain both letters and numbers\")"
      ]
    },
    {
      "cell_type": "markdown",
      "id": "11cb6e7b",
      "metadata": {
        "id": "11cb6e7b"
      },
      "source": [
        "\n",
        "---\n",
        "\n",
        "### Exercise 25:\n",
        "Write a Python program that checks if a number is between two given numbers.\n"
      ]
    },
    {
      "cell_type": "code",
      "execution_count": null,
      "id": "38cab028",
      "metadata": {
        "id": "38cab028",
        "colab": {
          "base_uri": "https://localhost:8080/"
        },
        "outputId": "5dff9486-2a6a-4f24-f508-5a5cf1c520af"
      },
      "outputs": [
        {
          "output_type": "stream",
          "name": "stdout",
          "text": [
            "between two given numbers\n"
          ]
        }
      ],
      "source": [
        "num=3\n",
        "if num>=1 and num<=5:\n",
        "  print(\"between two given numbers\")\n",
        "else:\n",
        "  print(\"not between two given numbers\")"
      ]
    },
    {
      "cell_type": "markdown",
      "id": "50b24a42",
      "metadata": {
        "id": "50b24a42"
      },
      "source": [
        "\n",
        "---\n",
        "\n",
        "### Exercise 26:\n",
        "Write a Python function that checks if all characters in a string are unique.\n"
      ]
    },
    {
      "cell_type": "code",
      "execution_count": null,
      "id": "62537159",
      "metadata": {
        "id": "62537159",
        "colab": {
          "base_uri": "https://localhost:8080/"
        },
        "outputId": "185d783d-91f1-499d-d8c0-b693f7c3e5f3"
      },
      "outputs": [
        {
          "output_type": "stream",
          "name": "stdout",
          "text": [
            "all characters are unique\n"
          ]
        }
      ],
      "source": [
        "str=\"Amen\"\n",
        "if len(str)==len(set(str)):\n",
        "  print(\"all characters are unique\")\n",
        "else:\n",
        "  print(\"not all characters are unique\")"
      ]
    },
    {
      "cell_type": "markdown",
      "id": "54ffa82e",
      "metadata": {
        "id": "54ffa82e"
      },
      "source": [
        "\n",
        "---\n",
        "\n",
        "### Exercise 27:\n",
        "Write a Python program that checks if a number is a perfect square.\n"
      ]
    },
    {
      "cell_type": "code",
      "execution_count": null,
      "id": "dd0707b7",
      "metadata": {
        "id": "dd0707b7",
        "colab": {
          "base_uri": "https://localhost:8080/"
        },
        "outputId": "2488e4c4-1f0d-44a3-afe0-7f8123e2df4c"
      },
      "outputs": [
        {
          "output_type": "stream",
          "name": "stdout",
          "text": [
            "perfect number\n"
          ]
        }
      ],
      "source": [
        "num=25\n",
        "root=5\n",
        "if root*root==num:\n",
        "  print(\"perfect number\")\n",
        "else: print(\"not perfect number\")\n"
      ]
    },
    {
      "cell_type": "markdown",
      "id": "78349b82",
      "metadata": {
        "id": "78349b82"
      },
      "source": [
        "\n",
        "---\n",
        "\n",
        "### Exercise 28:\n",
        "Write a Python function that checks if a word is a palindrome.\n"
      ]
    },
    {
      "cell_type": "code",
      "execution_count": null,
      "id": "04056d04",
      "metadata": {
        "id": "04056d04",
        "colab": {
          "base_uri": "https://localhost:8080/"
        },
        "outputId": "7f135e24-1a60-4aa6-bc23-8f45f1672fc0"
      },
      "outputs": [
        {
          "output_type": "stream",
          "name": "stdout",
          "text": [
            "word is a palindrome.\n"
          ]
        }
      ],
      "source": [
        "def is_palindrome(word):\n",
        "    return word == word[::-1]\n",
        "word = \"madam\"\n",
        "if is_palindrome(word):\n",
        "    print(\"word is a palindrome.\")\n",
        "else:\n",
        "    print(\"word is not a palindrome.\")"
      ]
    },
    {
      "cell_type": "markdown",
      "id": "9728cce0",
      "metadata": {
        "id": "9728cce0"
      },
      "source": [
        "\n",
        "---\n",
        "\n",
        "### Exercise 29:\n",
        "Write a Python program that prints \"Fizz\" if a number is divisible by 3, \"Buzz\" if it is divisible by 5, and \"FizzBuzz\" if divisible by both.\n"
      ]
    },
    {
      "cell_type": "code",
      "execution_count": null,
      "id": "d3caedaa",
      "metadata": {
        "id": "d3caedaa",
        "colab": {
          "base_uri": "https://localhost:8080/"
        },
        "outputId": "3fa60a19-f82e-41dd-afbd-f2e2297291e3"
      },
      "outputs": [
        {
          "output_type": "stream",
          "name": "stdout",
          "text": [
            "not applicable\n"
          ]
        }
      ],
      "source": [
        "num=56\n",
        "if num%3==0 and num%5==0:\n",
        "  print(\"FIZZBUZZ\")\n",
        "elif num%3==0:\n",
        "    print(\"FIZZ\")\n",
        "elif num%5==0:\n",
        "      print(\"BUZZ\")\n",
        "else:\n",
        "      print(\"not applicable\")"
      ]
    },
    {
      "cell_type": "markdown",
      "id": "b3c19de5",
      "metadata": {
        "id": "b3c19de5"
      },
      "source": [
        "\n",
        "---\n",
        "\n",
        "### Exercise 30:\n",
        "Write a Python program that checks if the sum of the digits of a number is even.\n"
      ]
    },
    {
      "cell_type": "code",
      "source": [
        "def is_digit_even(number):\n",
        "    digit_sum = sum(i for i in number)\n",
        "    return digit_sum % 2 == 0\n",
        "num = 1234\n",
        "if is_digit_even(num):\n",
        "      print(\"sum of the digits is even\")\n",
        "else:\n",
        "      print(\"sum of the digits is odd\")\n",
        "\n"
      ],
      "metadata": {
        "colab": {
          "base_uri": "https://localhost:8080/",
          "height": 332
        },
        "id": "6L6issGkFcg0",
        "outputId": "cbc8a8cc-dbd5-4d2f-c0c2-bf89765b287e"
      },
      "id": "6L6issGkFcg0",
      "execution_count": null,
      "outputs": [
        {
          "output_type": "error",
          "ename": "TypeError",
          "evalue": "'int' object is not iterable",
          "traceback": [
            "\u001b[0;31m---------------------------------------------------------------------------\u001b[0m",
            "\u001b[0;31mTypeError\u001b[0m                                 Traceback (most recent call last)",
            "\u001b[0;32m<ipython-input-75-603edf93439e>\u001b[0m in \u001b[0;36m<cell line: 0>\u001b[0;34m()\u001b[0m\n\u001b[1;32m      3\u001b[0m     \u001b[0;32mreturn\u001b[0m \u001b[0mdigit_sum\u001b[0m \u001b[0;34m%\u001b[0m \u001b[0;36m2\u001b[0m \u001b[0;34m==\u001b[0m \u001b[0;36m0\u001b[0m\u001b[0;34m\u001b[0m\u001b[0;34m\u001b[0m\u001b[0m\n\u001b[1;32m      4\u001b[0m \u001b[0mnum\u001b[0m \u001b[0;34m=\u001b[0m \u001b[0;36m1234\u001b[0m\u001b[0;34m\u001b[0m\u001b[0;34m\u001b[0m\u001b[0m\n\u001b[0;32m----> 5\u001b[0;31m \u001b[0;32mif\u001b[0m \u001b[0mis_digit_even\u001b[0m\u001b[0;34m(\u001b[0m\u001b[0mnum\u001b[0m\u001b[0;34m)\u001b[0m\u001b[0;34m:\u001b[0m\u001b[0;34m\u001b[0m\u001b[0;34m\u001b[0m\u001b[0m\n\u001b[0m\u001b[1;32m      6\u001b[0m       \u001b[0mprint\u001b[0m\u001b[0;34m(\u001b[0m\u001b[0;34m\"sum of the digits is even\"\u001b[0m\u001b[0;34m)\u001b[0m\u001b[0;34m\u001b[0m\u001b[0;34m\u001b[0m\u001b[0m\n\u001b[1;32m      7\u001b[0m \u001b[0;32melse\u001b[0m\u001b[0;34m:\u001b[0m\u001b[0;34m\u001b[0m\u001b[0;34m\u001b[0m\u001b[0m\n",
            "\u001b[0;32m<ipython-input-75-603edf93439e>\u001b[0m in \u001b[0;36mis_digit_even\u001b[0;34m(number)\u001b[0m\n\u001b[1;32m      1\u001b[0m \u001b[0;32mdef\u001b[0m \u001b[0mis_digit_even\u001b[0m\u001b[0;34m(\u001b[0m\u001b[0mnumber\u001b[0m\u001b[0;34m)\u001b[0m\u001b[0;34m:\u001b[0m\u001b[0;34m\u001b[0m\u001b[0;34m\u001b[0m\u001b[0m\n\u001b[0;32m----> 2\u001b[0;31m     \u001b[0mdigit_sum\u001b[0m \u001b[0;34m=\u001b[0m \u001b[0msum\u001b[0m\u001b[0;34m(\u001b[0m\u001b[0mi\u001b[0m \u001b[0;32mfor\u001b[0m \u001b[0mi\u001b[0m \u001b[0;32min\u001b[0m \u001b[0mnumber\u001b[0m\u001b[0;34m)\u001b[0m\u001b[0;34m\u001b[0m\u001b[0;34m\u001b[0m\u001b[0m\n\u001b[0m\u001b[1;32m      3\u001b[0m     \u001b[0;32mreturn\u001b[0m \u001b[0mdigit_sum\u001b[0m \u001b[0;34m%\u001b[0m \u001b[0;36m2\u001b[0m \u001b[0;34m==\u001b[0m \u001b[0;36m0\u001b[0m\u001b[0;34m\u001b[0m\u001b[0;34m\u001b[0m\u001b[0m\n\u001b[1;32m      4\u001b[0m \u001b[0mnum\u001b[0m \u001b[0;34m=\u001b[0m \u001b[0;36m1234\u001b[0m\u001b[0;34m\u001b[0m\u001b[0;34m\u001b[0m\u001b[0m\n\u001b[1;32m      5\u001b[0m \u001b[0;32mif\u001b[0m \u001b[0mis_digit_even\u001b[0m\u001b[0;34m(\u001b[0m\u001b[0mnum\u001b[0m\u001b[0;34m)\u001b[0m\u001b[0;34m:\u001b[0m\u001b[0;34m\u001b[0m\u001b[0;34m\u001b[0m\u001b[0m\n",
            "\u001b[0;31mTypeError\u001b[0m: 'int' object is not iterable"
          ]
        }
      ]
    },
    {
      "cell_type": "markdown",
      "id": "dbe78293",
      "metadata": {
        "id": "dbe78293"
      },
      "source": [
        "\n",
        "---\n",
        "\n",
        "### Exercise 31:\n",
        "Write a Python program that checks if a string is a valid email address.\n"
      ]
    },
    {
      "cell_type": "code",
      "execution_count": null,
      "id": "dc64fe29",
      "metadata": {
        "id": "dc64fe29"
      },
      "outputs": [],
      "source": [
        "# Exercise 31"
      ]
    },
    {
      "cell_type": "markdown",
      "id": "32922851",
      "metadata": {
        "id": "32922851"
      },
      "source": [
        "\n",
        "---\n",
        "\n",
        "### Exercise 32:\n",
        "Write a Python function that checks if a number is within 10 of 100 or 200.\n"
      ]
    },
    {
      "cell_type": "code",
      "execution_count": null,
      "id": "c3ae205c",
      "metadata": {
        "id": "c3ae205c",
        "colab": {
          "base_uri": "https://localhost:8080/"
        },
        "outputId": "f294b439-1305-40d3-9dba-58600b6868e3"
      },
      "outputs": [
        {
          "output_type": "stream",
          "name": "stdout",
          "text": [
            "not within 10 of 100 or 200\n"
          ]
        }
      ],
      "source": [
        "num=321\n",
        "if num>=10 and num<=100:\n",
        "  print(\"within 10 of 100\")\n",
        "num=321\n",
        "if num>=10 and num<=100:\n",
        "  print(\"within 10 of 100\")\n",
        "elif num>=10 and num<=200:\n",
        "  print(\"within 10 of 200\")\n",
        "else:\n",
        "    print(\"not within 10 of 100 or 200\")"
      ]
    },
    {
      "cell_type": "markdown",
      "id": "fedc8718",
      "metadata": {
        "id": "fedc8718"
      },
      "source": [
        "\n",
        "---\n",
        "\n",
        "### Exercise 33:\n",
        "Write a Python program that checks if a given string is a valid URL.\n"
      ]
    },
    {
      "cell_type": "code",
      "execution_count": null,
      "id": "756593ce",
      "metadata": {
        "id": "756593ce"
      },
      "outputs": [],
      "source": []
    },
    {
      "cell_type": "markdown",
      "id": "13e8fcae",
      "metadata": {
        "id": "13e8fcae"
      },
      "source": [
        "\n",
        "---\n",
        "\n",
        "### Exercise 34:\n",
        "Write a Python program that checks if a list contains all even numbers.\n"
      ]
    },
    {
      "cell_type": "code",
      "execution_count": null,
      "id": "e3069861",
      "metadata": {
        "id": "e3069861",
        "colab": {
          "base_uri": "https://localhost:8080/"
        },
        "outputId": "029a24ad-c917-471e-dbc8-fddff38155b0"
      },
      "outputs": [
        {
          "output_type": "stream",
          "name": "stdout",
          "text": [
            "contains all even numbers\n",
            "contains all even numbers\n",
            "does not contain all even numbers\n"
          ]
        }
      ],
      "source": [
        "my_list=[1,2,3,4,5]\n",
        "for i in my_list:\n",
        " if i%2==0:\n",
        "    print(\"contains all even numbers\")\n",
        "\n",
        "else:\n",
        "  print(\"does not contain all even numbers\")"
      ]
    },
    {
      "cell_type": "markdown",
      "id": "f19e5362",
      "metadata": {
        "id": "f19e5362"
      },
      "source": [
        "\n",
        "---\n",
        "\n",
        "### Exercise 35:\n",
        "Write a Python program that checks if a word is longer than a given length.\n"
      ]
    },
    {
      "cell_type": "code",
      "execution_count": null,
      "id": "491df226",
      "metadata": {
        "id": "491df226",
        "colab": {
          "base_uri": "https://localhost:8080/"
        },
        "outputId": "26ef37da-0373-4de3-e1b2-3098a0ceb846"
      },
      "outputs": [
        {
          "output_type": "stream",
          "name": "stdout",
          "text": [
            "longer than a given length\n"
          ]
        }
      ],
      "source": [
        "word=\"my name is jemima\"\n",
        "if len(word)>5:\n",
        "  print(\"longer than a given length\")\n",
        "else:\n",
        "  print(\"not longer than a given length\")"
      ]
    },
    {
      "cell_type": "markdown",
      "id": "68956c6c",
      "metadata": {
        "id": "68956c6c"
      },
      "source": [
        "\n",
        "---\n",
        "\n",
        "### Exercise 36:\n",
        "Write a Python program that checks if a list contains only positive numbers.\n"
      ]
    },
    {
      "cell_type": "code",
      "execution_count": null,
      "id": "09112e89",
      "metadata": {
        "id": "09112e89",
        "colab": {
          "base_uri": "https://localhost:8080/"
        },
        "outputId": "4e4fe414-8bbc-4c66-fd23-d30381b58b07"
      },
      "outputs": [
        {
          "output_type": "stream",
          "name": "stdout",
          "text": [
            "contains only positive numbers\n"
          ]
        }
      ],
      "source": [
        "my_list=[1,2,3,4,5]\n",
        "for i in my_list:\n",
        "  if i>0:\n",
        "    print(\"contains only positive numbers\")\n",
        "    break\n",
        "else:\n",
        "  print(\"does not contain only positive numbers\")"
      ]
    },
    {
      "cell_type": "markdown",
      "id": "14f0333b",
      "metadata": {
        "id": "14f0333b"
      },
      "source": [
        "\n",
        "---\n",
        "\n",
        "### Exercise 37:\n",
        "Write a Python function that checks if a year is a century year (i.e., divisible by 100).\n"
      ]
    },
    {
      "cell_type": "code",
      "execution_count": null,
      "id": "9a0ee8fa",
      "metadata": {
        "id": "9a0ee8fa",
        "colab": {
          "base_uri": "https://localhost:8080/"
        },
        "outputId": "cee8e8dd-5c41-48df-a22d-19d1d869ca1e"
      },
      "outputs": [
        {
          "output_type": "stream",
          "name": "stdout",
          "text": [
            "not a century\n"
          ]
        }
      ],
      "source": [
        "year=2025\n",
        "if year%100==0:\n",
        "  print(\"is a century\")\n",
        "else:\n",
        "  print(\"not a century\")"
      ]
    },
    {
      "cell_type": "markdown",
      "id": "6271bb93",
      "metadata": {
        "id": "6271bb93"
      },
      "source": [
        "\n",
        "---\n",
        "\n",
        "### Exercise 38:\n",
        "Write a Python program that checks if the sum of a list of numbers is greater than 100.\n"
      ]
    },
    {
      "cell_type": "code",
      "execution_count": null,
      "id": "6ddf783b",
      "metadata": {
        "id": "6ddf783b",
        "colab": {
          "base_uri": "https://localhost:8080/"
        },
        "outputId": "7a0d4fea-af41-49be-9b95-f4722084053b"
      },
      "outputs": [
        {
          "output_type": "stream",
          "name": "stdout",
          "text": [
            "sum is not greater than 100\n"
          ]
        }
      ],
      "source": [
        "my_list=[1,2,3,4,5,6,78,0]\n",
        "if sum(my_list)>100:\n",
        "  print(\"sum is greater than 100\")\n",
        "else:\n",
        "  print(\"sum is not greater than 100\")"
      ]
    },
    {
      "cell_type": "markdown",
      "id": "8a8b88a8",
      "metadata": {
        "id": "8a8b88a8"
      },
      "source": [
        "\n",
        "---\n",
        "\n",
        "### Exercise 39:\n",
        "Write a Python function that checks if a given word is a substring of another string.\n"
      ]
    },
    {
      "cell_type": "code",
      "execution_count": null,
      "id": "2d077065",
      "metadata": {
        "id": "2d077065",
        "colab": {
          "base_uri": "https://localhost:8080/"
        },
        "outputId": "2695cdf7-01bc-4b78-a4ee-56e92446650d"
      },
      "outputs": [
        {
          "output_type": "stream",
          "name": "stdout",
          "text": [
            "is a substring\n"
          ]
        }
      ],
      "source": [
        "str1=\"my jesus\"\n",
        "str2=\"jesus\"\n",
        "if str2 in str1:\n",
        "  print(\"is a substring\")\n",
        "else:\n",
        "  print(\"is not a substring\")"
      ]
    },
    {
      "cell_type": "markdown",
      "id": "b21a3bd9",
      "metadata": {
        "id": "b21a3bd9"
      },
      "source": [
        "\n",
        "---\n",
        "\n",
        "### Exercise 40:\n",
        "Write a Python program that checks if a number is a power of 2.\n"
      ]
    },
    {
      "cell_type": "code",
      "execution_count": null,
      "id": "fa1ccd70",
      "metadata": {
        "id": "fa1ccd70",
        "colab": {
          "base_uri": "https://localhost:8080/"
        },
        "outputId": "ec01683a-42e6-4377-9ce0-9ef10060e658"
      },
      "outputs": [
        {
          "output_type": "stream",
          "name": "stdout",
          "text": [
            "is of power 2\n"
          ]
        }
      ],
      "source": [
        "num=4\n",
        "if num%2==0:\n",
        "  print(\"is of power 2\")\n",
        "else:\n",
        "  print(\"is not of power 2\")\n",
        "  print(\"is not of power 2\")"
      ]
    },
    {
      "cell_type": "markdown",
      "id": "5ecd119f",
      "metadata": {
        "id": "5ecd119f"
      },
      "source": [
        "\n",
        "---\n",
        "\n",
        "### Exercise 41:\n",
        "Write a Python function that checks if a string contains no spaces.\n"
      ]
    },
    {
      "cell_type": "code",
      "execution_count": null,
      "id": "8017833e",
      "metadata": {
        "id": "8017833e",
        "colab": {
          "base_uri": "https://localhost:8080/"
        },
        "outputId": "d9eb8688-6a29-445f-ca91-1755a8bede85"
      },
      "outputs": [
        {
          "output_type": "stream",
          "name": "stdout",
          "text": [
            "contains spaces\n"
          ]
        }
      ],
      "source": [
        "str=\"my name is jemima\"\n",
        "if \" \" in str:\n",
        "  print(\"contains spaces\")\n",
        "else:\n",
        "  print(\"does not contain spaces\")"
      ]
    },
    {
      "cell_type": "markdown",
      "id": "9b3c2803",
      "metadata": {
        "id": "9b3c2803"
      },
      "source": [
        "\n",
        "---\n",
        "\n",
        "### Exercise 42:\n",
        "Write a Python program that prints \"Yes\" if a number is divisible by both 2 and 3, otherwise it prints \"No.\"\n"
      ]
    },
    {
      "cell_type": "code",
      "execution_count": null,
      "id": "cdbf39a0",
      "metadata": {
        "id": "cdbf39a0",
        "colab": {
          "base_uri": "https://localhost:8080/"
        },
        "outputId": "84778457-18f6-44fa-e6d3-320644c5d8c1"
      },
      "outputs": [
        {
          "output_type": "stream",
          "name": "stdout",
          "text": [
            "NO\n"
          ]
        }
      ],
      "source": [
        "num=7\n",
        "if num%2==0 and num%3==0:\n",
        "  print(\"yes\")\n",
        "else:\n",
        "  print(\"NO\")"
      ]
    },
    {
      "cell_type": "markdown",
      "id": "5a691fcf",
      "metadata": {
        "id": "5a691fcf"
      },
      "source": [
        "\n",
        "---\n",
        "\n",
        "### Exercise 43:\n",
        "Write a Python program that checks if a number is a palindrome.\n"
      ]
    },
    {
      "cell_type": "code",
      "source": [
        "num=54\n",
        "if str(num)==str(num)[::-1]:\n",
        "  print(\"palindrome\")\n",
        "else:\n",
        "  print(\"not palindrome\")"
      ],
      "metadata": {
        "id": "mwf7xV7RxolR"
      },
      "id": "mwf7xV7RxolR",
      "execution_count": null,
      "outputs": []
    },
    {
      "cell_type": "markdown",
      "id": "49dfa276",
      "metadata": {
        "id": "49dfa276"
      },
      "source": [
        "\n",
        "---\n",
        "\n",
        "### Exercise 44:\n",
        "Write a Python function that checks if a string is made of only lowercase letters.\n"
      ]
    },
    {
      "cell_type": "code",
      "execution_count": null,
      "id": "2aa39193",
      "metadata": {
        "id": "2aa39193",
        "colab": {
          "base_uri": "https://localhost:8080/"
        },
        "outputId": "040adccf-2fc0-4a9b-dd1c-f180c8e57318"
      },
      "outputs": [
        {
          "output_type": "stream",
          "name": "stdout",
          "text": [
            "made of only lowercase letters\n"
          ]
        }
      ],
      "source": [
        "str=\"how are you\"\n",
        "if str.islower():\n",
        "  print(\"made of only lowercase letters\")\n",
        "else:\n",
        "  print(\"not made of only lowercase letters\")"
      ]
    },
    {
      "cell_type": "markdown",
      "id": "e5ba21ba",
      "metadata": {
        "id": "e5ba21ba"
      },
      "source": [
        "\n",
        "---\n",
        "\n",
        "### Exercise 45:\n",
        "Write a Python program that checks if a string starts with a specific prefix.\n"
      ]
    },
    {
      "cell_type": "code",
      "execution_count": null,
      "id": "e6670049",
      "metadata": {
        "id": "e6670049",
        "colab": {
          "base_uri": "https://localhost:8080/"
        },
        "outputId": "4e676499-d2a5-41c1-bc0a-bf76267d69d1"
      },
      "outputs": [
        {
          "output_type": "stream",
          "name": "stdout",
          "text": [
            "starts with a specific prefix\n"
          ]
        }
      ],
      "source": [
        "str=\"how are you\"\n",
        "if str.startswith(\"how\"):\n",
        "  print(\"starts with a specific prefix\")\n",
        "else:\n",
        "  print(\"not starts with a specific prefix\")"
      ]
    },
    {
      "cell_type": "markdown",
      "id": "1ee0a3b5",
      "metadata": {
        "id": "1ee0a3b5"
      },
      "source": [
        "\n",
        "---\n",
        "\n",
        "### Exercise 46:\n",
        "Write a Python function that checks if a number is divisible by any number in a given list.\n"
      ]
    },
    {
      "cell_type": "code",
      "execution_count": null,
      "id": "7d01ccf9",
      "metadata": {
        "id": "7d01ccf9",
        "colab": {
          "base_uri": "https://localhost:8080/"
        },
        "outputId": "a2e11103-0059-466f-a1af-c0bbb5911a99"
      },
      "outputs": [
        {
          "output_type": "stream",
          "name": "stdout",
          "text": [
            "divisible by any number in a given list\n",
            "divisible by any number in a given list\n",
            "divisible by any number in a given list\n"
          ]
        }
      ],
      "source": [
        "num=54\n",
        "my_list=[1,2,3,4,5]\n",
        "for i in my_list:\n",
        "  if num%i==0:\n",
        "    print(\"divisible by any number in a given list\")"
      ]
    },
    {
      "cell_type": "markdown",
      "id": "1563300f",
      "metadata": {
        "id": "1563300f"
      },
      "source": [
        "\n",
        "---\n",
        "\n",
        "### Exercise 47:\n",
        "Write a Python program that prints \"Yes\" if a string has more than one occurrence of the same letter.\n"
      ]
    },
    {
      "cell_type": "code",
      "execution_count": null,
      "id": "923dcbc1",
      "metadata": {
        "id": "923dcbc1",
        "colab": {
          "base_uri": "https://localhost:8080/"
        },
        "outputId": "c4a951c1-cb36-4fd7-e4c8-f9b0e65e67ff"
      },
      "outputs": [
        {
          "output_type": "stream",
          "name": "stdout",
          "text": [
            "yes\n"
          ]
        }
      ],
      "source": [
        "str=\"how have you been\"\n",
        "for char in str:\n",
        "  if str.count(char)>1:\n",
        "    print(\"yes\")\n",
        "    break\n",
        "else:\n",
        "  print(\"no\")"
      ]
    },
    {
      "cell_type": "markdown",
      "id": "ecfb7eba",
      "metadata": {
        "id": "ecfb7eba"
      },
      "source": [
        "\n",
        "---\n",
        "\n",
        "### Exercise 48:\n",
        "Write a Python function that checks if a number is prime by dividing it by numbers up to its square root.\n"
      ]
    },
    {
      "cell_type": "code",
      "execution_count": null,
      "id": "3492a570",
      "metadata": {
        "id": "3492a570",
        "colab": {
          "base_uri": "https://localhost:8080/"
        },
        "outputId": "e2ae3bcd-b3b5-489e-f6da-fef015b6d4d0"
      },
      "outputs": [
        {
          "output_type": "stream",
          "name": "stdout",
          "text": [
            "not prime\n"
          ]
        }
      ],
      "source": [
        "num=54\n",
        "for i in range(2,int(num**0.5)+1):\n",
        "  if num%i==0:\n",
        "    print(\"not prime\")\n",
        "    break\n",
        "else:\n",
        "  print(\"prime\")"
      ]
    },
    {
      "cell_type": "markdown",
      "id": "efb3508c",
      "metadata": {
        "id": "efb3508c"
      },
      "source": [
        "\n",
        "---\n",
        "\n",
        "### Exercise 49:\n",
        "Write a Python program that checks if a number is within 1 of a multiple of 10.\n"
      ]
    },
    {
      "cell_type": "code",
      "execution_count": null,
      "id": "fc272cc0",
      "metadata": {
        "id": "fc272cc0",
        "colab": {
          "base_uri": "https://localhost:8080/"
        },
        "outputId": "ce11707d-24a6-4e9e-ad8c-d1d7294a96ac"
      },
      "outputs": [
        {
          "output_type": "stream",
          "name": "stdout",
          "text": [
            "not within 1 of a multiple of 10\n"
          ]
        }
      ],
      "source": [
        "num=4\n",
        "if num%10==0 or num%10==1:\n",
        "  print(\"within 1 of a multiple of 10\")\n",
        "else:\n",
        "  print(\"not within 1 of a multiple of 10\")"
      ]
    },
    {
      "cell_type": "markdown",
      "id": "8c58ab68",
      "metadata": {
        "id": "8c58ab68"
      },
      "source": [
        "\n",
        "---\n",
        "\n",
        "### Exercise 50:\n",
        "Write a Python program that prints \"In range\" if a number is between 10 and 20 (inclusive), otherwise it prints \"Out of range.\"\n"
      ]
    },
    {
      "cell_type": "code",
      "execution_count": null,
      "id": "24ea2036",
      "metadata": {
        "id": "24ea2036",
        "colab": {
          "base_uri": "https://localhost:8080/"
        },
        "outputId": "32daef87-87a9-40c9-cae3-27bceecab64d"
      },
      "outputs": [
        {
          "output_type": "stream",
          "name": "stdout",
          "text": [
            "in range\n"
          ]
        }
      ],
      "source": [
        "num=13\n",
        "if num>=10 and num<=20:\n",
        "  print(\"in range\")\n",
        "else:\n",
        "  print(\"out of range\")"
      ]
    },
    {
      "cell_type": "markdown",
      "id": "87ccd774",
      "metadata": {
        "id": "87ccd774"
      },
      "source": [
        "\n",
        "---"
      ]
    }
  ],
  "metadata": {
    "kernelspec": {
      "display_name": "Python 3 (ipykernel)",
      "language": "python",
      "name": "python3"
    },
    "language_info": {
      "codemirror_mode": {
        "name": "ipython",
        "version": 3
      },
      "file_extension": ".py",
      "mimetype": "text/x-python",
      "name": "python",
      "nbconvert_exporter": "python",
      "pygments_lexer": "ipython3",
      "version": "3.11.2"
    },
    "colab": {
      "provenance": []
    }
  },
  "nbformat": 4,
  "nbformat_minor": 5
}